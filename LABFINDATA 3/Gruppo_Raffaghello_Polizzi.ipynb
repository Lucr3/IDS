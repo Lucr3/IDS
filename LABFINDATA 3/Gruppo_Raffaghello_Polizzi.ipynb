{
  "cells": [
    {
      "cell_type": "markdown",
      "metadata": {
        "id": "M7CF3xJBljqo"
      },
      "source": [
        "1. Integrazione\n",
        "\n",
        "\n",
        "\n",
        "Per ciascun gruppo di dati hai 2 tabelle titles. Procedi con i seguenti passi:\n",
        "- Fai join tra queste 2 tabelle per ottenere una tabella integrata\n",
        "- Crea una nuova tabella <piattaforma>_titles_combinata.csv ottenuta a partire da <piattaforma>_titles_1.csv ed aggiungendo le colonne date_added e country che trovi in <piattaforma>_titles_2.csv\n",
        "- Fai join tra la tabella ottenuta e la tabella credits\n",
        "- Procedi con la pulizia dei dati: elimina colonne inutili o ripetute, righe non significative, gestisci la presenza di eventuali valori nulli o mancanti, ecc...\n",
        "Dopo aver preparato i due dataset, puoi decidere di concatenarli per ottenerne uno unico, oppure mantenerli separati."
      ]
    },
    {
      "cell_type": "code",
      "execution_count": 103,
      "metadata": {
        "id": "YJxVyMSKljqu"
      },
      "outputs": [],
      "source": [
        "#importiamo pandas ed altro che ci servirà più avanti\n",
        "import pandas as pd\n",
        "import numpy as np \n",
        "import math\n",
        "import matplotlib.pyplot as plt"
      ]
    },
    {
      "cell_type": "code",
      "execution_count": 104,
      "metadata": {
        "id": "5garNFRwljqv"
      },
      "outputs": [],
      "source": [
        "#carichiamo i dati netflix\n",
        "netflix_titles_1 = pd.read_csv(\"netflix_titles_1.csv\")\n",
        "netflix_titles_2 = pd.read_csv(\"netflix_titles_2.csv\")\n",
        "netfilx_credits = pd.read_csv(\"netflix_credits.csv\")\n"
      ]
    },
    {
      "cell_type": "code",
      "execution_count": 105,
      "metadata": {
        "colab": {
          "base_uri": "https://localhost:8080/"
        },
        "id": "EVgLY_Zlljqv",
        "outputId": "321c654d-99d8-48a6-8b1c-064f599e0e7c"
      },
      "outputs": [
        {
          "name": "stdout",
          "output_type": "stream",
          "text": [
            "<class 'pandas.core.frame.DataFrame'>\n",
            "RangeIndex: 6017 entries, 0 to 6016\n",
            "Data columns (total 15 columns):\n",
            " #   Column                Non-Null Count  Dtype  \n",
            "---  ------                --------------  -----  \n",
            " 0   id                    6017 non-null   object \n",
            " 1   title                 6017 non-null   object \n",
            " 2   type                  6017 non-null   object \n",
            " 3   description           5995 non-null   object \n",
            " 4   release_year          6017 non-null   int64  \n",
            " 5   age_certification     3356 non-null   object \n",
            " 6   runtime               6017 non-null   int64  \n",
            " 7   genres                6017 non-null   object \n",
            " 8   production_countries  6017 non-null   object \n",
            " 9   seasons               2261 non-null   float64\n",
            " 10  imdb_id               5626 non-null   object \n",
            " 11  imdb_score            5557 non-null   float64\n",
            " 12  imdb_votes            5541 non-null   float64\n",
            " 13  tmdb_popularity       5939 non-null   float64\n",
            " 14  tmdb_score            5793 non-null   float64\n",
            "dtypes: float64(5), int64(2), object(8)\n",
            "memory usage: 705.2+ KB\n"
          ]
        }
      ],
      "source": [
        "#visualizziamo \n",
        "netflix_titles_1.info()"
      ]
    },
    {
      "cell_type": "code",
      "execution_count": 106,
      "metadata": {
        "colab": {
          "base_uri": "https://localhost:8080/"
        },
        "id": "wH7ZfZmHljqw",
        "outputId": "62686b87-a81f-4087-b662-5da0683148ed"
      },
      "outputs": [
        {
          "name": "stdout",
          "output_type": "stream",
          "text": [
            "<class 'pandas.core.frame.DataFrame'>\n",
            "RangeIndex: 8807 entries, 0 to 8806\n",
            "Data columns (total 12 columns):\n",
            " #   Column        Non-Null Count  Dtype \n",
            "---  ------        --------------  ----- \n",
            " 0   show_id       8807 non-null   object\n",
            " 1   type          8807 non-null   object\n",
            " 2   title         8807 non-null   object\n",
            " 3   director      6173 non-null   object\n",
            " 4   cast          7982 non-null   object\n",
            " 5   country       7976 non-null   object\n",
            " 6   date_added    8797 non-null   object\n",
            " 7   release_year  8807 non-null   int64 \n",
            " 8   rating        8803 non-null   object\n",
            " 9   duration      8804 non-null   object\n",
            " 10  listed_in     8807 non-null   object\n",
            " 11  description   8807 non-null   object\n",
            "dtypes: int64(1), object(11)\n",
            "memory usage: 825.8+ KB\n"
          ]
        }
      ],
      "source": [
        "netflix_titles_2.info()"
      ]
    },
    {
      "cell_type": "code",
      "execution_count": 107,
      "metadata": {
        "colab": {
          "base_uri": "https://localhost:8080/",
          "height": 583
        },
        "id": "wLsaOioPljqx",
        "outputId": "2db1f386-bc5c-48ef-81bf-451bda2ddc57"
      },
      "outputs": [
        {
          "data": {
            "text/html": [
              "<div>\n",
              "<style scoped>\n",
              "    .dataframe tbody tr th:only-of-type {\n",
              "        vertical-align: middle;\n",
              "    }\n",
              "\n",
              "    .dataframe tbody tr th {\n",
              "        vertical-align: top;\n",
              "    }\n",
              "\n",
              "    .dataframe thead th {\n",
              "        text-align: right;\n",
              "    }\n",
              "</style>\n",
              "<table border=\"1\" class=\"dataframe\">\n",
              "  <thead>\n",
              "    <tr style=\"text-align: right;\">\n",
              "      <th></th>\n",
              "      <th>id</th>\n",
              "      <th>title</th>\n",
              "      <th>type</th>\n",
              "      <th>description</th>\n",
              "      <th>release_year</th>\n",
              "      <th>age_certification</th>\n",
              "      <th>runtime</th>\n",
              "      <th>genres</th>\n",
              "      <th>production_countries</th>\n",
              "      <th>seasons</th>\n",
              "      <th>imdb_id</th>\n",
              "      <th>imdb_score</th>\n",
              "      <th>imdb_votes</th>\n",
              "      <th>tmdb_popularity</th>\n",
              "      <th>tmdb_score</th>\n",
              "    </tr>\n",
              "  </thead>\n",
              "  <tbody>\n",
              "    <tr>\n",
              "      <th>0</th>\n",
              "      <td>ts300399</td>\n",
              "      <td>Five Came Back: The Reference Films</td>\n",
              "      <td>SHOW</td>\n",
              "      <td>This collection includes 12 World War II-era p...</td>\n",
              "      <td>1945</td>\n",
              "      <td>TV-MA</td>\n",
              "      <td>51</td>\n",
              "      <td>['documentation']</td>\n",
              "      <td>['US']</td>\n",
              "      <td>1.0</td>\n",
              "      <td>NaN</td>\n",
              "      <td>NaN</td>\n",
              "      <td>NaN</td>\n",
              "      <td>0.601</td>\n",
              "      <td>NaN</td>\n",
              "    </tr>\n",
              "    <tr>\n",
              "      <th>1</th>\n",
              "      <td>tm82169</td>\n",
              "      <td>Rocky</td>\n",
              "      <td>MOVIE</td>\n",
              "      <td>When world heavyweight boxing champion, Apollo...</td>\n",
              "      <td>1976</td>\n",
              "      <td>PG</td>\n",
              "      <td>119</td>\n",
              "      <td>['romance', 'drama', 'sport']</td>\n",
              "      <td>['US']</td>\n",
              "      <td>NaN</td>\n",
              "      <td>tt0075148</td>\n",
              "      <td>8.1</td>\n",
              "      <td>592629.0</td>\n",
              "      <td>86.593</td>\n",
              "      <td>7.784</td>\n",
              "    </tr>\n",
              "    <tr>\n",
              "      <th>2</th>\n",
              "      <td>tm47802</td>\n",
              "      <td>Psycho</td>\n",
              "      <td>MOVIE</td>\n",
              "      <td>When larcenous real estate clerk Marion Crane ...</td>\n",
              "      <td>1960</td>\n",
              "      <td>R</td>\n",
              "      <td>109</td>\n",
              "      <td>['thriller', 'horror', 'drama']</td>\n",
              "      <td>['US']</td>\n",
              "      <td>NaN</td>\n",
              "      <td>tt0054215</td>\n",
              "      <td>8.5</td>\n",
              "      <td>681931.0</td>\n",
              "      <td>31.106</td>\n",
              "      <td>8.446</td>\n",
              "    </tr>\n",
              "    <tr>\n",
              "      <th>3</th>\n",
              "      <td>tm127384</td>\n",
              "      <td>Monty Python and the Holy Grail</td>\n",
              "      <td>MOVIE</td>\n",
              "      <td>King Arthur, accompanied by his squire, recrui...</td>\n",
              "      <td>1975</td>\n",
              "      <td>PG</td>\n",
              "      <td>91</td>\n",
              "      <td>['comedy', 'fantasy']</td>\n",
              "      <td>['GB']</td>\n",
              "      <td>NaN</td>\n",
              "      <td>tt0071853</td>\n",
              "      <td>8.2</td>\n",
              "      <td>548657.0</td>\n",
              "      <td>22.267</td>\n",
              "      <td>7.804</td>\n",
              "    </tr>\n",
              "    <tr>\n",
              "      <th>4</th>\n",
              "      <td>tm25479</td>\n",
              "      <td>The Birds</td>\n",
              "      <td>MOVIE</td>\n",
              "      <td>Chic socialite Melanie Daniels enjoys a passin...</td>\n",
              "      <td>1963</td>\n",
              "      <td>NaN</td>\n",
              "      <td>113</td>\n",
              "      <td>['horror', 'drama', 'romance', 'european']</td>\n",
              "      <td>['US']</td>\n",
              "      <td>NaN</td>\n",
              "      <td>tt0056869</td>\n",
              "      <td>7.6</td>\n",
              "      <td>193901.0</td>\n",
              "      <td>22.930</td>\n",
              "      <td>7.519</td>\n",
              "    </tr>\n",
              "  </tbody>\n",
              "</table>\n",
              "</div>"
            ],
            "text/plain": [
              "         id                                title   type  \\\n",
              "0  ts300399  Five Came Back: The Reference Films   SHOW   \n",
              "1   tm82169                                Rocky  MOVIE   \n",
              "2   tm47802                               Psycho  MOVIE   \n",
              "3  tm127384      Monty Python and the Holy Grail  MOVIE   \n",
              "4   tm25479                            The Birds  MOVIE   \n",
              "\n",
              "                                         description  release_year  \\\n",
              "0  This collection includes 12 World War II-era p...          1945   \n",
              "1  When world heavyweight boxing champion, Apollo...          1976   \n",
              "2  When larcenous real estate clerk Marion Crane ...          1960   \n",
              "3  King Arthur, accompanied by his squire, recrui...          1975   \n",
              "4  Chic socialite Melanie Daniels enjoys a passin...          1963   \n",
              "\n",
              "  age_certification  runtime                                      genres  \\\n",
              "0             TV-MA       51                           ['documentation']   \n",
              "1                PG      119               ['romance', 'drama', 'sport']   \n",
              "2                 R      109             ['thriller', 'horror', 'drama']   \n",
              "3                PG       91                       ['comedy', 'fantasy']   \n",
              "4               NaN      113  ['horror', 'drama', 'romance', 'european']   \n",
              "\n",
              "  production_countries  seasons    imdb_id  imdb_score  imdb_votes  \\\n",
              "0               ['US']      1.0        NaN         NaN         NaN   \n",
              "1               ['US']      NaN  tt0075148         8.1    592629.0   \n",
              "2               ['US']      NaN  tt0054215         8.5    681931.0   \n",
              "3               ['GB']      NaN  tt0071853         8.2    548657.0   \n",
              "4               ['US']      NaN  tt0056869         7.6    193901.0   \n",
              "\n",
              "   tmdb_popularity  tmdb_score  \n",
              "0            0.601         NaN  \n",
              "1           86.593       7.784  \n",
              "2           31.106       8.446  \n",
              "3           22.267       7.804  \n",
              "4           22.930       7.519  "
            ]
          },
          "execution_count": 107,
          "metadata": {},
          "output_type": "execute_result"
        }
      ],
      "source": [
        "netflix_titles_1.head()\n"
      ]
    },
    {
      "cell_type": "code",
      "execution_count": 108,
      "metadata": {
        "colab": {
          "base_uri": "https://localhost:8080/",
          "height": 389
        },
        "id": "QzJYooFkljqy",
        "outputId": "94bcb307-1bdf-47d1-b69f-bc9d8a7c9daf"
      },
      "outputs": [
        {
          "data": {
            "text/html": [
              "<div>\n",
              "<style scoped>\n",
              "    .dataframe tbody tr th:only-of-type {\n",
              "        vertical-align: middle;\n",
              "    }\n",
              "\n",
              "    .dataframe tbody tr th {\n",
              "        vertical-align: top;\n",
              "    }\n",
              "\n",
              "    .dataframe thead th {\n",
              "        text-align: right;\n",
              "    }\n",
              "</style>\n",
              "<table border=\"1\" class=\"dataframe\">\n",
              "  <thead>\n",
              "    <tr style=\"text-align: right;\">\n",
              "      <th></th>\n",
              "      <th>show_id</th>\n",
              "      <th>type</th>\n",
              "      <th>title</th>\n",
              "      <th>director</th>\n",
              "      <th>cast</th>\n",
              "      <th>country</th>\n",
              "      <th>date_added</th>\n",
              "      <th>release_year</th>\n",
              "      <th>rating</th>\n",
              "      <th>duration</th>\n",
              "      <th>listed_in</th>\n",
              "      <th>description</th>\n",
              "    </tr>\n",
              "  </thead>\n",
              "  <tbody>\n",
              "    <tr>\n",
              "      <th>0</th>\n",
              "      <td>s1</td>\n",
              "      <td>Movie</td>\n",
              "      <td>Dick Johnson Is Dead</td>\n",
              "      <td>Kirsten Johnson</td>\n",
              "      <td>NaN</td>\n",
              "      <td>United States</td>\n",
              "      <td>September 25, 2021</td>\n",
              "      <td>2020</td>\n",
              "      <td>PG-13</td>\n",
              "      <td>90 min</td>\n",
              "      <td>Documentaries</td>\n",
              "      <td>As her father nears the end of his life, filmm...</td>\n",
              "    </tr>\n",
              "    <tr>\n",
              "      <th>1</th>\n",
              "      <td>s2</td>\n",
              "      <td>TV Show</td>\n",
              "      <td>Blood &amp; Water</td>\n",
              "      <td>NaN</td>\n",
              "      <td>Ama Qamata, Khosi Ngema, Gail Mabalane, Thaban...</td>\n",
              "      <td>South Africa</td>\n",
              "      <td>September 24, 2021</td>\n",
              "      <td>2021</td>\n",
              "      <td>TV-MA</td>\n",
              "      <td>2 Seasons</td>\n",
              "      <td>International TV Shows, TV Dramas, TV Mysteries</td>\n",
              "      <td>After crossing paths at a party, a Cape Town t...</td>\n",
              "    </tr>\n",
              "    <tr>\n",
              "      <th>2</th>\n",
              "      <td>s3</td>\n",
              "      <td>TV Show</td>\n",
              "      <td>Ganglands</td>\n",
              "      <td>Julien Leclercq</td>\n",
              "      <td>Sami Bouajila, Tracy Gotoas, Samuel Jouy, Nabi...</td>\n",
              "      <td>NaN</td>\n",
              "      <td>September 24, 2021</td>\n",
              "      <td>2021</td>\n",
              "      <td>TV-MA</td>\n",
              "      <td>1 Season</td>\n",
              "      <td>Crime TV Shows, International TV Shows, TV Act...</td>\n",
              "      <td>To protect his family from a powerful drug lor...</td>\n",
              "    </tr>\n",
              "    <tr>\n",
              "      <th>3</th>\n",
              "      <td>s4</td>\n",
              "      <td>TV Show</td>\n",
              "      <td>Jailbirds New Orleans</td>\n",
              "      <td>NaN</td>\n",
              "      <td>NaN</td>\n",
              "      <td>NaN</td>\n",
              "      <td>September 24, 2021</td>\n",
              "      <td>2021</td>\n",
              "      <td>TV-MA</td>\n",
              "      <td>1 Season</td>\n",
              "      <td>Docuseries, Reality TV</td>\n",
              "      <td>Feuds, flirtations and toilet talk go down amo...</td>\n",
              "    </tr>\n",
              "    <tr>\n",
              "      <th>4</th>\n",
              "      <td>s5</td>\n",
              "      <td>TV Show</td>\n",
              "      <td>Kota Factory</td>\n",
              "      <td>NaN</td>\n",
              "      <td>Mayur More, Jitendra Kumar, Ranjan Raj, Alam K...</td>\n",
              "      <td>India</td>\n",
              "      <td>September 24, 2021</td>\n",
              "      <td>2021</td>\n",
              "      <td>TV-MA</td>\n",
              "      <td>2 Seasons</td>\n",
              "      <td>International TV Shows, Romantic TV Shows, TV ...</td>\n",
              "      <td>In a city of coaching centers known to train I...</td>\n",
              "    </tr>\n",
              "  </tbody>\n",
              "</table>\n",
              "</div>"
            ],
            "text/plain": [
              "  show_id     type                  title         director  \\\n",
              "0      s1    Movie   Dick Johnson Is Dead  Kirsten Johnson   \n",
              "1      s2  TV Show          Blood & Water              NaN   \n",
              "2      s3  TV Show              Ganglands  Julien Leclercq   \n",
              "3      s4  TV Show  Jailbirds New Orleans              NaN   \n",
              "4      s5  TV Show           Kota Factory              NaN   \n",
              "\n",
              "                                                cast        country  \\\n",
              "0                                                NaN  United States   \n",
              "1  Ama Qamata, Khosi Ngema, Gail Mabalane, Thaban...   South Africa   \n",
              "2  Sami Bouajila, Tracy Gotoas, Samuel Jouy, Nabi...            NaN   \n",
              "3                                                NaN            NaN   \n",
              "4  Mayur More, Jitendra Kumar, Ranjan Raj, Alam K...          India   \n",
              "\n",
              "           date_added  release_year rating   duration  \\\n",
              "0  September 25, 2021          2020  PG-13     90 min   \n",
              "1  September 24, 2021          2021  TV-MA  2 Seasons   \n",
              "2  September 24, 2021          2021  TV-MA   1 Season   \n",
              "3  September 24, 2021          2021  TV-MA   1 Season   \n",
              "4  September 24, 2021          2021  TV-MA  2 Seasons   \n",
              "\n",
              "                                           listed_in  \\\n",
              "0                                      Documentaries   \n",
              "1    International TV Shows, TV Dramas, TV Mysteries   \n",
              "2  Crime TV Shows, International TV Shows, TV Act...   \n",
              "3                             Docuseries, Reality TV   \n",
              "4  International TV Shows, Romantic TV Shows, TV ...   \n",
              "\n",
              "                                         description  \n",
              "0  As her father nears the end of his life, filmm...  \n",
              "1  After crossing paths at a party, a Cape Town t...  \n",
              "2  To protect his family from a powerful drug lor...  \n",
              "3  Feuds, flirtations and toilet talk go down amo...  \n",
              "4  In a city of coaching centers known to train I...  "
            ]
          },
          "execution_count": 108,
          "metadata": {},
          "output_type": "execute_result"
        }
      ],
      "source": [
        "netflix_titles_2.head()"
      ]
    },
    {
      "cell_type": "markdown",
      "metadata": {
        "id": "kXC5qafkNgvT"
      },
      "source": [
        "Il codice combina due tabelle di dati, viene creato poi un nuovo dataframe \"integrated_netflix\" che unisce i due dataframe uno sopra l'altro.\n",
        "usando il merge uniamo le due tabelle usando come chiave di join \"id\" della prima tabella e \"show_id\" della seconda per creare un nuovo df che chiamiamo \"final_table\".\n",
        "\n",
        "Usare un outer join ci assicura l'inserimento di tutti gli elementi di entrambe le tabelle anche se non vi è una corrispondeza nella tabella opposta\n"
      ]
    },
    {
      "cell_type": "code",
      "execution_count": 109,
      "metadata": {
        "id": "A49KUw8qljqy"
      },
      "outputs": [],
      "source": [
        "netflix_titles_combinata= pd.merge(netflix_titles_1,netflix_titles_2, left_on= ['title','release_year'], right_on= ['title','release_year'])"
      ]
    },
    {
      "cell_type": "code",
      "execution_count": 110,
      "metadata": {
        "colab": {
          "base_uri": "https://localhost:8080/"
        },
        "id": "dvJ4oECJljqz",
        "outputId": "72d919f0-64db-4d2a-f8f1-a218dd98585f"
      },
      "outputs": [
        {
          "name": "stdout",
          "output_type": "stream",
          "text": [
            "<class 'pandas.core.frame.DataFrame'>\n",
            "Int64Index: 2791 entries, 0 to 2790\n",
            "Data columns (total 25 columns):\n",
            " #   Column                Non-Null Count  Dtype  \n",
            "---  ------                --------------  -----  \n",
            " 0   id                    2791 non-null   object \n",
            " 1   title                 2791 non-null   object \n",
            " 2   type_x                2791 non-null   object \n",
            " 3   description_x         2786 non-null   object \n",
            " 4   release_year          2791 non-null   int64  \n",
            " 5   age_certification     1409 non-null   object \n",
            " 6   runtime               2791 non-null   int64  \n",
            " 7   genres                2791 non-null   object \n",
            " 8   production_countries  2791 non-null   object \n",
            " 9   seasons               904 non-null    float64\n",
            " 10  imdb_id               2590 non-null   object \n",
            " 11  imdb_score            2560 non-null   float64\n",
            " 12  imdb_votes            2556 non-null   float64\n",
            " 13  tmdb_popularity       2767 non-null   float64\n",
            " 14  tmdb_score            2714 non-null   float64\n",
            " 15  show_id               2791 non-null   object \n",
            " 16  type_y                2791 non-null   object \n",
            " 17  director              1918 non-null   object \n",
            " 18  cast                  2490 non-null   object \n",
            " 19  country               2483 non-null   object \n",
            " 20  date_added            2791 non-null   object \n",
            " 21  rating                2791 non-null   object \n",
            " 22  duration              2790 non-null   object \n",
            " 23  listed_in             2791 non-null   object \n",
            " 24  description_y         2791 non-null   object \n",
            "dtypes: float64(5), int64(2), object(18)\n",
            "memory usage: 566.9+ KB\n"
          ]
        }
      ],
      "source": [
        "#visualizziamo\n",
        "netflix_titles_combinata.info()"
      ]
    },
    {
      "cell_type": "code",
      "execution_count": 111,
      "metadata": {
        "colab": {
          "base_uri": "https://localhost:8080/"
        },
        "id": "PIkRpa3pljq0",
        "outputId": "3b69e747-e149-43e0-ba51-3598aedb157f"
      },
      "outputs": [
        {
          "name": "stdout",
          "output_type": "stream",
          "text": [
            "<class 'pandas.core.frame.DataFrame'>\n",
            "Int64Index: 2791 entries, 0 to 2790\n",
            "Data columns (total 17 columns):\n",
            " #   Column                Non-Null Count  Dtype  \n",
            "---  ------                --------------  -----  \n",
            " 0   id                    2791 non-null   object \n",
            " 1   title                 2791 non-null   object \n",
            " 2   type_x                2791 non-null   object \n",
            " 3   description_x         2786 non-null   object \n",
            " 4   release_year          2791 non-null   int64  \n",
            " 5   age_certification     1409 non-null   object \n",
            " 6   runtime               2791 non-null   int64  \n",
            " 7   genres                2791 non-null   object \n",
            " 8   production_countries  2791 non-null   object \n",
            " 9   seasons               904 non-null    float64\n",
            " 10  imdb_id               2590 non-null   object \n",
            " 11  imdb_score            2560 non-null   float64\n",
            " 12  imdb_votes            2556 non-null   float64\n",
            " 13  tmdb_popularity       2767 non-null   float64\n",
            " 14  tmdb_score            2714 non-null   float64\n",
            " 15  country               2483 non-null   object \n",
            " 16  date_added            2791 non-null   object \n",
            "dtypes: float64(5), int64(2), object(10)\n",
            "memory usage: 392.5+ KB\n"
          ]
        }
      ],
      "source": [
        "#nella tabella \"netflix_titles_combinata\" andiamo a togliere le colonne che non ci interessano.\n",
        "netflix_titles_combinata= netflix_titles_combinata.drop(['show_id','type_y', 'director' ,'description_y','listed_in', 'duration', 'rating', 'cast' ], axis=1)\n",
        "\n",
        "#visualizziamo le informazioni della tabella per verificare di aver rimosso correttamente le colonne.\n",
        "netflix_titles_combinata.info()\n"
      ]
    },
    {
      "cell_type": "code",
      "execution_count": 112,
      "metadata": {
        "colab": {
          "base_uri": "https://localhost:8080/"
        },
        "id": "weZH3lKNljq0",
        "outputId": "22fee096-0cde-40d4-f975-f19d6eddfada"
      },
      "outputs": [
        {
          "name": "stdout",
          "output_type": "stream",
          "text": [
            "<class 'pandas.core.frame.DataFrame'>\n",
            "RangeIndex: 80193 entries, 0 to 80192\n",
            "Data columns (total 5 columns):\n",
            " #   Column     Non-Null Count  Dtype \n",
            "---  ------     --------------  ----- \n",
            " 0   person_id  80193 non-null  int64 \n",
            " 1   id         80193 non-null  object\n",
            " 2   name       80193 non-null  object\n",
            " 3   character  69760 non-null  object\n",
            " 4   role       80193 non-null  object\n",
            "dtypes: int64(1), object(4)\n",
            "memory usage: 3.1+ MB\n"
          ]
        }
      ],
      "source": [
        "netfilx_credits.info()"
      ]
    },
    {
      "cell_type": "code",
      "execution_count": 113,
      "metadata": {
        "colab": {
          "base_uri": "https://localhost:8080/"
        },
        "id": "juyjnRHPljq1",
        "outputId": "51b46d23-fb8f-4d1a-c520-f3e137f413bb"
      },
      "outputs": [
        {
          "name": "stdout",
          "output_type": "stream",
          "text": [
            "<class 'pandas.core.frame.DataFrame'>\n",
            "Int64Index: 38653 entries, 0 to 38652\n",
            "Data columns (total 21 columns):\n",
            " #   Column                Non-Null Count  Dtype  \n",
            "---  ------                --------------  -----  \n",
            " 0   id                    38653 non-null  object \n",
            " 1   title                 38653 non-null  object \n",
            " 2   type_x                38653 non-null  object \n",
            " 3   description_x         38642 non-null  object \n",
            " 4   release_year          38653 non-null  int64  \n",
            " 5   age_certification     20575 non-null  object \n",
            " 6   runtime               38653 non-null  int64  \n",
            " 7   genres                38653 non-null  object \n",
            " 8   production_countries  38653 non-null  object \n",
            " 9   seasons               6743 non-null   float64\n",
            " 10  imdb_id               37041 non-null  object \n",
            " 11  imdb_score            36831 non-null  float64\n",
            " 12  imdb_votes            36800 non-null  float64\n",
            " 13  tmdb_popularity       38653 non-null  float64\n",
            " 14  tmdb_score            38361 non-null  float64\n",
            " 15  country               35775 non-null  object \n",
            " 16  date_added            38653 non-null  object \n",
            " 17  person_id             38653 non-null  int64  \n",
            " 18  name                  38653 non-null  object \n",
            " 19  character             33885 non-null  object \n",
            " 20  role                  38653 non-null  object \n",
            "dtypes: float64(5), int64(3), object(13)\n",
            "memory usage: 6.5+ MB\n"
          ]
        }
      ],
      "source": [
        "#join tra netflix_titles_combinata e tabella credits\n",
        "\n",
        "netflix_titles_combinata= pd.merge(netflix_titles_combinata,netfilx_credits, how='inner', left_on='id', right_on='id')\n",
        "\n",
        "netflix_titles_combinata.info()"
      ]
    },
    {
      "cell_type": "code",
      "execution_count": 114,
      "metadata": {
        "colab": {
          "base_uri": "https://localhost:8080/"
        },
        "id": "XiRjogl5ljq1",
        "outputId": "19b435d8-6065-45d3-fe1a-3330d642a4bf"
      },
      "outputs": [
        {
          "name": "stdout",
          "output_type": "stream",
          "text": [
            "id                          0\n",
            "title                       0\n",
            "type_x                      0\n",
            "description_x              11\n",
            "release_year                0\n",
            "age_certification       18078\n",
            "runtime                     0\n",
            "genres                      0\n",
            "production_countries        0\n",
            "seasons                 31910\n",
            "imdb_id                  1612\n",
            "imdb_score               1822\n",
            "imdb_votes               1853\n",
            "tmdb_popularity             0\n",
            "tmdb_score                292\n",
            "country                  2878\n",
            "date_added                  0\n",
            "person_id                   0\n",
            "name                        0\n",
            "character                4768\n",
            "role                        0\n",
            "dtype: int64\n"
          ]
        }
      ],
      "source": [
        "#verifichiamo i valori nulli\n",
        "print(netflix_titles_combinata.isnull().sum())"
      ]
    },
    {
      "cell_type": "code",
      "execution_count": 115,
      "metadata": {
        "id": "8zgs4qwRljq2"
      },
      "outputs": [],
      "source": [
        "#uniamo le colonne country e production countries\n",
        "index= netflix_titles_combinata['production_countries'].notnull()\n",
        "values= netflix_titles_combinata['production_countries'][index]\n",
        "# andiamo a copiare questi elementi nella colonna country\n",
        "netflix_titles_combinata.loc[index, 'country'] = values\n",
        "#ed eliminiamo quella che non ci serve più\n",
        "netflix_titles_combinata = netflix_titles_combinata.drop(columns= ['production_countries'])\n",
        "\n",
        "# Abbiamo unito le colonne, ora unifichiamo lo stile\n",
        "for i in range(len(netflix_titles_combinata['title'])):\n",
        "    s = str(netflix_titles_combinata['country'].iloc[i][2:-2])\n",
        "    news = s.replace(\"'\", \"\")\n",
        "    x = news.split(\", \")\n"
      ]
    },
    {
      "cell_type": "code",
      "execution_count": 116,
      "metadata": {
        "colab": {
          "base_uri": "https://localhost:8080/"
        },
        "id": "dHOnvz7Tljq2",
        "outputId": "da078782-35a2-4f7c-f908-c2cb2e31899f"
      },
      "outputs": [
        {
          "name": "stdout",
          "output_type": "stream",
          "text": [
            "0        ['US']\n",
            "1        ['US']\n",
            "2        ['US']\n",
            "3        ['US']\n",
            "4        ['US']\n",
            "          ...  \n",
            "38648    ['ES']\n",
            "38649    ['IN']\n",
            "38650    ['IN']\n",
            "38651    ['IN']\n",
            "38652    ['IN']\n",
            "Name: country, Length: 38653, dtype: object\n"
          ]
        }
      ],
      "source": [
        "#controlliamo che quello che abbiamo fatto sopra sia corretto\n",
        "print(netflix_titles_combinata['country'])"
      ]
    },
    {
      "cell_type": "code",
      "execution_count": 117,
      "metadata": {
        "colab": {
          "base_uri": "https://localhost:8080/"
        },
        "id": "SgTIFGlMljq2",
        "outputId": "16791dfa-4f90-4474-e9f6-2a2a5f0d9dc1"
      },
      "outputs": [
        {
          "name": "stdout",
          "output_type": "stream",
          "text": [
            "<class 'pandas.core.series.Series'>\n",
            "Int64Index: 38653 entries, 0 to 38652\n",
            "Series name: country\n",
            "Non-Null Count  Dtype \n",
            "--------------  ----- \n",
            "38653 non-null  object\n",
            "dtypes: object(1)\n",
            "memory usage: 604.0+ KB\n"
          ]
        }
      ],
      "source": [
        "netflix_titles_combinata['country'].info()"
      ]
    },
    {
      "cell_type": "code",
      "execution_count": 118,
      "metadata": {
        "colab": {
          "base_uri": "https://localhost:8080/"
        },
        "id": "TY6vXiXDljq3",
        "outputId": "8edd7615-84a5-4a54-b3fa-f5c9d18387f7"
      },
      "outputs": [
        {
          "name": "stdout",
          "output_type": "stream",
          "text": [
            "id                       0\n",
            "title                    0\n",
            "type_x                   0\n",
            "description_x           11\n",
            "release_year             0\n",
            "age_certification    18078\n",
            "runtime                  0\n",
            "genres                   0\n",
            "seasons              31910\n",
            "imdb_id               1612\n",
            "imdb_score            1822\n",
            "imdb_votes            1853\n",
            "tmdb_popularity          0\n",
            "tmdb_score             292\n",
            "country                  0\n",
            "date_added               0\n",
            "person_id                0\n",
            "name                     0\n",
            "character             4768\n",
            "role                     0\n",
            "dtype: int64\n"
          ]
        }
      ],
      "source": [
        "#verifichiamo i valori nulli\n",
        "print(netflix_titles_combinata.isnull().sum())\n"
      ]
    },
    {
      "cell_type": "code",
      "execution_count": 119,
      "metadata": {
        "colab": {
          "base_uri": "https://localhost:8080/",
          "height": 1000
        },
        "id": "A_U6_ma3ljq9",
        "outputId": "108625a5-f679-4bba-f9cc-10c16c440c87"
      },
      "outputs": [
        {
          "data": {
            "text/html": [
              "<div>\n",
              "<style scoped>\n",
              "    .dataframe tbody tr th:only-of-type {\n",
              "        vertical-align: middle;\n",
              "    }\n",
              "\n",
              "    .dataframe tbody tr th {\n",
              "        vertical-align: top;\n",
              "    }\n",
              "\n",
              "    .dataframe thead th {\n",
              "        text-align: right;\n",
              "    }\n",
              "</style>\n",
              "<table border=\"1\" class=\"dataframe\">\n",
              "  <thead>\n",
              "    <tr style=\"text-align: right;\">\n",
              "      <th></th>\n",
              "      <th>id</th>\n",
              "      <th>title</th>\n",
              "      <th>type_x</th>\n",
              "      <th>description_x</th>\n",
              "      <th>release_year</th>\n",
              "      <th>age_certification</th>\n",
              "      <th>runtime</th>\n",
              "      <th>genres</th>\n",
              "      <th>seasons</th>\n",
              "      <th>imdb_id</th>\n",
              "      <th>imdb_score</th>\n",
              "      <th>imdb_votes</th>\n",
              "      <th>tmdb_popularity</th>\n",
              "      <th>tmdb_score</th>\n",
              "      <th>country</th>\n",
              "      <th>date_added</th>\n",
              "      <th>person_id</th>\n",
              "      <th>name</th>\n",
              "      <th>character</th>\n",
              "      <th>role</th>\n",
              "    </tr>\n",
              "  </thead>\n",
              "  <tbody>\n",
              "    <tr>\n",
              "      <th>0</th>\n",
              "      <td>tm82169</td>\n",
              "      <td>Rocky</td>\n",
              "      <td>MOVIE</td>\n",
              "      <td>When world heavyweight boxing champion, Apollo...</td>\n",
              "      <td>1976</td>\n",
              "      <td>PG</td>\n",
              "      <td>119</td>\n",
              "      <td>['romance', 'drama', 'sport']</td>\n",
              "      <td>NaN</td>\n",
              "      <td>tt0075148</td>\n",
              "      <td>8.1</td>\n",
              "      <td>592629.0</td>\n",
              "      <td>86.593</td>\n",
              "      <td>7.784</td>\n",
              "      <td>['US']</td>\n",
              "      <td>August 1, 2019</td>\n",
              "      <td>3180</td>\n",
              "      <td>Sylvester Stallone</td>\n",
              "      <td>Robert \"Rocky\" Balboa</td>\n",
              "      <td>ACTOR</td>\n",
              "    </tr>\n",
              "    <tr>\n",
              "      <th>1</th>\n",
              "      <td>tm82169</td>\n",
              "      <td>Rocky</td>\n",
              "      <td>MOVIE</td>\n",
              "      <td>When world heavyweight boxing champion, Apollo...</td>\n",
              "      <td>1976</td>\n",
              "      <td>PG</td>\n",
              "      <td>119</td>\n",
              "      <td>['romance', 'drama', 'sport']</td>\n",
              "      <td>NaN</td>\n",
              "      <td>tt0075148</td>\n",
              "      <td>8.1</td>\n",
              "      <td>592629.0</td>\n",
              "      <td>86.593</td>\n",
              "      <td>7.784</td>\n",
              "      <td>['US']</td>\n",
              "      <td>August 1, 2019</td>\n",
              "      <td>7748</td>\n",
              "      <td>Talia Shire</td>\n",
              "      <td>Adrianna \"Adrian\" Pennino</td>\n",
              "      <td>ACTOR</td>\n",
              "    </tr>\n",
              "    <tr>\n",
              "      <th>2</th>\n",
              "      <td>tm82169</td>\n",
              "      <td>Rocky</td>\n",
              "      <td>MOVIE</td>\n",
              "      <td>When world heavyweight boxing champion, Apollo...</td>\n",
              "      <td>1976</td>\n",
              "      <td>PG</td>\n",
              "      <td>119</td>\n",
              "      <td>['romance', 'drama', 'sport']</td>\n",
              "      <td>NaN</td>\n",
              "      <td>tt0075148</td>\n",
              "      <td>8.1</td>\n",
              "      <td>592629.0</td>\n",
              "      <td>86.593</td>\n",
              "      <td>7.784</td>\n",
              "      <td>['US']</td>\n",
              "      <td>August 1, 2019</td>\n",
              "      <td>7749</td>\n",
              "      <td>Burt Young</td>\n",
              "      <td>Paulie Pennino</td>\n",
              "      <td>ACTOR</td>\n",
              "    </tr>\n",
              "    <tr>\n",
              "      <th>3</th>\n",
              "      <td>tm82169</td>\n",
              "      <td>Rocky</td>\n",
              "      <td>MOVIE</td>\n",
              "      <td>When world heavyweight boxing champion, Apollo...</td>\n",
              "      <td>1976</td>\n",
              "      <td>PG</td>\n",
              "      <td>119</td>\n",
              "      <td>['romance', 'drama', 'sport']</td>\n",
              "      <td>NaN</td>\n",
              "      <td>tt0075148</td>\n",
              "      <td>8.1</td>\n",
              "      <td>592629.0</td>\n",
              "      <td>86.593</td>\n",
              "      <td>7.784</td>\n",
              "      <td>['US']</td>\n",
              "      <td>August 1, 2019</td>\n",
              "      <td>7750</td>\n",
              "      <td>Carl Weathers</td>\n",
              "      <td>Apollo Creed</td>\n",
              "      <td>ACTOR</td>\n",
              "    </tr>\n",
              "    <tr>\n",
              "      <th>4</th>\n",
              "      <td>tm82169</td>\n",
              "      <td>Rocky</td>\n",
              "      <td>MOVIE</td>\n",
              "      <td>When world heavyweight boxing champion, Apollo...</td>\n",
              "      <td>1976</td>\n",
              "      <td>PG</td>\n",
              "      <td>119</td>\n",
              "      <td>['romance', 'drama', 'sport']</td>\n",
              "      <td>NaN</td>\n",
              "      <td>tt0075148</td>\n",
              "      <td>8.1</td>\n",
              "      <td>592629.0</td>\n",
              "      <td>86.593</td>\n",
              "      <td>7.784</td>\n",
              "      <td>['US']</td>\n",
              "      <td>August 1, 2019</td>\n",
              "      <td>7751</td>\n",
              "      <td>Burgess Meredith</td>\n",
              "      <td>Mickey Goldmill</td>\n",
              "      <td>ACTOR</td>\n",
              "    </tr>\n",
              "    <tr>\n",
              "      <th>...</th>\n",
              "      <td>...</td>\n",
              "      <td>...</td>\n",
              "      <td>...</td>\n",
              "      <td>...</td>\n",
              "      <td>...</td>\n",
              "      <td>...</td>\n",
              "      <td>...</td>\n",
              "      <td>...</td>\n",
              "      <td>...</td>\n",
              "      <td>...</td>\n",
              "      <td>...</td>\n",
              "      <td>...</td>\n",
              "      <td>...</td>\n",
              "      <td>...</td>\n",
              "      <td>...</td>\n",
              "      <td>...</td>\n",
              "      <td>...</td>\n",
              "      <td>...</td>\n",
              "      <td>...</td>\n",
              "      <td>...</td>\n",
              "    </tr>\n",
              "    <tr>\n",
              "      <th>38648</th>\n",
              "      <td>ts285874</td>\n",
              "      <td>Magic for Humans Spain</td>\n",
              "      <td>SHOW</td>\n",
              "      <td>In this Spanish adaptation of \"Magic for Human...</td>\n",
              "      <td>2021</td>\n",
              "      <td>TV-MA</td>\n",
              "      <td>23</td>\n",
              "      <td>['reality', 'comedy']</td>\n",
              "      <td>1.0</td>\n",
              "      <td>tt14136320</td>\n",
              "      <td>6.0</td>\n",
              "      <td>86.0</td>\n",
              "      <td>1.896</td>\n",
              "      <td>3.800</td>\n",
              "      <td>['ES']</td>\n",
              "      <td>March 26, 2021</td>\n",
              "      <td>1843374</td>\n",
              "      <td>Antonio Díaz</td>\n",
              "      <td>Self</td>\n",
              "      <td>ACTOR</td>\n",
              "    </tr>\n",
              "    <tr>\n",
              "      <th>38649</th>\n",
              "      <td>tm828570</td>\n",
              "      <td>Ahaan</td>\n",
              "      <td>MOVIE</td>\n",
              "      <td>Jilted by his wife, a man with OCD finds eye o...</td>\n",
              "      <td>2021</td>\n",
              "      <td>NaN</td>\n",
              "      <td>81</td>\n",
              "      <td>['comedy', 'drama']</td>\n",
              "      <td>NaN</td>\n",
              "      <td>tt10833732</td>\n",
              "      <td>7.0</td>\n",
              "      <td>346.0</td>\n",
              "      <td>1.868</td>\n",
              "      <td>6.000</td>\n",
              "      <td>['IN']</td>\n",
              "      <td>May 15, 2021</td>\n",
              "      <td>63458</td>\n",
              "      <td>Arif Zakaria</td>\n",
              "      <td>Ozzy</td>\n",
              "      <td>ACTOR</td>\n",
              "    </tr>\n",
              "    <tr>\n",
              "      <th>38650</th>\n",
              "      <td>tm828570</td>\n",
              "      <td>Ahaan</td>\n",
              "      <td>MOVIE</td>\n",
              "      <td>Jilted by his wife, a man with OCD finds eye o...</td>\n",
              "      <td>2021</td>\n",
              "      <td>NaN</td>\n",
              "      <td>81</td>\n",
              "      <td>['comedy', 'drama']</td>\n",
              "      <td>NaN</td>\n",
              "      <td>tt10833732</td>\n",
              "      <td>7.0</td>\n",
              "      <td>346.0</td>\n",
              "      <td>1.868</td>\n",
              "      <td>6.000</td>\n",
              "      <td>['IN']</td>\n",
              "      <td>May 15, 2021</td>\n",
              "      <td>178315</td>\n",
              "      <td>Niharika Singh</td>\n",
              "      <td>Anu</td>\n",
              "      <td>ACTOR</td>\n",
              "    </tr>\n",
              "    <tr>\n",
              "      <th>38651</th>\n",
              "      <td>tm828570</td>\n",
              "      <td>Ahaan</td>\n",
              "      <td>MOVIE</td>\n",
              "      <td>Jilted by his wife, a man with OCD finds eye o...</td>\n",
              "      <td>2021</td>\n",
              "      <td>NaN</td>\n",
              "      <td>81</td>\n",
              "      <td>['comedy', 'drama']</td>\n",
              "      <td>NaN</td>\n",
              "      <td>tt10833732</td>\n",
              "      <td>7.0</td>\n",
              "      <td>346.0</td>\n",
              "      <td>1.868</td>\n",
              "      <td>6.000</td>\n",
              "      <td>['IN']</td>\n",
              "      <td>May 15, 2021</td>\n",
              "      <td>1913445</td>\n",
              "      <td>Abuli Mamaji</td>\n",
              "      <td>Ahaan</td>\n",
              "      <td>ACTOR</td>\n",
              "    </tr>\n",
              "    <tr>\n",
              "      <th>38652</th>\n",
              "      <td>tm828570</td>\n",
              "      <td>Ahaan</td>\n",
              "      <td>MOVIE</td>\n",
              "      <td>Jilted by his wife, a man with OCD finds eye o...</td>\n",
              "      <td>2021</td>\n",
              "      <td>NaN</td>\n",
              "      <td>81</td>\n",
              "      <td>['comedy', 'drama']</td>\n",
              "      <td>NaN</td>\n",
              "      <td>tt10833732</td>\n",
              "      <td>7.0</td>\n",
              "      <td>346.0</td>\n",
              "      <td>1.868</td>\n",
              "      <td>6.000</td>\n",
              "      <td>['IN']</td>\n",
              "      <td>May 15, 2021</td>\n",
              "      <td>1291054</td>\n",
              "      <td>Nikhil Pherwani</td>\n",
              "      <td>NaN</td>\n",
              "      <td>DIRECTOR</td>\n",
              "    </tr>\n",
              "  </tbody>\n",
              "</table>\n",
              "<p>38593 rows × 20 columns</p>\n",
              "</div>"
            ],
            "text/plain": [
              "             id                   title type_x  \\\n",
              "0       tm82169                   Rocky  MOVIE   \n",
              "1       tm82169                   Rocky  MOVIE   \n",
              "2       tm82169                   Rocky  MOVIE   \n",
              "3       tm82169                   Rocky  MOVIE   \n",
              "4       tm82169                   Rocky  MOVIE   \n",
              "...         ...                     ...    ...   \n",
              "38648  ts285874  Magic for Humans Spain   SHOW   \n",
              "38649  tm828570                   Ahaan  MOVIE   \n",
              "38650  tm828570                   Ahaan  MOVIE   \n",
              "38651  tm828570                   Ahaan  MOVIE   \n",
              "38652  tm828570                   Ahaan  MOVIE   \n",
              "\n",
              "                                           description_x  release_year  \\\n",
              "0      When world heavyweight boxing champion, Apollo...          1976   \n",
              "1      When world heavyweight boxing champion, Apollo...          1976   \n",
              "2      When world heavyweight boxing champion, Apollo...          1976   \n",
              "3      When world heavyweight boxing champion, Apollo...          1976   \n",
              "4      When world heavyweight boxing champion, Apollo...          1976   \n",
              "...                                                  ...           ...   \n",
              "38648  In this Spanish adaptation of \"Magic for Human...          2021   \n",
              "38649  Jilted by his wife, a man with OCD finds eye o...          2021   \n",
              "38650  Jilted by his wife, a man with OCD finds eye o...          2021   \n",
              "38651  Jilted by his wife, a man with OCD finds eye o...          2021   \n",
              "38652  Jilted by his wife, a man with OCD finds eye o...          2021   \n",
              "\n",
              "      age_certification  runtime                         genres  seasons  \\\n",
              "0                    PG      119  ['romance', 'drama', 'sport']      NaN   \n",
              "1                    PG      119  ['romance', 'drama', 'sport']      NaN   \n",
              "2                    PG      119  ['romance', 'drama', 'sport']      NaN   \n",
              "3                    PG      119  ['romance', 'drama', 'sport']      NaN   \n",
              "4                    PG      119  ['romance', 'drama', 'sport']      NaN   \n",
              "...                 ...      ...                            ...      ...   \n",
              "38648             TV-MA       23          ['reality', 'comedy']      1.0   \n",
              "38649               NaN       81            ['comedy', 'drama']      NaN   \n",
              "38650               NaN       81            ['comedy', 'drama']      NaN   \n",
              "38651               NaN       81            ['comedy', 'drama']      NaN   \n",
              "38652               NaN       81            ['comedy', 'drama']      NaN   \n",
              "\n",
              "          imdb_id  imdb_score  imdb_votes  tmdb_popularity  tmdb_score  \\\n",
              "0       tt0075148         8.1    592629.0           86.593       7.784   \n",
              "1       tt0075148         8.1    592629.0           86.593       7.784   \n",
              "2       tt0075148         8.1    592629.0           86.593       7.784   \n",
              "3       tt0075148         8.1    592629.0           86.593       7.784   \n",
              "4       tt0075148         8.1    592629.0           86.593       7.784   \n",
              "...           ...         ...         ...              ...         ...   \n",
              "38648  tt14136320         6.0        86.0            1.896       3.800   \n",
              "38649  tt10833732         7.0       346.0            1.868       6.000   \n",
              "38650  tt10833732         7.0       346.0            1.868       6.000   \n",
              "38651  tt10833732         7.0       346.0            1.868       6.000   \n",
              "38652  tt10833732         7.0       346.0            1.868       6.000   \n",
              "\n",
              "      country      date_added  person_id                name  \\\n",
              "0      ['US']  August 1, 2019       3180  Sylvester Stallone   \n",
              "1      ['US']  August 1, 2019       7748         Talia Shire   \n",
              "2      ['US']  August 1, 2019       7749          Burt Young   \n",
              "3      ['US']  August 1, 2019       7750       Carl Weathers   \n",
              "4      ['US']  August 1, 2019       7751    Burgess Meredith   \n",
              "...       ...             ...        ...                 ...   \n",
              "38648  ['ES']  March 26, 2021    1843374        Antonio Díaz   \n",
              "38649  ['IN']    May 15, 2021      63458        Arif Zakaria   \n",
              "38650  ['IN']    May 15, 2021     178315      Niharika Singh   \n",
              "38651  ['IN']    May 15, 2021    1913445        Abuli Mamaji   \n",
              "38652  ['IN']    May 15, 2021    1291054     Nikhil Pherwani   \n",
              "\n",
              "                       character      role  \n",
              "0          Robert \"Rocky\" Balboa     ACTOR  \n",
              "1      Adrianna \"Adrian\" Pennino     ACTOR  \n",
              "2                 Paulie Pennino     ACTOR  \n",
              "3                   Apollo Creed     ACTOR  \n",
              "4                Mickey Goldmill     ACTOR  \n",
              "...                          ...       ...  \n",
              "38648                       Self     ACTOR  \n",
              "38649                       Ozzy     ACTOR  \n",
              "38650                        Anu     ACTOR  \n",
              "38651                      Ahaan     ACTOR  \n",
              "38652                        NaN  DIRECTOR  \n",
              "\n",
              "[38593 rows x 20 columns]"
            ]
          },
          "execution_count": 119,
          "metadata": {},
          "output_type": "execute_result"
        }
      ],
      "source": [
        "#rimuoviamo i duplicati\n",
        "netflix_titles_combinata.drop_duplicates()"
      ]
    },
    {
      "cell_type": "code",
      "execution_count": 120,
      "metadata": {
        "colab": {
          "base_uri": "https://localhost:8080/",
          "height": 1000
        },
        "id": "QVpxiXK5ljrD",
        "outputId": "906b674e-63f8-4236-9cea-fb330e7b5a16"
      },
      "outputs": [
        {
          "data": {
            "text/html": [
              "<div>\n",
              "<style scoped>\n",
              "    .dataframe tbody tr th:only-of-type {\n",
              "        vertical-align: middle;\n",
              "    }\n",
              "\n",
              "    .dataframe tbody tr th {\n",
              "        vertical-align: top;\n",
              "    }\n",
              "\n",
              "    .dataframe thead th {\n",
              "        text-align: right;\n",
              "    }\n",
              "</style>\n",
              "<table border=\"1\" class=\"dataframe\">\n",
              "  <thead>\n",
              "    <tr style=\"text-align: right;\">\n",
              "      <th></th>\n",
              "      <th>id</th>\n",
              "      <th>title</th>\n",
              "      <th>type_x</th>\n",
              "      <th>description_x</th>\n",
              "      <th>release_year</th>\n",
              "      <th>age_certification</th>\n",
              "      <th>runtime</th>\n",
              "      <th>genres</th>\n",
              "      <th>seasons</th>\n",
              "      <th>imdb_id</th>\n",
              "      <th>imdb_score</th>\n",
              "      <th>imdb_votes</th>\n",
              "      <th>tmdb_popularity</th>\n",
              "      <th>tmdb_score</th>\n",
              "      <th>country</th>\n",
              "      <th>date_added</th>\n",
              "      <th>person_id</th>\n",
              "      <th>name</th>\n",
              "      <th>character</th>\n",
              "      <th>role</th>\n",
              "    </tr>\n",
              "  </thead>\n",
              "  <tbody>\n",
              "    <tr>\n",
              "      <th>0</th>\n",
              "      <td>tm82169</td>\n",
              "      <td>Rocky</td>\n",
              "      <td>MOVIE</td>\n",
              "      <td>When world heavyweight boxing champion, Apollo...</td>\n",
              "      <td>1976</td>\n",
              "      <td>PG</td>\n",
              "      <td>119</td>\n",
              "      <td>['romance', 'drama', 'sport']</td>\n",
              "      <td>NaN</td>\n",
              "      <td>tt0075148</td>\n",
              "      <td>8.1</td>\n",
              "      <td>592629.0</td>\n",
              "      <td>86.593</td>\n",
              "      <td>7.784</td>\n",
              "      <td>['US']</td>\n",
              "      <td>August 1, 2019</td>\n",
              "      <td>3180</td>\n",
              "      <td>Sylvester Stallone</td>\n",
              "      <td>Robert \"Rocky\" Balboa</td>\n",
              "      <td>ACTOR</td>\n",
              "    </tr>\n",
              "    <tr>\n",
              "      <th>1</th>\n",
              "      <td>tm82169</td>\n",
              "      <td>Rocky</td>\n",
              "      <td>MOVIE</td>\n",
              "      <td>When world heavyweight boxing champion, Apollo...</td>\n",
              "      <td>1976</td>\n",
              "      <td>PG</td>\n",
              "      <td>119</td>\n",
              "      <td>['romance', 'drama', 'sport']</td>\n",
              "      <td>NaN</td>\n",
              "      <td>tt0075148</td>\n",
              "      <td>8.1</td>\n",
              "      <td>592629.0</td>\n",
              "      <td>86.593</td>\n",
              "      <td>7.784</td>\n",
              "      <td>['US']</td>\n",
              "      <td>August 1, 2019</td>\n",
              "      <td>7748</td>\n",
              "      <td>Talia Shire</td>\n",
              "      <td>Adrianna \"Adrian\" Pennino</td>\n",
              "      <td>ACTOR</td>\n",
              "    </tr>\n",
              "    <tr>\n",
              "      <th>2</th>\n",
              "      <td>tm82169</td>\n",
              "      <td>Rocky</td>\n",
              "      <td>MOVIE</td>\n",
              "      <td>When world heavyweight boxing champion, Apollo...</td>\n",
              "      <td>1976</td>\n",
              "      <td>PG</td>\n",
              "      <td>119</td>\n",
              "      <td>['romance', 'drama', 'sport']</td>\n",
              "      <td>NaN</td>\n",
              "      <td>tt0075148</td>\n",
              "      <td>8.1</td>\n",
              "      <td>592629.0</td>\n",
              "      <td>86.593</td>\n",
              "      <td>7.784</td>\n",
              "      <td>['US']</td>\n",
              "      <td>August 1, 2019</td>\n",
              "      <td>7749</td>\n",
              "      <td>Burt Young</td>\n",
              "      <td>Paulie Pennino</td>\n",
              "      <td>ACTOR</td>\n",
              "    </tr>\n",
              "    <tr>\n",
              "      <th>3</th>\n",
              "      <td>tm82169</td>\n",
              "      <td>Rocky</td>\n",
              "      <td>MOVIE</td>\n",
              "      <td>When world heavyweight boxing champion, Apollo...</td>\n",
              "      <td>1976</td>\n",
              "      <td>PG</td>\n",
              "      <td>119</td>\n",
              "      <td>['romance', 'drama', 'sport']</td>\n",
              "      <td>NaN</td>\n",
              "      <td>tt0075148</td>\n",
              "      <td>8.1</td>\n",
              "      <td>592629.0</td>\n",
              "      <td>86.593</td>\n",
              "      <td>7.784</td>\n",
              "      <td>['US']</td>\n",
              "      <td>August 1, 2019</td>\n",
              "      <td>7750</td>\n",
              "      <td>Carl Weathers</td>\n",
              "      <td>Apollo Creed</td>\n",
              "      <td>ACTOR</td>\n",
              "    </tr>\n",
              "    <tr>\n",
              "      <th>4</th>\n",
              "      <td>tm82169</td>\n",
              "      <td>Rocky</td>\n",
              "      <td>MOVIE</td>\n",
              "      <td>When world heavyweight boxing champion, Apollo...</td>\n",
              "      <td>1976</td>\n",
              "      <td>PG</td>\n",
              "      <td>119</td>\n",
              "      <td>['romance', 'drama', 'sport']</td>\n",
              "      <td>NaN</td>\n",
              "      <td>tt0075148</td>\n",
              "      <td>8.1</td>\n",
              "      <td>592629.0</td>\n",
              "      <td>86.593</td>\n",
              "      <td>7.784</td>\n",
              "      <td>['US']</td>\n",
              "      <td>August 1, 2019</td>\n",
              "      <td>7751</td>\n",
              "      <td>Burgess Meredith</td>\n",
              "      <td>Mickey Goldmill</td>\n",
              "      <td>ACTOR</td>\n",
              "    </tr>\n",
              "    <tr>\n",
              "      <th>...</th>\n",
              "      <td>...</td>\n",
              "      <td>...</td>\n",
              "      <td>...</td>\n",
              "      <td>...</td>\n",
              "      <td>...</td>\n",
              "      <td>...</td>\n",
              "      <td>...</td>\n",
              "      <td>...</td>\n",
              "      <td>...</td>\n",
              "      <td>...</td>\n",
              "      <td>...</td>\n",
              "      <td>...</td>\n",
              "      <td>...</td>\n",
              "      <td>...</td>\n",
              "      <td>...</td>\n",
              "      <td>...</td>\n",
              "      <td>...</td>\n",
              "      <td>...</td>\n",
              "      <td>...</td>\n",
              "      <td>...</td>\n",
              "    </tr>\n",
              "    <tr>\n",
              "      <th>38648</th>\n",
              "      <td>ts285874</td>\n",
              "      <td>Magic for Humans Spain</td>\n",
              "      <td>SHOW</td>\n",
              "      <td>In this Spanish adaptation of \"Magic for Human...</td>\n",
              "      <td>2021</td>\n",
              "      <td>TV-MA</td>\n",
              "      <td>23</td>\n",
              "      <td>['reality', 'comedy']</td>\n",
              "      <td>1.0</td>\n",
              "      <td>tt14136320</td>\n",
              "      <td>6.0</td>\n",
              "      <td>86.0</td>\n",
              "      <td>1.896</td>\n",
              "      <td>3.800</td>\n",
              "      <td>['ES']</td>\n",
              "      <td>March 26, 2021</td>\n",
              "      <td>1843374</td>\n",
              "      <td>Antonio Díaz</td>\n",
              "      <td>Self</td>\n",
              "      <td>ACTOR</td>\n",
              "    </tr>\n",
              "    <tr>\n",
              "      <th>38649</th>\n",
              "      <td>tm828570</td>\n",
              "      <td>Ahaan</td>\n",
              "      <td>MOVIE</td>\n",
              "      <td>Jilted by his wife, a man with OCD finds eye o...</td>\n",
              "      <td>2021</td>\n",
              "      <td>NaN</td>\n",
              "      <td>81</td>\n",
              "      <td>['comedy', 'drama']</td>\n",
              "      <td>NaN</td>\n",
              "      <td>tt10833732</td>\n",
              "      <td>7.0</td>\n",
              "      <td>346.0</td>\n",
              "      <td>1.868</td>\n",
              "      <td>6.000</td>\n",
              "      <td>['IN']</td>\n",
              "      <td>May 15, 2021</td>\n",
              "      <td>63458</td>\n",
              "      <td>Arif Zakaria</td>\n",
              "      <td>Ozzy</td>\n",
              "      <td>ACTOR</td>\n",
              "    </tr>\n",
              "    <tr>\n",
              "      <th>38650</th>\n",
              "      <td>tm828570</td>\n",
              "      <td>Ahaan</td>\n",
              "      <td>MOVIE</td>\n",
              "      <td>Jilted by his wife, a man with OCD finds eye o...</td>\n",
              "      <td>2021</td>\n",
              "      <td>NaN</td>\n",
              "      <td>81</td>\n",
              "      <td>['comedy', 'drama']</td>\n",
              "      <td>NaN</td>\n",
              "      <td>tt10833732</td>\n",
              "      <td>7.0</td>\n",
              "      <td>346.0</td>\n",
              "      <td>1.868</td>\n",
              "      <td>6.000</td>\n",
              "      <td>['IN']</td>\n",
              "      <td>May 15, 2021</td>\n",
              "      <td>178315</td>\n",
              "      <td>Niharika Singh</td>\n",
              "      <td>Anu</td>\n",
              "      <td>ACTOR</td>\n",
              "    </tr>\n",
              "    <tr>\n",
              "      <th>38651</th>\n",
              "      <td>tm828570</td>\n",
              "      <td>Ahaan</td>\n",
              "      <td>MOVIE</td>\n",
              "      <td>Jilted by his wife, a man with OCD finds eye o...</td>\n",
              "      <td>2021</td>\n",
              "      <td>NaN</td>\n",
              "      <td>81</td>\n",
              "      <td>['comedy', 'drama']</td>\n",
              "      <td>NaN</td>\n",
              "      <td>tt10833732</td>\n",
              "      <td>7.0</td>\n",
              "      <td>346.0</td>\n",
              "      <td>1.868</td>\n",
              "      <td>6.000</td>\n",
              "      <td>['IN']</td>\n",
              "      <td>May 15, 2021</td>\n",
              "      <td>1913445</td>\n",
              "      <td>Abuli Mamaji</td>\n",
              "      <td>Ahaan</td>\n",
              "      <td>ACTOR</td>\n",
              "    </tr>\n",
              "    <tr>\n",
              "      <th>38652</th>\n",
              "      <td>tm828570</td>\n",
              "      <td>Ahaan</td>\n",
              "      <td>MOVIE</td>\n",
              "      <td>Jilted by his wife, a man with OCD finds eye o...</td>\n",
              "      <td>2021</td>\n",
              "      <td>NaN</td>\n",
              "      <td>81</td>\n",
              "      <td>['comedy', 'drama']</td>\n",
              "      <td>NaN</td>\n",
              "      <td>tt10833732</td>\n",
              "      <td>7.0</td>\n",
              "      <td>346.0</td>\n",
              "      <td>1.868</td>\n",
              "      <td>6.000</td>\n",
              "      <td>['IN']</td>\n",
              "      <td>May 15, 2021</td>\n",
              "      <td>1291054</td>\n",
              "      <td>Nikhil Pherwani</td>\n",
              "      <td>NaN</td>\n",
              "      <td>DIRECTOR</td>\n",
              "    </tr>\n",
              "  </tbody>\n",
              "</table>\n",
              "<p>38653 rows × 20 columns</p>\n",
              "</div>"
            ],
            "text/plain": [
              "             id                   title type_x  \\\n",
              "0       tm82169                   Rocky  MOVIE   \n",
              "1       tm82169                   Rocky  MOVIE   \n",
              "2       tm82169                   Rocky  MOVIE   \n",
              "3       tm82169                   Rocky  MOVIE   \n",
              "4       tm82169                   Rocky  MOVIE   \n",
              "...         ...                     ...    ...   \n",
              "38648  ts285874  Magic for Humans Spain   SHOW   \n",
              "38649  tm828570                   Ahaan  MOVIE   \n",
              "38650  tm828570                   Ahaan  MOVIE   \n",
              "38651  tm828570                   Ahaan  MOVIE   \n",
              "38652  tm828570                   Ahaan  MOVIE   \n",
              "\n",
              "                                           description_x  release_year  \\\n",
              "0      When world heavyweight boxing champion, Apollo...          1976   \n",
              "1      When world heavyweight boxing champion, Apollo...          1976   \n",
              "2      When world heavyweight boxing champion, Apollo...          1976   \n",
              "3      When world heavyweight boxing champion, Apollo...          1976   \n",
              "4      When world heavyweight boxing champion, Apollo...          1976   \n",
              "...                                                  ...           ...   \n",
              "38648  In this Spanish adaptation of \"Magic for Human...          2021   \n",
              "38649  Jilted by his wife, a man with OCD finds eye o...          2021   \n",
              "38650  Jilted by his wife, a man with OCD finds eye o...          2021   \n",
              "38651  Jilted by his wife, a man with OCD finds eye o...          2021   \n",
              "38652  Jilted by his wife, a man with OCD finds eye o...          2021   \n",
              "\n",
              "      age_certification  runtime                         genres  seasons  \\\n",
              "0                    PG      119  ['romance', 'drama', 'sport']      NaN   \n",
              "1                    PG      119  ['romance', 'drama', 'sport']      NaN   \n",
              "2                    PG      119  ['romance', 'drama', 'sport']      NaN   \n",
              "3                    PG      119  ['romance', 'drama', 'sport']      NaN   \n",
              "4                    PG      119  ['romance', 'drama', 'sport']      NaN   \n",
              "...                 ...      ...                            ...      ...   \n",
              "38648             TV-MA       23          ['reality', 'comedy']      1.0   \n",
              "38649               NaN       81            ['comedy', 'drama']      NaN   \n",
              "38650               NaN       81            ['comedy', 'drama']      NaN   \n",
              "38651               NaN       81            ['comedy', 'drama']      NaN   \n",
              "38652               NaN       81            ['comedy', 'drama']      NaN   \n",
              "\n",
              "          imdb_id  imdb_score  imdb_votes  tmdb_popularity  tmdb_score  \\\n",
              "0       tt0075148         8.1    592629.0           86.593       7.784   \n",
              "1       tt0075148         8.1    592629.0           86.593       7.784   \n",
              "2       tt0075148         8.1    592629.0           86.593       7.784   \n",
              "3       tt0075148         8.1    592629.0           86.593       7.784   \n",
              "4       tt0075148         8.1    592629.0           86.593       7.784   \n",
              "...           ...         ...         ...              ...         ...   \n",
              "38648  tt14136320         6.0        86.0            1.896       3.800   \n",
              "38649  tt10833732         7.0       346.0            1.868       6.000   \n",
              "38650  tt10833732         7.0       346.0            1.868       6.000   \n",
              "38651  tt10833732         7.0       346.0            1.868       6.000   \n",
              "38652  tt10833732         7.0       346.0            1.868       6.000   \n",
              "\n",
              "      country      date_added  person_id                name  \\\n",
              "0      ['US']  August 1, 2019       3180  Sylvester Stallone   \n",
              "1      ['US']  August 1, 2019       7748         Talia Shire   \n",
              "2      ['US']  August 1, 2019       7749          Burt Young   \n",
              "3      ['US']  August 1, 2019       7750       Carl Weathers   \n",
              "4      ['US']  August 1, 2019       7751    Burgess Meredith   \n",
              "...       ...             ...        ...                 ...   \n",
              "38648  ['ES']  March 26, 2021    1843374        Antonio Díaz   \n",
              "38649  ['IN']    May 15, 2021      63458        Arif Zakaria   \n",
              "38650  ['IN']    May 15, 2021     178315      Niharika Singh   \n",
              "38651  ['IN']    May 15, 2021    1913445        Abuli Mamaji   \n",
              "38652  ['IN']    May 15, 2021    1291054     Nikhil Pherwani   \n",
              "\n",
              "                       character      role  \n",
              "0          Robert \"Rocky\" Balboa     ACTOR  \n",
              "1      Adrianna \"Adrian\" Pennino     ACTOR  \n",
              "2                 Paulie Pennino     ACTOR  \n",
              "3                   Apollo Creed     ACTOR  \n",
              "4                Mickey Goldmill     ACTOR  \n",
              "...                          ...       ...  \n",
              "38648                       Self     ACTOR  \n",
              "38649                       Ozzy     ACTOR  \n",
              "38650                        Anu     ACTOR  \n",
              "38651                      Ahaan     ACTOR  \n",
              "38652                        NaN  DIRECTOR  \n",
              "\n",
              "[38653 rows x 20 columns]"
            ]
          },
          "metadata": {},
          "output_type": "display_data"
        }
      ],
      "source": [
        "display(netflix_titles_combinata)"
      ]
    },
    {
      "cell_type": "code",
      "execution_count": 121,
      "metadata": {
        "colab": {
          "base_uri": "https://localhost:8080/"
        },
        "id": "AFgIM2g1ljrE",
        "outputId": "5f339bd3-164b-436e-806b-f75f82dd2d2c"
      },
      "outputs": [
        {
          "name": "stdout",
          "output_type": "stream",
          "text": [
            "id                       0\n",
            "title                    0\n",
            "type_x                   0\n",
            "description_x           11\n",
            "release_year             0\n",
            "age_certification    18078\n",
            "runtime                  0\n",
            "genres                   0\n",
            "seasons              31910\n",
            "imdb_id               1612\n",
            "imdb_score            1822\n",
            "imdb_votes            1853\n",
            "tmdb_popularity          0\n",
            "tmdb_score             292\n",
            "country                  0\n",
            "date_added               0\n",
            "person_id                0\n",
            "name                     0\n",
            "character             4768\n",
            "role                     0\n",
            "dtype: int64\n"
          ]
        }
      ],
      "source": [
        "#verifichiamo i valori nulli\n",
        "print(netflix_titles_combinata.isnull().sum())"
      ]
    },
    {
      "cell_type": "markdown",
      "metadata": {
        "id": "JGRdDDndljrE"
      },
      "source": [
        "### Esegiuamo ora gli stessi comandi per amazon\n"
      ]
    },
    {
      "cell_type": "code",
      "execution_count": 122,
      "metadata": {
        "id": "JivVgjruljrE"
      },
      "outputs": [],
      "source": [
        "#carichiamo i dati amazon e replichiamo quanto fatto in precedenza con questi dati\n",
        "amazon_titles_1 = pd.read_csv(\"amazon_titles_1.csv\")\n",
        "amazon_titles_2 = pd.read_csv(\"amazon_titles_2.csv\")\n",
        "amazon_credits = pd.read_csv(\"amazon_credits.csv\")"
      ]
    },
    {
      "cell_type": "code",
      "execution_count": 123,
      "metadata": {
        "colab": {
          "base_uri": "https://localhost:8080/"
        },
        "id": "mTYNmubjljrE",
        "outputId": "8c348189-69a1-4702-80c9-d54d2b3c99c1"
      },
      "outputs": [
        {
          "name": "stdout",
          "output_type": "stream",
          "text": [
            "<class 'pandas.core.frame.DataFrame'>\n",
            "RangeIndex: 10839 entries, 0 to 10838\n",
            "Data columns (total 15 columns):\n",
            " #   Column                Non-Null Count  Dtype  \n",
            "---  ------                --------------  -----  \n",
            " 0   id                    10839 non-null  object \n",
            " 1   title                 10839 non-null  object \n",
            " 2   type                  10839 non-null  object \n",
            " 3   description           10709 non-null  object \n",
            " 4   release_year          10839 non-null  int64  \n",
            " 5   age_certification     3638 non-null   object \n",
            " 6   runtime               10839 non-null  int64  \n",
            " 7   genres                10839 non-null  object \n",
            " 8   production_countries  10839 non-null  object \n",
            " 9   seasons               1534 non-null   float64\n",
            " 10  imdb_id               10151 non-null  object \n",
            " 11  imdb_score            9751 non-null   float64\n",
            " 12  imdb_votes            9738 non-null   float64\n",
            " 13  tmdb_popularity       10274 non-null  float64\n",
            " 14  tmdb_score            8738 non-null   float64\n",
            "dtypes: float64(5), int64(2), object(8)\n",
            "memory usage: 1.2+ MB\n"
          ]
        }
      ],
      "source": [
        "amazon_titles_1.info()"
      ]
    },
    {
      "cell_type": "code",
      "execution_count": 124,
      "metadata": {
        "colab": {
          "base_uri": "https://localhost:8080/"
        },
        "id": "eZMfkFS1ljrF",
        "outputId": "8510bd59-bd27-47b3-99b3-09adcda59bc2"
      },
      "outputs": [
        {
          "name": "stdout",
          "output_type": "stream",
          "text": [
            "<class 'pandas.core.frame.DataFrame'>\n",
            "RangeIndex: 9668 entries, 0 to 9667\n",
            "Data columns (total 12 columns):\n",
            " #   Column        Non-Null Count  Dtype \n",
            "---  ------        --------------  ----- \n",
            " 0   show_id       9668 non-null   object\n",
            " 1   type          9668 non-null   object\n",
            " 2   title         9668 non-null   object\n",
            " 3   director      7586 non-null   object\n",
            " 4   cast          8435 non-null   object\n",
            " 5   country       672 non-null    object\n",
            " 6   date_added    155 non-null    object\n",
            " 7   release_year  9668 non-null   int64 \n",
            " 8   rating        9331 non-null   object\n",
            " 9   duration      9668 non-null   object\n",
            " 10  listed_in     9668 non-null   object\n",
            " 11  description   9668 non-null   object\n",
            "dtypes: int64(1), object(11)\n",
            "memory usage: 906.5+ KB\n"
          ]
        }
      ],
      "source": [
        "amazon_titles_2.info()"
      ]
    },
    {
      "cell_type": "code",
      "execution_count": 125,
      "metadata": {
        "colab": {
          "base_uri": "https://localhost:8080/",
          "height": 548
        },
        "id": "I8n4F6PuljrF",
        "outputId": "e5d35afb-d624-4455-e975-83760d646cbd"
      },
      "outputs": [
        {
          "data": {
            "text/html": [
              "<div>\n",
              "<style scoped>\n",
              "    .dataframe tbody tr th:only-of-type {\n",
              "        vertical-align: middle;\n",
              "    }\n",
              "\n",
              "    .dataframe tbody tr th {\n",
              "        vertical-align: top;\n",
              "    }\n",
              "\n",
              "    .dataframe thead th {\n",
              "        text-align: right;\n",
              "    }\n",
              "</style>\n",
              "<table border=\"1\" class=\"dataframe\">\n",
              "  <thead>\n",
              "    <tr style=\"text-align: right;\">\n",
              "      <th></th>\n",
              "      <th>id</th>\n",
              "      <th>title</th>\n",
              "      <th>type</th>\n",
              "      <th>description</th>\n",
              "      <th>release_year</th>\n",
              "      <th>age_certification</th>\n",
              "      <th>runtime</th>\n",
              "      <th>genres</th>\n",
              "      <th>production_countries</th>\n",
              "      <th>seasons</th>\n",
              "      <th>imdb_id</th>\n",
              "      <th>imdb_score</th>\n",
              "      <th>imdb_votes</th>\n",
              "      <th>tmdb_popularity</th>\n",
              "      <th>tmdb_score</th>\n",
              "    </tr>\n",
              "  </thead>\n",
              "  <tbody>\n",
              "    <tr>\n",
              "      <th>0</th>\n",
              "      <td>tm87233</td>\n",
              "      <td>It's a Wonderful Life</td>\n",
              "      <td>MOVIE</td>\n",
              "      <td>A holiday favourite for generations...  George...</td>\n",
              "      <td>1946</td>\n",
              "      <td>PG</td>\n",
              "      <td>130</td>\n",
              "      <td>['drama', 'family', 'fantasy', 'comedy', 'roma...</td>\n",
              "      <td>['US']</td>\n",
              "      <td>NaN</td>\n",
              "      <td>tt0038650</td>\n",
              "      <td>8.6</td>\n",
              "      <td>469109.0</td>\n",
              "      <td>35.635</td>\n",
              "      <td>8.264</td>\n",
              "    </tr>\n",
              "    <tr>\n",
              "      <th>1</th>\n",
              "      <td>tm38206</td>\n",
              "      <td>Whoopee!</td>\n",
              "      <td>MOVIE</td>\n",
              "      <td>Western sheriff Bob Wells is preparing to marr...</td>\n",
              "      <td>1930</td>\n",
              "      <td>NaN</td>\n",
              "      <td>93</td>\n",
              "      <td>['comedy', 'romance', 'western']</td>\n",
              "      <td>['US']</td>\n",
              "      <td>NaN</td>\n",
              "      <td>tt0021549</td>\n",
              "      <td>6.4</td>\n",
              "      <td>1092.0</td>\n",
              "      <td>1.448</td>\n",
              "      <td>7.000</td>\n",
              "    </tr>\n",
              "    <tr>\n",
              "      <th>2</th>\n",
              "      <td>tm143047</td>\n",
              "      <td>Duck Soup</td>\n",
              "      <td>MOVIE</td>\n",
              "      <td>Rufus T. Firefly is named president/dictator o...</td>\n",
              "      <td>1933</td>\n",
              "      <td>NaN</td>\n",
              "      <td>69</td>\n",
              "      <td>['comedy', 'war']</td>\n",
              "      <td>['US']</td>\n",
              "      <td>NaN</td>\n",
              "      <td>tt0023969</td>\n",
              "      <td>7.8</td>\n",
              "      <td>61128.0</td>\n",
              "      <td>11.664</td>\n",
              "      <td>7.300</td>\n",
              "    </tr>\n",
              "    <tr>\n",
              "      <th>3</th>\n",
              "      <td>tm83884</td>\n",
              "      <td>His Girl Friday</td>\n",
              "      <td>MOVIE</td>\n",
              "      <td>Hildy, the journalist former wife of newspaper...</td>\n",
              "      <td>1940</td>\n",
              "      <td>NaN</td>\n",
              "      <td>92</td>\n",
              "      <td>['drama', 'romance', 'comedy']</td>\n",
              "      <td>['US']</td>\n",
              "      <td>NaN</td>\n",
              "      <td>tt0032599</td>\n",
              "      <td>7.8</td>\n",
              "      <td>60459.0</td>\n",
              "      <td>12.582</td>\n",
              "      <td>7.400</td>\n",
              "    </tr>\n",
              "    <tr>\n",
              "      <th>4</th>\n",
              "      <td>ts20945</td>\n",
              "      <td>The Three Stooges</td>\n",
              "      <td>SHOW</td>\n",
              "      <td>The Three Stooges were an American vaudeville ...</td>\n",
              "      <td>1934</td>\n",
              "      <td>TV-PG</td>\n",
              "      <td>19</td>\n",
              "      <td>['comedy', 'family']</td>\n",
              "      <td>['US']</td>\n",
              "      <td>26.0</td>\n",
              "      <td>tt0850645</td>\n",
              "      <td>8.5</td>\n",
              "      <td>1167.0</td>\n",
              "      <td>15.424</td>\n",
              "      <td>7.600</td>\n",
              "    </tr>\n",
              "  </tbody>\n",
              "</table>\n",
              "</div>"
            ],
            "text/plain": [
              "         id                  title   type  \\\n",
              "0   tm87233  It's a Wonderful Life  MOVIE   \n",
              "1   tm38206               Whoopee!  MOVIE   \n",
              "2  tm143047              Duck Soup  MOVIE   \n",
              "3   tm83884        His Girl Friday  MOVIE   \n",
              "4   ts20945      The Three Stooges   SHOW   \n",
              "\n",
              "                                         description  release_year  \\\n",
              "0  A holiday favourite for generations...  George...          1946   \n",
              "1  Western sheriff Bob Wells is preparing to marr...          1930   \n",
              "2  Rufus T. Firefly is named president/dictator o...          1933   \n",
              "3  Hildy, the journalist former wife of newspaper...          1940   \n",
              "4  The Three Stooges were an American vaudeville ...          1934   \n",
              "\n",
              "  age_certification  runtime  \\\n",
              "0                PG      130   \n",
              "1               NaN       93   \n",
              "2               NaN       69   \n",
              "3               NaN       92   \n",
              "4             TV-PG       19   \n",
              "\n",
              "                                              genres production_countries  \\\n",
              "0  ['drama', 'family', 'fantasy', 'comedy', 'roma...               ['US']   \n",
              "1                   ['comedy', 'romance', 'western']               ['US']   \n",
              "2                                  ['comedy', 'war']               ['US']   \n",
              "3                     ['drama', 'romance', 'comedy']               ['US']   \n",
              "4                               ['comedy', 'family']               ['US']   \n",
              "\n",
              "   seasons    imdb_id  imdb_score  imdb_votes  tmdb_popularity  tmdb_score  \n",
              "0      NaN  tt0038650         8.6    469109.0           35.635       8.264  \n",
              "1      NaN  tt0021549         6.4      1092.0            1.448       7.000  \n",
              "2      NaN  tt0023969         7.8     61128.0           11.664       7.300  \n",
              "3      NaN  tt0032599         7.8     60459.0           12.582       7.400  \n",
              "4     26.0  tt0850645         8.5      1167.0           15.424       7.600  "
            ]
          },
          "execution_count": 125,
          "metadata": {},
          "output_type": "execute_result"
        }
      ],
      "source": [
        "amazon_titles_1.head()"
      ]
    },
    {
      "cell_type": "code",
      "execution_count": 126,
      "metadata": {
        "colab": {
          "base_uri": "https://localhost:8080/",
          "height": 354
        },
        "id": "uKb7AdhQljrF",
        "outputId": "c0e20dde-4fbf-4f3c-90c2-2a20170d5a67"
      },
      "outputs": [
        {
          "data": {
            "text/html": [
              "<div>\n",
              "<style scoped>\n",
              "    .dataframe tbody tr th:only-of-type {\n",
              "        vertical-align: middle;\n",
              "    }\n",
              "\n",
              "    .dataframe tbody tr th {\n",
              "        vertical-align: top;\n",
              "    }\n",
              "\n",
              "    .dataframe thead th {\n",
              "        text-align: right;\n",
              "    }\n",
              "</style>\n",
              "<table border=\"1\" class=\"dataframe\">\n",
              "  <thead>\n",
              "    <tr style=\"text-align: right;\">\n",
              "      <th></th>\n",
              "      <th>show_id</th>\n",
              "      <th>type</th>\n",
              "      <th>title</th>\n",
              "      <th>director</th>\n",
              "      <th>cast</th>\n",
              "      <th>country</th>\n",
              "      <th>date_added</th>\n",
              "      <th>release_year</th>\n",
              "      <th>rating</th>\n",
              "      <th>duration</th>\n",
              "      <th>listed_in</th>\n",
              "      <th>description</th>\n",
              "    </tr>\n",
              "  </thead>\n",
              "  <tbody>\n",
              "    <tr>\n",
              "      <th>0</th>\n",
              "      <td>s1</td>\n",
              "      <td>Movie</td>\n",
              "      <td>The Grand Seduction</td>\n",
              "      <td>Don McKellar</td>\n",
              "      <td>Brendan Gleeson, Taylor Kitsch, Gordon Pinsent</td>\n",
              "      <td>Canada</td>\n",
              "      <td>March 30, 2021</td>\n",
              "      <td>2014</td>\n",
              "      <td>NaN</td>\n",
              "      <td>113 min</td>\n",
              "      <td>Comedy, Drama</td>\n",
              "      <td>A small fishing village must procure a local d...</td>\n",
              "    </tr>\n",
              "    <tr>\n",
              "      <th>1</th>\n",
              "      <td>s2</td>\n",
              "      <td>Movie</td>\n",
              "      <td>Take Care Good Night</td>\n",
              "      <td>Girish Joshi</td>\n",
              "      <td>Mahesh Manjrekar, Abhay Mahajan, Sachin Khedekar</td>\n",
              "      <td>India</td>\n",
              "      <td>March 30, 2021</td>\n",
              "      <td>2018</td>\n",
              "      <td>13+</td>\n",
              "      <td>110 min</td>\n",
              "      <td>Drama, International</td>\n",
              "      <td>A Metro Family decides to fight a Cyber Crimin...</td>\n",
              "    </tr>\n",
              "    <tr>\n",
              "      <th>2</th>\n",
              "      <td>s3</td>\n",
              "      <td>Movie</td>\n",
              "      <td>Secrets of Deception</td>\n",
              "      <td>Josh Webber</td>\n",
              "      <td>Tom Sizemore, Lorenzo Lamas, Robert LaSardo, R...</td>\n",
              "      <td>United States</td>\n",
              "      <td>March 30, 2021</td>\n",
              "      <td>2017</td>\n",
              "      <td>NaN</td>\n",
              "      <td>74 min</td>\n",
              "      <td>Action, Drama, Suspense</td>\n",
              "      <td>After a man discovers his wife is cheating on ...</td>\n",
              "    </tr>\n",
              "    <tr>\n",
              "      <th>3</th>\n",
              "      <td>s4</td>\n",
              "      <td>Movie</td>\n",
              "      <td>Pink: Staying True</td>\n",
              "      <td>Sonia Anderson</td>\n",
              "      <td>Interviews with: Pink, Adele, Beyoncé, Britney...</td>\n",
              "      <td>United States</td>\n",
              "      <td>March 30, 2021</td>\n",
              "      <td>2014</td>\n",
              "      <td>NaN</td>\n",
              "      <td>69 min</td>\n",
              "      <td>Documentary</td>\n",
              "      <td>Pink breaks the mold once again, bringing her ...</td>\n",
              "    </tr>\n",
              "    <tr>\n",
              "      <th>4</th>\n",
              "      <td>s5</td>\n",
              "      <td>Movie</td>\n",
              "      <td>Monster Maker</td>\n",
              "      <td>Giles Foster</td>\n",
              "      <td>Harry Dean Stanton, Kieran O'Brien, George Cos...</td>\n",
              "      <td>United Kingdom</td>\n",
              "      <td>March 30, 2021</td>\n",
              "      <td>1989</td>\n",
              "      <td>NaN</td>\n",
              "      <td>45 min</td>\n",
              "      <td>Drama, Fantasy</td>\n",
              "      <td>Teenage Matt Banting wants to work with a famo...</td>\n",
              "    </tr>\n",
              "  </tbody>\n",
              "</table>\n",
              "</div>"
            ],
            "text/plain": [
              "  show_id   type                 title        director  \\\n",
              "0      s1  Movie   The Grand Seduction    Don McKellar   \n",
              "1      s2  Movie  Take Care Good Night    Girish Joshi   \n",
              "2      s3  Movie  Secrets of Deception     Josh Webber   \n",
              "3      s4  Movie    Pink: Staying True  Sonia Anderson   \n",
              "4      s5  Movie         Monster Maker    Giles Foster   \n",
              "\n",
              "                                                cast         country  \\\n",
              "0     Brendan Gleeson, Taylor Kitsch, Gordon Pinsent          Canada   \n",
              "1   Mahesh Manjrekar, Abhay Mahajan, Sachin Khedekar           India   \n",
              "2  Tom Sizemore, Lorenzo Lamas, Robert LaSardo, R...   United States   \n",
              "3  Interviews with: Pink, Adele, Beyoncé, Britney...   United States   \n",
              "4  Harry Dean Stanton, Kieran O'Brien, George Cos...  United Kingdom   \n",
              "\n",
              "       date_added  release_year rating duration                listed_in  \\\n",
              "0  March 30, 2021          2014    NaN  113 min            Comedy, Drama   \n",
              "1  March 30, 2021          2018    13+  110 min     Drama, International   \n",
              "2  March 30, 2021          2017    NaN   74 min  Action, Drama, Suspense   \n",
              "3  March 30, 2021          2014    NaN   69 min              Documentary   \n",
              "4  March 30, 2021          1989    NaN   45 min           Drama, Fantasy   \n",
              "\n",
              "                                         description  \n",
              "0  A small fishing village must procure a local d...  \n",
              "1  A Metro Family decides to fight a Cyber Crimin...  \n",
              "2  After a man discovers his wife is cheating on ...  \n",
              "3  Pink breaks the mold once again, bringing her ...  \n",
              "4  Teenage Matt Banting wants to work with a famo...  "
            ]
          },
          "execution_count": 126,
          "metadata": {},
          "output_type": "execute_result"
        }
      ],
      "source": [
        "amazon_titles_2.head()"
      ]
    },
    {
      "cell_type": "code",
      "execution_count": 127,
      "metadata": {
        "id": "u1-KL_56ljrF"
      },
      "outputs": [],
      "source": [
        "amazon_titles_combinata= pd.merge(amazon_titles_1, amazon_titles_2, left_on= ['title','release_year'], right_on= ['title','release_year'])"
      ]
    },
    {
      "cell_type": "code",
      "execution_count": 128,
      "metadata": {
        "colab": {
          "base_uri": "https://localhost:8080/"
        },
        "id": "WIyA2DPRljrG",
        "outputId": "122e20df-8c9d-4324-dbeb-b34f58d7de8e"
      },
      "outputs": [
        {
          "name": "stdout",
          "output_type": "stream",
          "text": [
            "<class 'pandas.core.frame.DataFrame'>\n",
            "Int64Index: 2924 entries, 0 to 2923\n",
            "Data columns (total 25 columns):\n",
            " #   Column                Non-Null Count  Dtype  \n",
            "---  ------                --------------  -----  \n",
            " 0   id                    2924 non-null   object \n",
            " 1   title                 2924 non-null   object \n",
            " 2   type_x                2924 non-null   object \n",
            " 3   description_x         2895 non-null   object \n",
            " 4   release_year          2924 non-null   int64  \n",
            " 5   age_certification     911 non-null    object \n",
            " 6   runtime               2924 non-null   int64  \n",
            " 7   genres                2924 non-null   object \n",
            " 8   production_countries  2924 non-null   object \n",
            " 9   seasons               322 non-null    float64\n",
            " 10  imdb_id               2716 non-null   object \n",
            " 11  imdb_score            2624 non-null   float64\n",
            " 12  imdb_votes            2619 non-null   float64\n",
            " 13  tmdb_popularity       2763 non-null   float64\n",
            " 14  tmdb_score            2311 non-null   float64\n",
            " 15  show_id               2924 non-null   object \n",
            " 16  type_y                2924 non-null   object \n",
            " 17  director              2597 non-null   object \n",
            " 18  cast                  2758 non-null   object \n",
            " 19  country               351 non-null    object \n",
            " 20  date_added            8 non-null      object \n",
            " 21  rating                2797 non-null   object \n",
            " 22  duration              2924 non-null   object \n",
            " 23  listed_in             2924 non-null   object \n",
            " 24  description_y         2924 non-null   object \n",
            "dtypes: float64(5), int64(2), object(18)\n",
            "memory usage: 593.9+ KB\n"
          ]
        }
      ],
      "source": [
        "amazon_titles_combinata.info()"
      ]
    },
    {
      "cell_type": "code",
      "execution_count": 129,
      "metadata": {
        "colab": {
          "base_uri": "https://localhost:8080/"
        },
        "id": "KHqWNAexljrG",
        "outputId": "0f2acdc9-3f02-4972-843e-236bb0aa37ce"
      },
      "outputs": [
        {
          "name": "stdout",
          "output_type": "stream",
          "text": [
            "<class 'pandas.core.frame.DataFrame'>\n",
            "Int64Index: 2924 entries, 0 to 2923\n",
            "Data columns (total 17 columns):\n",
            " #   Column                Non-Null Count  Dtype  \n",
            "---  ------                --------------  -----  \n",
            " 0   id                    2924 non-null   object \n",
            " 1   title                 2924 non-null   object \n",
            " 2   type_x                2924 non-null   object \n",
            " 3   description_x         2895 non-null   object \n",
            " 4   release_year          2924 non-null   int64  \n",
            " 5   age_certification     911 non-null    object \n",
            " 6   runtime               2924 non-null   int64  \n",
            " 7   genres                2924 non-null   object \n",
            " 8   production_countries  2924 non-null   object \n",
            " 9   seasons               322 non-null    float64\n",
            " 10  imdb_id               2716 non-null   object \n",
            " 11  imdb_score            2624 non-null   float64\n",
            " 12  imdb_votes            2619 non-null   float64\n",
            " 13  tmdb_popularity       2763 non-null   float64\n",
            " 14  tmdb_score            2311 non-null   float64\n",
            " 15  country               351 non-null    object \n",
            " 16  date_added            8 non-null      object \n",
            "dtypes: float64(5), int64(2), object(10)\n",
            "memory usage: 411.2+ KB\n"
          ]
        }
      ],
      "source": [
        "#Nella tabella \"amazon_titles_combinata\" andiamo a togliere le colonne che non ci interessano.\n",
        "amazon_titles_combinata= amazon_titles_combinata.drop(['show_id','type_y', 'director' ,'description_y','listed_in', 'duration', 'rating', 'cast' ], axis=1)\n",
        "\n",
        "#visualizziamo le informazioni della tabella per verificare di aver rimosso correttamente le colonne.\n",
        "amazon_titles_combinata.info()"
      ]
    },
    {
      "cell_type": "code",
      "execution_count": 130,
      "metadata": {
        "colab": {
          "base_uri": "https://localhost:8080/"
        },
        "id": "TpKkb9n7ljrG",
        "outputId": "c65d2cb2-3f36-40f8-cd5e-686646168c82"
      },
      "outputs": [
        {
          "name": "stdout",
          "output_type": "stream",
          "text": [
            "<class 'pandas.core.frame.DataFrame'>\n",
            "Int64Index: 35825 entries, 0 to 35824\n",
            "Data columns (total 21 columns):\n",
            " #   Column                Non-Null Count  Dtype  \n",
            "---  ------                --------------  -----  \n",
            " 0   id                    35825 non-null  object \n",
            " 1   title                 35825 non-null  object \n",
            " 2   type_x                35825 non-null  object \n",
            " 3   description_x         35800 non-null  object \n",
            " 4   release_year          35825 non-null  int64  \n",
            " 5   age_certification     14703 non-null  object \n",
            " 6   runtime               35825 non-null  int64  \n",
            " 7   genres                35825 non-null  object \n",
            " 8   production_countries  35825 non-null  object \n",
            " 9   seasons               2110 non-null   float64\n",
            " 10  imdb_id               33857 non-null  object \n",
            " 11  imdb_score            33545 non-null  float64\n",
            " 12  imdb_votes            33509 non-null  float64\n",
            " 13  tmdb_popularity       35823 non-null  float64\n",
            " 14  tmdb_score            32911 non-null  float64\n",
            " 15  country               5235 non-null   object \n",
            " 16  date_added            98 non-null     object \n",
            " 17  person_id             35825 non-null  int64  \n",
            " 18  name                  35825 non-null  object \n",
            " 19  character             30500 non-null  object \n",
            " 20  role                  35825 non-null  object \n",
            "dtypes: float64(5), int64(3), object(13)\n",
            "memory usage: 6.0+ MB\n"
          ]
        }
      ],
      "source": [
        "#concateniamo con amazon credits\n",
        "\n",
        "amazon_titles_combinata= pd.merge(amazon_titles_combinata,amazon_credits, how='inner', left_on='id', right_on='id')\n",
        "\n",
        "amazon_titles_combinata.info()"
      ]
    },
    {
      "cell_type": "code",
      "execution_count": 131,
      "metadata": {
        "id": "nvcWCqRsljrG"
      },
      "outputs": [],
      "source": [
        "#uniamo le colonne country e production countries\n",
        "index= amazon_titles_combinata['production_countries'].notnull()\n",
        "values= amazon_titles_combinata['production_countries'][index]\n",
        "#andiao a copiare questi elementi nella colonna country\n",
        "amazon_titles_combinata.loc[index, 'country'] = values\n",
        "#ed eliminiamo la colonna che non ci serve più\n",
        "amazon_titles_combinata = amazon_titles_combinata.drop(columns= ['production_countries'])\n",
        "\n",
        "# Abbiamo unito le colonne, ora unifichiamo lo stile\n",
        "for i in range(len(amazon_titles_combinata['title'])):\n",
        "    s = str(amazon_titles_combinata['country'].iloc[i][2:-2])\n",
        "    news = s.replace(\"'\", \"\")\n",
        "    x = news.split(\", \")\n"
      ]
    },
    {
      "cell_type": "code",
      "execution_count": 132,
      "metadata": {
        "colab": {
          "base_uri": "https://localhost:8080/",
          "height": 231
        },
        "id": "kTYoMaZXljrG",
        "outputId": "7399a781-3534-4c5c-8263-60fe812d0770"
      },
      "outputs": [
        {
          "data": {
            "text/plain": [
              "0        ['US']\n",
              "1        ['US']\n",
              "2        ['US']\n",
              "3        ['US']\n",
              "4        ['US']\n",
              "          ...  \n",
              "35820        []\n",
              "35821        []\n",
              "35822        []\n",
              "35823        []\n",
              "35824    ['IN']\n",
              "Name: country, Length: 35825, dtype: object"
            ]
          },
          "metadata": {},
          "output_type": "display_data"
        }
      ],
      "source": [
        "#controlliamo che quello che abbiamo fatto sopra sia corretto\n",
        "display(amazon_titles_combinata[\"country\"])"
      ]
    },
    {
      "cell_type": "code",
      "execution_count": 133,
      "metadata": {
        "colab": {
          "base_uri": "https://localhost:8080/",
          "height": 1000
        },
        "id": "MN1pAhioljrH",
        "outputId": "3c924c36-87ca-4751-9eec-681a2ab4c5f6"
      },
      "outputs": [
        {
          "data": {
            "text/html": [
              "<div>\n",
              "<style scoped>\n",
              "    .dataframe tbody tr th:only-of-type {\n",
              "        vertical-align: middle;\n",
              "    }\n",
              "\n",
              "    .dataframe tbody tr th {\n",
              "        vertical-align: top;\n",
              "    }\n",
              "\n",
              "    .dataframe thead th {\n",
              "        text-align: right;\n",
              "    }\n",
              "</style>\n",
              "<table border=\"1\" class=\"dataframe\">\n",
              "  <thead>\n",
              "    <tr style=\"text-align: right;\">\n",
              "      <th></th>\n",
              "      <th>id</th>\n",
              "      <th>title</th>\n",
              "      <th>type_x</th>\n",
              "      <th>description_x</th>\n",
              "      <th>release_year</th>\n",
              "      <th>age_certification</th>\n",
              "      <th>runtime</th>\n",
              "      <th>genres</th>\n",
              "      <th>seasons</th>\n",
              "      <th>imdb_id</th>\n",
              "      <th>imdb_score</th>\n",
              "      <th>imdb_votes</th>\n",
              "      <th>tmdb_popularity</th>\n",
              "      <th>tmdb_score</th>\n",
              "      <th>country</th>\n",
              "      <th>date_added</th>\n",
              "      <th>person_id</th>\n",
              "      <th>name</th>\n",
              "      <th>character</th>\n",
              "      <th>role</th>\n",
              "    </tr>\n",
              "  </thead>\n",
              "  <tbody>\n",
              "    <tr>\n",
              "      <th>0</th>\n",
              "      <td>tm82169</td>\n",
              "      <td>Rocky</td>\n",
              "      <td>MOVIE</td>\n",
              "      <td>When world heavyweight boxing champion, Apollo...</td>\n",
              "      <td>1976</td>\n",
              "      <td>PG</td>\n",
              "      <td>119</td>\n",
              "      <td>['romance', 'drama', 'sport']</td>\n",
              "      <td>NaN</td>\n",
              "      <td>tt0075148</td>\n",
              "      <td>8.1</td>\n",
              "      <td>592629.0</td>\n",
              "      <td>86.593</td>\n",
              "      <td>7.784</td>\n",
              "      <td>['US']</td>\n",
              "      <td>August 1, 2019</td>\n",
              "      <td>3180</td>\n",
              "      <td>Sylvester Stallone</td>\n",
              "      <td>Robert \"Rocky\" Balboa</td>\n",
              "      <td>ACTOR</td>\n",
              "    </tr>\n",
              "    <tr>\n",
              "      <th>1</th>\n",
              "      <td>tm82169</td>\n",
              "      <td>Rocky</td>\n",
              "      <td>MOVIE</td>\n",
              "      <td>When world heavyweight boxing champion, Apollo...</td>\n",
              "      <td>1976</td>\n",
              "      <td>PG</td>\n",
              "      <td>119</td>\n",
              "      <td>['romance', 'drama', 'sport']</td>\n",
              "      <td>NaN</td>\n",
              "      <td>tt0075148</td>\n",
              "      <td>8.1</td>\n",
              "      <td>592629.0</td>\n",
              "      <td>86.593</td>\n",
              "      <td>7.784</td>\n",
              "      <td>['US']</td>\n",
              "      <td>August 1, 2019</td>\n",
              "      <td>7748</td>\n",
              "      <td>Talia Shire</td>\n",
              "      <td>Adrianna \"Adrian\" Pennino</td>\n",
              "      <td>ACTOR</td>\n",
              "    </tr>\n",
              "    <tr>\n",
              "      <th>2</th>\n",
              "      <td>tm82169</td>\n",
              "      <td>Rocky</td>\n",
              "      <td>MOVIE</td>\n",
              "      <td>When world heavyweight boxing champion, Apollo...</td>\n",
              "      <td>1976</td>\n",
              "      <td>PG</td>\n",
              "      <td>119</td>\n",
              "      <td>['romance', 'drama', 'sport']</td>\n",
              "      <td>NaN</td>\n",
              "      <td>tt0075148</td>\n",
              "      <td>8.1</td>\n",
              "      <td>592629.0</td>\n",
              "      <td>86.593</td>\n",
              "      <td>7.784</td>\n",
              "      <td>['US']</td>\n",
              "      <td>August 1, 2019</td>\n",
              "      <td>7749</td>\n",
              "      <td>Burt Young</td>\n",
              "      <td>Paulie Pennino</td>\n",
              "      <td>ACTOR</td>\n",
              "    </tr>\n",
              "    <tr>\n",
              "      <th>3</th>\n",
              "      <td>tm82169</td>\n",
              "      <td>Rocky</td>\n",
              "      <td>MOVIE</td>\n",
              "      <td>When world heavyweight boxing champion, Apollo...</td>\n",
              "      <td>1976</td>\n",
              "      <td>PG</td>\n",
              "      <td>119</td>\n",
              "      <td>['romance', 'drama', 'sport']</td>\n",
              "      <td>NaN</td>\n",
              "      <td>tt0075148</td>\n",
              "      <td>8.1</td>\n",
              "      <td>592629.0</td>\n",
              "      <td>86.593</td>\n",
              "      <td>7.784</td>\n",
              "      <td>['US']</td>\n",
              "      <td>August 1, 2019</td>\n",
              "      <td>7750</td>\n",
              "      <td>Carl Weathers</td>\n",
              "      <td>Apollo Creed</td>\n",
              "      <td>ACTOR</td>\n",
              "    </tr>\n",
              "    <tr>\n",
              "      <th>4</th>\n",
              "      <td>tm82169</td>\n",
              "      <td>Rocky</td>\n",
              "      <td>MOVIE</td>\n",
              "      <td>When world heavyweight boxing champion, Apollo...</td>\n",
              "      <td>1976</td>\n",
              "      <td>PG</td>\n",
              "      <td>119</td>\n",
              "      <td>['romance', 'drama', 'sport']</td>\n",
              "      <td>NaN</td>\n",
              "      <td>tt0075148</td>\n",
              "      <td>8.1</td>\n",
              "      <td>592629.0</td>\n",
              "      <td>86.593</td>\n",
              "      <td>7.784</td>\n",
              "      <td>['US']</td>\n",
              "      <td>August 1, 2019</td>\n",
              "      <td>7751</td>\n",
              "      <td>Burgess Meredith</td>\n",
              "      <td>Mickey Goldmill</td>\n",
              "      <td>ACTOR</td>\n",
              "    </tr>\n",
              "    <tr>\n",
              "      <th>...</th>\n",
              "      <td>...</td>\n",
              "      <td>...</td>\n",
              "      <td>...</td>\n",
              "      <td>...</td>\n",
              "      <td>...</td>\n",
              "      <td>...</td>\n",
              "      <td>...</td>\n",
              "      <td>...</td>\n",
              "      <td>...</td>\n",
              "      <td>...</td>\n",
              "      <td>...</td>\n",
              "      <td>...</td>\n",
              "      <td>...</td>\n",
              "      <td>...</td>\n",
              "      <td>...</td>\n",
              "      <td>...</td>\n",
              "      <td>...</td>\n",
              "      <td>...</td>\n",
              "      <td>...</td>\n",
              "      <td>...</td>\n",
              "    </tr>\n",
              "    <tr>\n",
              "      <th>38648</th>\n",
              "      <td>ts285874</td>\n",
              "      <td>Magic for Humans Spain</td>\n",
              "      <td>SHOW</td>\n",
              "      <td>In this Spanish adaptation of \"Magic for Human...</td>\n",
              "      <td>2021</td>\n",
              "      <td>TV-MA</td>\n",
              "      <td>23</td>\n",
              "      <td>['reality', 'comedy']</td>\n",
              "      <td>1.0</td>\n",
              "      <td>tt14136320</td>\n",
              "      <td>6.0</td>\n",
              "      <td>86.0</td>\n",
              "      <td>1.896</td>\n",
              "      <td>3.800</td>\n",
              "      <td>['ES']</td>\n",
              "      <td>March 26, 2021</td>\n",
              "      <td>1843374</td>\n",
              "      <td>Antonio Díaz</td>\n",
              "      <td>Self</td>\n",
              "      <td>ACTOR</td>\n",
              "    </tr>\n",
              "    <tr>\n",
              "      <th>38649</th>\n",
              "      <td>tm828570</td>\n",
              "      <td>Ahaan</td>\n",
              "      <td>MOVIE</td>\n",
              "      <td>Jilted by his wife, a man with OCD finds eye o...</td>\n",
              "      <td>2021</td>\n",
              "      <td>NaN</td>\n",
              "      <td>81</td>\n",
              "      <td>['comedy', 'drama']</td>\n",
              "      <td>NaN</td>\n",
              "      <td>tt10833732</td>\n",
              "      <td>7.0</td>\n",
              "      <td>346.0</td>\n",
              "      <td>1.868</td>\n",
              "      <td>6.000</td>\n",
              "      <td>['IN']</td>\n",
              "      <td>May 15, 2021</td>\n",
              "      <td>63458</td>\n",
              "      <td>Arif Zakaria</td>\n",
              "      <td>Ozzy</td>\n",
              "      <td>ACTOR</td>\n",
              "    </tr>\n",
              "    <tr>\n",
              "      <th>38650</th>\n",
              "      <td>tm828570</td>\n",
              "      <td>Ahaan</td>\n",
              "      <td>MOVIE</td>\n",
              "      <td>Jilted by his wife, a man with OCD finds eye o...</td>\n",
              "      <td>2021</td>\n",
              "      <td>NaN</td>\n",
              "      <td>81</td>\n",
              "      <td>['comedy', 'drama']</td>\n",
              "      <td>NaN</td>\n",
              "      <td>tt10833732</td>\n",
              "      <td>7.0</td>\n",
              "      <td>346.0</td>\n",
              "      <td>1.868</td>\n",
              "      <td>6.000</td>\n",
              "      <td>['IN']</td>\n",
              "      <td>May 15, 2021</td>\n",
              "      <td>178315</td>\n",
              "      <td>Niharika Singh</td>\n",
              "      <td>Anu</td>\n",
              "      <td>ACTOR</td>\n",
              "    </tr>\n",
              "    <tr>\n",
              "      <th>38651</th>\n",
              "      <td>tm828570</td>\n",
              "      <td>Ahaan</td>\n",
              "      <td>MOVIE</td>\n",
              "      <td>Jilted by his wife, a man with OCD finds eye o...</td>\n",
              "      <td>2021</td>\n",
              "      <td>NaN</td>\n",
              "      <td>81</td>\n",
              "      <td>['comedy', 'drama']</td>\n",
              "      <td>NaN</td>\n",
              "      <td>tt10833732</td>\n",
              "      <td>7.0</td>\n",
              "      <td>346.0</td>\n",
              "      <td>1.868</td>\n",
              "      <td>6.000</td>\n",
              "      <td>['IN']</td>\n",
              "      <td>May 15, 2021</td>\n",
              "      <td>1913445</td>\n",
              "      <td>Abuli Mamaji</td>\n",
              "      <td>Ahaan</td>\n",
              "      <td>ACTOR</td>\n",
              "    </tr>\n",
              "    <tr>\n",
              "      <th>38652</th>\n",
              "      <td>tm828570</td>\n",
              "      <td>Ahaan</td>\n",
              "      <td>MOVIE</td>\n",
              "      <td>Jilted by his wife, a man with OCD finds eye o...</td>\n",
              "      <td>2021</td>\n",
              "      <td>NaN</td>\n",
              "      <td>81</td>\n",
              "      <td>['comedy', 'drama']</td>\n",
              "      <td>NaN</td>\n",
              "      <td>tt10833732</td>\n",
              "      <td>7.0</td>\n",
              "      <td>346.0</td>\n",
              "      <td>1.868</td>\n",
              "      <td>6.000</td>\n",
              "      <td>['IN']</td>\n",
              "      <td>May 15, 2021</td>\n",
              "      <td>1291054</td>\n",
              "      <td>Nikhil Pherwani</td>\n",
              "      <td>NaN</td>\n",
              "      <td>DIRECTOR</td>\n",
              "    </tr>\n",
              "  </tbody>\n",
              "</table>\n",
              "<p>38593 rows × 20 columns</p>\n",
              "</div>"
            ],
            "text/plain": [
              "             id                   title type_x  \\\n",
              "0       tm82169                   Rocky  MOVIE   \n",
              "1       tm82169                   Rocky  MOVIE   \n",
              "2       tm82169                   Rocky  MOVIE   \n",
              "3       tm82169                   Rocky  MOVIE   \n",
              "4       tm82169                   Rocky  MOVIE   \n",
              "...         ...                     ...    ...   \n",
              "38648  ts285874  Magic for Humans Spain   SHOW   \n",
              "38649  tm828570                   Ahaan  MOVIE   \n",
              "38650  tm828570                   Ahaan  MOVIE   \n",
              "38651  tm828570                   Ahaan  MOVIE   \n",
              "38652  tm828570                   Ahaan  MOVIE   \n",
              "\n",
              "                                           description_x  release_year  \\\n",
              "0      When world heavyweight boxing champion, Apollo...          1976   \n",
              "1      When world heavyweight boxing champion, Apollo...          1976   \n",
              "2      When world heavyweight boxing champion, Apollo...          1976   \n",
              "3      When world heavyweight boxing champion, Apollo...          1976   \n",
              "4      When world heavyweight boxing champion, Apollo...          1976   \n",
              "...                                                  ...           ...   \n",
              "38648  In this Spanish adaptation of \"Magic for Human...          2021   \n",
              "38649  Jilted by his wife, a man with OCD finds eye o...          2021   \n",
              "38650  Jilted by his wife, a man with OCD finds eye o...          2021   \n",
              "38651  Jilted by his wife, a man with OCD finds eye o...          2021   \n",
              "38652  Jilted by his wife, a man with OCD finds eye o...          2021   \n",
              "\n",
              "      age_certification  runtime                         genres  seasons  \\\n",
              "0                    PG      119  ['romance', 'drama', 'sport']      NaN   \n",
              "1                    PG      119  ['romance', 'drama', 'sport']      NaN   \n",
              "2                    PG      119  ['romance', 'drama', 'sport']      NaN   \n",
              "3                    PG      119  ['romance', 'drama', 'sport']      NaN   \n",
              "4                    PG      119  ['romance', 'drama', 'sport']      NaN   \n",
              "...                 ...      ...                            ...      ...   \n",
              "38648             TV-MA       23          ['reality', 'comedy']      1.0   \n",
              "38649               NaN       81            ['comedy', 'drama']      NaN   \n",
              "38650               NaN       81            ['comedy', 'drama']      NaN   \n",
              "38651               NaN       81            ['comedy', 'drama']      NaN   \n",
              "38652               NaN       81            ['comedy', 'drama']      NaN   \n",
              "\n",
              "          imdb_id  imdb_score  imdb_votes  tmdb_popularity  tmdb_score  \\\n",
              "0       tt0075148         8.1    592629.0           86.593       7.784   \n",
              "1       tt0075148         8.1    592629.0           86.593       7.784   \n",
              "2       tt0075148         8.1    592629.0           86.593       7.784   \n",
              "3       tt0075148         8.1    592629.0           86.593       7.784   \n",
              "4       tt0075148         8.1    592629.0           86.593       7.784   \n",
              "...           ...         ...         ...              ...         ...   \n",
              "38648  tt14136320         6.0        86.0            1.896       3.800   \n",
              "38649  tt10833732         7.0       346.0            1.868       6.000   \n",
              "38650  tt10833732         7.0       346.0            1.868       6.000   \n",
              "38651  tt10833732         7.0       346.0            1.868       6.000   \n",
              "38652  tt10833732         7.0       346.0            1.868       6.000   \n",
              "\n",
              "      country      date_added  person_id                name  \\\n",
              "0      ['US']  August 1, 2019       3180  Sylvester Stallone   \n",
              "1      ['US']  August 1, 2019       7748         Talia Shire   \n",
              "2      ['US']  August 1, 2019       7749          Burt Young   \n",
              "3      ['US']  August 1, 2019       7750       Carl Weathers   \n",
              "4      ['US']  August 1, 2019       7751    Burgess Meredith   \n",
              "...       ...             ...        ...                 ...   \n",
              "38648  ['ES']  March 26, 2021    1843374        Antonio Díaz   \n",
              "38649  ['IN']    May 15, 2021      63458        Arif Zakaria   \n",
              "38650  ['IN']    May 15, 2021     178315      Niharika Singh   \n",
              "38651  ['IN']    May 15, 2021    1913445        Abuli Mamaji   \n",
              "38652  ['IN']    May 15, 2021    1291054     Nikhil Pherwani   \n",
              "\n",
              "                       character      role  \n",
              "0          Robert \"Rocky\" Balboa     ACTOR  \n",
              "1      Adrianna \"Adrian\" Pennino     ACTOR  \n",
              "2                 Paulie Pennino     ACTOR  \n",
              "3                   Apollo Creed     ACTOR  \n",
              "4                Mickey Goldmill     ACTOR  \n",
              "...                          ...       ...  \n",
              "38648                       Self     ACTOR  \n",
              "38649                       Ozzy     ACTOR  \n",
              "38650                        Anu     ACTOR  \n",
              "38651                      Ahaan     ACTOR  \n",
              "38652                        NaN  DIRECTOR  \n",
              "\n",
              "[38593 rows x 20 columns]"
            ]
          },
          "execution_count": 133,
          "metadata": {},
          "output_type": "execute_result"
        }
      ],
      "source": [
        "#rimuoviamo i duplicati\n",
        "netflix_titles_combinata.drop_duplicates() "
      ]
    },
    {
      "cell_type": "markdown",
      "metadata": {
        "id": "zQIseeSUljrH"
      },
      "source": [
        "Abbiamo deciso di mantenere separati i due dataset, in questo modo se causiamo un problema durante lo svolgimento del progetto, questo non si riperquote su tutti i dati ma solo su una parte senza dover \"aggiustare\" entrambi i dataset ma uno solo. Anche se questa decisione comporterà una ripetizione del codice preferiamo adottare questo metodo. Quando sarà poi necessario unirli lo faremo.\n"
      ]
    },
    {
      "cell_type": "markdown",
      "metadata": {
        "id": "TlLe7_luljrH"
      },
      "source": [
        "### 2.Trasformazione\n",
        "Sostituisci la colonna date_added con 2 colonne year_added e month_added\n",
        "* Sostituisci la colonnagenrescon una colonnagenres_numberche contiene il numero di generi associati a quel datoRaggruppa le righe che contengono informazioni su uno stesso dato (questa situazione si crea quando facciamo join tra tabelle titles e tabelle credits), e crea\n",
        "\n",
        "* una colonnacast_numberche conta il numero di attori in un film/tv show\n",
        "\n",
        "* una colonnadirectorche riporta il nome del regista\n",
        "\n",
        "Raggruppa le righe che contengono informazioni su uno stesso dato (questa situazione si crea quando facciamo join tra tabelle titles e tabelle credits), e crea\n",
        "\n",
        "* una colonnacast_numberche conta il numero di attori in un film/tv show\n",
        "* una colonnadirectorche riporta il nome del regista"
      ]
    },
    {
      "cell_type": "markdown",
      "metadata": {
        "id": "CPA9BB4wljrH"
      },
      "source": [
        "### Facciamo prima per netflix"
      ]
    },
    {
      "cell_type": "code",
      "execution_count": 134,
      "metadata": {
        "colab": {
          "base_uri": "https://localhost:8080/"
        },
        "id": "TCxLP28iljrH",
        "outputId": "83658f3f-ead9-4c81-c501-b425228c7e65"
      },
      "outputs": [
        {
          "name": "stdout",
          "output_type": "stream",
          "text": [
            "0       2019-08-01\n",
            "1       2019-08-01\n",
            "2       2019-08-01\n",
            "3       2019-08-01\n",
            "4       2019-08-01\n",
            "           ...    \n",
            "38648   2021-03-26\n",
            "38649   2021-05-15\n",
            "38650   2021-05-15\n",
            "38651   2021-05-15\n",
            "38652   2021-05-15\n",
            "Name: date_added, Length: 38653, dtype: datetime64[ns]\n"
          ]
        }
      ],
      "source": [
        "#dobbiamo trasformare questa colonna in formato 'datetime' utilizzando la funzione di pandas 'to_datetime'\n",
        "netflix_titles_combinata['date_added'] = pd.to_datetime(netflix_titles_combinata['date_added'])\n",
        "\n",
        "print(netflix_titles_combinata['date_added'])"
      ]
    },
    {
      "cell_type": "code",
      "execution_count": 135,
      "metadata": {
        "id": "bWBOeLgMljrI"
      },
      "outputs": [],
      "source": [
        "netflix_titles_combinata.head()\n",
        "\n",
        "netflix_titles_combinata['year_added']= netflix_titles_combinata['date_added'].dt.year\n",
        "netflix_titles_combinata['month_added']= netflix_titles_combinata['date_added'].dt.month\n",
        "#debug\n",
        "#netflix_titles_combinata.info()"
      ]
    },
    {
      "cell_type": "code",
      "execution_count": 136,
      "metadata": {
        "colab": {
          "base_uri": "https://localhost:8080/"
        },
        "id": "bdtWy4rdljrR",
        "outputId": "1e976da8-babb-42a8-a90d-ebfea5421406"
      },
      "outputs": [
        {
          "name": "stdout",
          "output_type": "stream",
          "text": [
            "0        ['romance', 'drama', 'sport']\n",
            "1        ['romance', 'drama', 'sport']\n",
            "2        ['romance', 'drama', 'sport']\n",
            "3        ['romance', 'drama', 'sport']\n",
            "4        ['romance', 'drama', 'sport']\n",
            "                     ...              \n",
            "38648            ['reality', 'comedy']\n",
            "38649              ['comedy', 'drama']\n",
            "38650              ['comedy', 'drama']\n",
            "38651              ['comedy', 'drama']\n",
            "38652              ['comedy', 'drama']\n",
            "Name: genres, Length: 38653, dtype: object\n"
          ]
        }
      ],
      "source": [
        "\n",
        "print(netflix_titles_combinata['genres'])"
      ]
    },
    {
      "cell_type": "code",
      "execution_count": 137,
      "metadata": {
        "colab": {
          "base_uri": "https://localhost:8080/"
        },
        "id": "OMXe-KDaljrR",
        "outputId": "10079319-f91e-465a-ee6b-aa0193742fd7"
      },
      "outputs": [
        {
          "name": "stdout",
          "output_type": "stream",
          "text": [
            "0        3\n",
            "1        3\n",
            "2        3\n",
            "3        3\n",
            "4        3\n",
            "        ..\n",
            "38648    2\n",
            "38649    2\n",
            "38650    2\n",
            "38651    2\n",
            "38652    2\n",
            "Name: genres_number, Length: 38653, dtype: int64\n"
          ]
        }
      ],
      "source": [
        "#Sostituisci la colonna genres con una colonna genres_number che contiene il numero di generi associati a quel dato, \n",
        "#noi lo abbiamo fatto creando una funzione che conta i generi per riga applicandolo poi a tutta la colonna andiamo poi a droppare la colonna che non serve più\n",
        "def cont_generi(genres):\n",
        "    return len(eval(genres))\n",
        "\n",
        "netflix_titles_combinata['genres_number'] = netflix_titles_combinata['genres'].apply(cont_generi)\n",
        "\n",
        "netflix_titles_combinata.drop('genres', axis=1, inplace=True)\n",
        "\n",
        "print(netflix_titles_combinata['genres_number'])"
      ]
    },
    {
      "cell_type": "markdown",
      "metadata": {
        "id": "8uq6rihYljrR"
      },
      "source": [
        "Raggruppa le righe che contengono informazioni su uno stesso dato (questa situazione si crea quando facciamo join tra tabelle titles e tabelle credits), e crea:\n",
        "\n",
        "* una colonnacast_numberche conta il numero di attori in un film/tv show\n",
        "* una colonnadirectorche riporta il nome del regista"
      ]
    },
    {
      "cell_type": "code",
      "execution_count": 138,
      "metadata": {
        "colab": {
          "base_uri": "https://localhost:8080/",
          "height": 647
        },
        "id": "rOo3k-96ljrS",
        "outputId": "67a35219-5a84-4455-a22a-08e785bb7614"
      },
      "outputs": [
        {
          "data": {
            "text/html": [
              "<div>\n",
              "<style scoped>\n",
              "    .dataframe tbody tr th:only-of-type {\n",
              "        vertical-align: middle;\n",
              "    }\n",
              "\n",
              "    .dataframe tbody tr th {\n",
              "        vertical-align: top;\n",
              "    }\n",
              "\n",
              "    .dataframe thead th {\n",
              "        text-align: right;\n",
              "    }\n",
              "</style>\n",
              "<table border=\"1\" class=\"dataframe\">\n",
              "  <thead>\n",
              "    <tr style=\"text-align: right;\">\n",
              "      <th></th>\n",
              "      <th>id</th>\n",
              "      <th>title</th>\n",
              "      <th>type_x</th>\n",
              "      <th>description_x</th>\n",
              "      <th>release_year</th>\n",
              "      <th>age_certification</th>\n",
              "      <th>runtime</th>\n",
              "      <th>seasons</th>\n",
              "      <th>imdb_id</th>\n",
              "      <th>imdb_score</th>\n",
              "      <th>...</th>\n",
              "      <th>tmdb_score</th>\n",
              "      <th>country</th>\n",
              "      <th>date_added</th>\n",
              "      <th>person_id</th>\n",
              "      <th>name</th>\n",
              "      <th>character</th>\n",
              "      <th>role</th>\n",
              "      <th>year_added</th>\n",
              "      <th>month_added</th>\n",
              "      <th>genres_number</th>\n",
              "    </tr>\n",
              "  </thead>\n",
              "  <tbody>\n",
              "    <tr>\n",
              "      <th>0</th>\n",
              "      <td>tm82169</td>\n",
              "      <td>Rocky</td>\n",
              "      <td>MOVIE</td>\n",
              "      <td>When world heavyweight boxing champion, Apollo...</td>\n",
              "      <td>1976</td>\n",
              "      <td>PG</td>\n",
              "      <td>119</td>\n",
              "      <td>NaN</td>\n",
              "      <td>tt0075148</td>\n",
              "      <td>8.1</td>\n",
              "      <td>...</td>\n",
              "      <td>7.784</td>\n",
              "      <td>['US']</td>\n",
              "      <td>2019-08-01</td>\n",
              "      <td>3180</td>\n",
              "      <td>Sylvester Stallone</td>\n",
              "      <td>Robert \"Rocky\" Balboa</td>\n",
              "      <td>ACTOR</td>\n",
              "      <td>2019</td>\n",
              "      <td>8</td>\n",
              "      <td>3</td>\n",
              "    </tr>\n",
              "    <tr>\n",
              "      <th>1</th>\n",
              "      <td>tm82169</td>\n",
              "      <td>Rocky</td>\n",
              "      <td>MOVIE</td>\n",
              "      <td>When world heavyweight boxing champion, Apollo...</td>\n",
              "      <td>1976</td>\n",
              "      <td>PG</td>\n",
              "      <td>119</td>\n",
              "      <td>NaN</td>\n",
              "      <td>tt0075148</td>\n",
              "      <td>8.1</td>\n",
              "      <td>...</td>\n",
              "      <td>7.784</td>\n",
              "      <td>['US']</td>\n",
              "      <td>2019-08-01</td>\n",
              "      <td>7748</td>\n",
              "      <td>Talia Shire</td>\n",
              "      <td>Adrianna \"Adrian\" Pennino</td>\n",
              "      <td>ACTOR</td>\n",
              "      <td>2019</td>\n",
              "      <td>8</td>\n",
              "      <td>3</td>\n",
              "    </tr>\n",
              "    <tr>\n",
              "      <th>2</th>\n",
              "      <td>tm82169</td>\n",
              "      <td>Rocky</td>\n",
              "      <td>MOVIE</td>\n",
              "      <td>When world heavyweight boxing champion, Apollo...</td>\n",
              "      <td>1976</td>\n",
              "      <td>PG</td>\n",
              "      <td>119</td>\n",
              "      <td>NaN</td>\n",
              "      <td>tt0075148</td>\n",
              "      <td>8.1</td>\n",
              "      <td>...</td>\n",
              "      <td>7.784</td>\n",
              "      <td>['US']</td>\n",
              "      <td>2019-08-01</td>\n",
              "      <td>7749</td>\n",
              "      <td>Burt Young</td>\n",
              "      <td>Paulie Pennino</td>\n",
              "      <td>ACTOR</td>\n",
              "      <td>2019</td>\n",
              "      <td>8</td>\n",
              "      <td>3</td>\n",
              "    </tr>\n",
              "    <tr>\n",
              "      <th>3</th>\n",
              "      <td>tm82169</td>\n",
              "      <td>Rocky</td>\n",
              "      <td>MOVIE</td>\n",
              "      <td>When world heavyweight boxing champion, Apollo...</td>\n",
              "      <td>1976</td>\n",
              "      <td>PG</td>\n",
              "      <td>119</td>\n",
              "      <td>NaN</td>\n",
              "      <td>tt0075148</td>\n",
              "      <td>8.1</td>\n",
              "      <td>...</td>\n",
              "      <td>7.784</td>\n",
              "      <td>['US']</td>\n",
              "      <td>2019-08-01</td>\n",
              "      <td>7750</td>\n",
              "      <td>Carl Weathers</td>\n",
              "      <td>Apollo Creed</td>\n",
              "      <td>ACTOR</td>\n",
              "      <td>2019</td>\n",
              "      <td>8</td>\n",
              "      <td>3</td>\n",
              "    </tr>\n",
              "    <tr>\n",
              "      <th>4</th>\n",
              "      <td>tm82169</td>\n",
              "      <td>Rocky</td>\n",
              "      <td>MOVIE</td>\n",
              "      <td>When world heavyweight boxing champion, Apollo...</td>\n",
              "      <td>1976</td>\n",
              "      <td>PG</td>\n",
              "      <td>119</td>\n",
              "      <td>NaN</td>\n",
              "      <td>tt0075148</td>\n",
              "      <td>8.1</td>\n",
              "      <td>...</td>\n",
              "      <td>7.784</td>\n",
              "      <td>['US']</td>\n",
              "      <td>2019-08-01</td>\n",
              "      <td>7751</td>\n",
              "      <td>Burgess Meredith</td>\n",
              "      <td>Mickey Goldmill</td>\n",
              "      <td>ACTOR</td>\n",
              "      <td>2019</td>\n",
              "      <td>8</td>\n",
              "      <td>3</td>\n",
              "    </tr>\n",
              "  </tbody>\n",
              "</table>\n",
              "<p>5 rows × 22 columns</p>\n",
              "</div>"
            ],
            "text/plain": [
              "        id  title type_x                                      description_x  \\\n",
              "0  tm82169  Rocky  MOVIE  When world heavyweight boxing champion, Apollo...   \n",
              "1  tm82169  Rocky  MOVIE  When world heavyweight boxing champion, Apollo...   \n",
              "2  tm82169  Rocky  MOVIE  When world heavyweight boxing champion, Apollo...   \n",
              "3  tm82169  Rocky  MOVIE  When world heavyweight boxing champion, Apollo...   \n",
              "4  tm82169  Rocky  MOVIE  When world heavyweight boxing champion, Apollo...   \n",
              "\n",
              "   release_year age_certification  runtime  seasons    imdb_id  imdb_score  \\\n",
              "0          1976                PG      119      NaN  tt0075148         8.1   \n",
              "1          1976                PG      119      NaN  tt0075148         8.1   \n",
              "2          1976                PG      119      NaN  tt0075148         8.1   \n",
              "3          1976                PG      119      NaN  tt0075148         8.1   \n",
              "4          1976                PG      119      NaN  tt0075148         8.1   \n",
              "\n",
              "   ...  tmdb_score  country  date_added person_id                name  \\\n",
              "0  ...       7.784   ['US']  2019-08-01      3180  Sylvester Stallone   \n",
              "1  ...       7.784   ['US']  2019-08-01      7748         Talia Shire   \n",
              "2  ...       7.784   ['US']  2019-08-01      7749          Burt Young   \n",
              "3  ...       7.784   ['US']  2019-08-01      7750       Carl Weathers   \n",
              "4  ...       7.784   ['US']  2019-08-01      7751    Burgess Meredith   \n",
              "\n",
              "                   character   role year_added month_added  genres_number  \n",
              "0      Robert \"Rocky\" Balboa  ACTOR       2019           8              3  \n",
              "1  Adrianna \"Adrian\" Pennino  ACTOR       2019           8              3  \n",
              "2             Paulie Pennino  ACTOR       2019           8              3  \n",
              "3               Apollo Creed  ACTOR       2019           8              3  \n",
              "4            Mickey Goldmill  ACTOR       2019           8              3  \n",
              "\n",
              "[5 rows x 22 columns]"
            ]
          },
          "execution_count": 138,
          "metadata": {},
          "output_type": "execute_result"
        }
      ],
      "source": [
        "netflix_titles_combinata.head()"
      ]
    },
    {
      "cell_type": "code",
      "execution_count": 139,
      "metadata": {
        "id": "XwcuusRhljrS"
      },
      "outputs": [],
      "source": [
        "# raggruppiamo le righe e contiamo i menmbri del cast per ogni serie/film\n",
        "netflix_titles_combinata['cast_number'] = netflix_titles_combinata.groupby(['title', 'release_year'])['person_id'].transform('count')"
      ]
    },
    {
      "cell_type": "code",
      "execution_count": 140,
      "metadata": {
        "colab": {
          "base_uri": "https://localhost:8080/"
        },
        "id": "qCpXZsW4Ngvd",
        "outputId": "8f7f5486-100c-4ba7-bb65-c2a522204d04"
      },
      "outputs": [
        {
          "name": "stdout",
          "output_type": "stream",
          "text": [
            "<class 'pandas.core.frame.DataFrame'>\n",
            "Int64Index: 38653 entries, 0 to 38652\n",
            "Data columns (total 23 columns):\n",
            " #   Column             Non-Null Count  Dtype         \n",
            "---  ------             --------------  -----         \n",
            " 0   id                 38653 non-null  object        \n",
            " 1   title              38653 non-null  object        \n",
            " 2   type_x             38653 non-null  object        \n",
            " 3   description_x      38642 non-null  object        \n",
            " 4   release_year       38653 non-null  int64         \n",
            " 5   age_certification  20575 non-null  object        \n",
            " 6   runtime            38653 non-null  int64         \n",
            " 7   seasons            6743 non-null   float64       \n",
            " 8   imdb_id            37041 non-null  object        \n",
            " 9   imdb_score         36831 non-null  float64       \n",
            " 10  imdb_votes         36800 non-null  float64       \n",
            " 11  tmdb_popularity    38653 non-null  float64       \n",
            " 12  tmdb_score         38361 non-null  float64       \n",
            " 13  country            38653 non-null  object        \n",
            " 14  date_added         38653 non-null  datetime64[ns]\n",
            " 15  person_id          38653 non-null  int64         \n",
            " 16  name               38653 non-null  object        \n",
            " 17  character          33885 non-null  object        \n",
            " 18  role               38653 non-null  object        \n",
            " 19  year_added         38653 non-null  int64         \n",
            " 20  month_added        38653 non-null  int64         \n",
            " 21  genres_number      38653 non-null  int64         \n",
            " 22  cast_number        38653 non-null  int64         \n",
            "dtypes: datetime64[ns](1), float64(5), int64(7), object(10)\n",
            "memory usage: 7.1+ MB\n"
          ]
        }
      ],
      "source": [
        "netflix_titles_combinata.info()"
      ]
    },
    {
      "cell_type": "code",
      "execution_count": 141,
      "metadata": {
        "colab": {
          "base_uri": "https://localhost:8080/",
          "height": 548
        },
        "id": "3KkT_TmIljrS",
        "outputId": "9bfd4903-593a-4b54-fd50-71066ede3910"
      },
      "outputs": [
        {
          "data": {
            "text/html": [
              "<div>\n",
              "<style scoped>\n",
              "    .dataframe tbody tr th:only-of-type {\n",
              "        vertical-align: middle;\n",
              "    }\n",
              "\n",
              "    .dataframe tbody tr th {\n",
              "        vertical-align: top;\n",
              "    }\n",
              "\n",
              "    .dataframe thead th {\n",
              "        text-align: right;\n",
              "    }\n",
              "</style>\n",
              "<table border=\"1\" class=\"dataframe\">\n",
              "  <thead>\n",
              "    <tr style=\"text-align: right;\">\n",
              "      <th></th>\n",
              "      <th>id</th>\n",
              "      <th>title</th>\n",
              "      <th>type_x</th>\n",
              "      <th>description_x</th>\n",
              "      <th>release_year</th>\n",
              "      <th>age_certification</th>\n",
              "      <th>runtime</th>\n",
              "      <th>seasons</th>\n",
              "      <th>imdb_id</th>\n",
              "      <th>imdb_score</th>\n",
              "      <th>imdb_votes</th>\n",
              "      <th>tmdb_popularity</th>\n",
              "      <th>tmdb_score</th>\n",
              "      <th>country</th>\n",
              "      <th>date_added</th>\n",
              "      <th>year_added</th>\n",
              "      <th>month_added</th>\n",
              "      <th>genres_number</th>\n",
              "      <th>cast_number</th>\n",
              "      <th>director</th>\n",
              "    </tr>\n",
              "  </thead>\n",
              "  <tbody>\n",
              "    <tr>\n",
              "      <th>0</th>\n",
              "      <td>tm82169</td>\n",
              "      <td>Rocky</td>\n",
              "      <td>MOVIE</td>\n",
              "      <td>When world heavyweight boxing champion, Apollo...</td>\n",
              "      <td>1976</td>\n",
              "      <td>PG</td>\n",
              "      <td>119</td>\n",
              "      <td>NaN</td>\n",
              "      <td>tt0075148</td>\n",
              "      <td>8.1</td>\n",
              "      <td>592629.0</td>\n",
              "      <td>86.593</td>\n",
              "      <td>7.784</td>\n",
              "      <td>['US']</td>\n",
              "      <td>2019-08-01</td>\n",
              "      <td>2019</td>\n",
              "      <td>8</td>\n",
              "      <td>3</td>\n",
              "      <td>50</td>\n",
              "      <td>John G. Avildsen</td>\n",
              "    </tr>\n",
              "    <tr>\n",
              "      <th>50</th>\n",
              "      <td>tm127384</td>\n",
              "      <td>Monty Python and the Holy Grail</td>\n",
              "      <td>MOVIE</td>\n",
              "      <td>King Arthur, accompanied by his squire, recrui...</td>\n",
              "      <td>1975</td>\n",
              "      <td>PG</td>\n",
              "      <td>91</td>\n",
              "      <td>NaN</td>\n",
              "      <td>tt0071853</td>\n",
              "      <td>8.2</td>\n",
              "      <td>548657.0</td>\n",
              "      <td>22.267</td>\n",
              "      <td>7.804</td>\n",
              "      <td>['GB']</td>\n",
              "      <td>2019-01-02</td>\n",
              "      <td>2019</td>\n",
              "      <td>1</td>\n",
              "      <td>2</td>\n",
              "      <td>49</td>\n",
              "      <td>Terry Gilliam</td>\n",
              "    </tr>\n",
              "    <tr>\n",
              "      <th>99</th>\n",
              "      <td>tm69975</td>\n",
              "      <td>Rocky II</td>\n",
              "      <td>MOVIE</td>\n",
              "      <td>After Rocky goes the distance with champ Apoll...</td>\n",
              "      <td>1979</td>\n",
              "      <td>PG</td>\n",
              "      <td>119</td>\n",
              "      <td>NaN</td>\n",
              "      <td>tt0079817</td>\n",
              "      <td>7.3</td>\n",
              "      <td>218474.0</td>\n",
              "      <td>54.651</td>\n",
              "      <td>7.200</td>\n",
              "      <td>['US']</td>\n",
              "      <td>2019-08-01</td>\n",
              "      <td>2019</td>\n",
              "      <td>8</td>\n",
              "      <td>2</td>\n",
              "      <td>58</td>\n",
              "      <td>Sylvester Stallone</td>\n",
              "    </tr>\n",
              "    <tr>\n",
              "      <th>157</th>\n",
              "      <td>tm16479</td>\n",
              "      <td>White Christmas</td>\n",
              "      <td>MOVIE</td>\n",
              "      <td>Two talented song-and-dance men team up after ...</td>\n",
              "      <td>1954</td>\n",
              "      <td>NaN</td>\n",
              "      <td>120</td>\n",
              "      <td>NaN</td>\n",
              "      <td>tt0047673</td>\n",
              "      <td>7.5</td>\n",
              "      <td>46629.0</td>\n",
              "      <td>13.108</td>\n",
              "      <td>7.200</td>\n",
              "      <td>['US']</td>\n",
              "      <td>2020-11-15</td>\n",
              "      <td>2020</td>\n",
              "      <td>11</td>\n",
              "      <td>2</td>\n",
              "      <td>25</td>\n",
              "      <td>Michael Curtiz</td>\n",
              "    </tr>\n",
              "    <tr>\n",
              "      <th>182</th>\n",
              "      <td>tm135083</td>\n",
              "      <td>Cairo Station</td>\n",
              "      <td>MOVIE</td>\n",
              "      <td>Qinawi, a physically challenged peddler who ma...</td>\n",
              "      <td>1958</td>\n",
              "      <td>NaN</td>\n",
              "      <td>77</td>\n",
              "      <td>NaN</td>\n",
              "      <td>tt0051390</td>\n",
              "      <td>7.5</td>\n",
              "      <td>4909.0</td>\n",
              "      <td>8.368</td>\n",
              "      <td>7.400</td>\n",
              "      <td>['EG']</td>\n",
              "      <td>2020-06-18</td>\n",
              "      <td>2020</td>\n",
              "      <td>6</td>\n",
              "      <td>3</td>\n",
              "      <td>29</td>\n",
              "      <td>Youssef Chahine</td>\n",
              "    </tr>\n",
              "  </tbody>\n",
              "</table>\n",
              "</div>"
            ],
            "text/plain": [
              "           id                            title type_x  \\\n",
              "0     tm82169                            Rocky  MOVIE   \n",
              "50   tm127384  Monty Python and the Holy Grail  MOVIE   \n",
              "99    tm69975                         Rocky II  MOVIE   \n",
              "157   tm16479                  White Christmas  MOVIE   \n",
              "182  tm135083                    Cairo Station  MOVIE   \n",
              "\n",
              "                                         description_x  release_year  \\\n",
              "0    When world heavyweight boxing champion, Apollo...          1976   \n",
              "50   King Arthur, accompanied by his squire, recrui...          1975   \n",
              "99   After Rocky goes the distance with champ Apoll...          1979   \n",
              "157  Two talented song-and-dance men team up after ...          1954   \n",
              "182  Qinawi, a physically challenged peddler who ma...          1958   \n",
              "\n",
              "    age_certification  runtime  seasons    imdb_id  imdb_score  imdb_votes  \\\n",
              "0                  PG      119      NaN  tt0075148         8.1    592629.0   \n",
              "50                 PG       91      NaN  tt0071853         8.2    548657.0   \n",
              "99                 PG      119      NaN  tt0079817         7.3    218474.0   \n",
              "157               NaN      120      NaN  tt0047673         7.5     46629.0   \n",
              "182               NaN       77      NaN  tt0051390         7.5      4909.0   \n",
              "\n",
              "     tmdb_popularity  tmdb_score country date_added  year_added  month_added  \\\n",
              "0             86.593       7.784  ['US'] 2019-08-01        2019            8   \n",
              "50            22.267       7.804  ['GB'] 2019-01-02        2019            1   \n",
              "99            54.651       7.200  ['US'] 2019-08-01        2019            8   \n",
              "157           13.108       7.200  ['US'] 2020-11-15        2020           11   \n",
              "182            8.368       7.400  ['EG'] 2020-06-18        2020            6   \n",
              "\n",
              "     genres_number  cast_number            director  \n",
              "0                3           50    John G. Avildsen  \n",
              "50               2           49       Terry Gilliam  \n",
              "99               2           58  Sylvester Stallone  \n",
              "157              2           25      Michael Curtiz  \n",
              "182              3           29     Youssef Chahine  "
            ]
          },
          "execution_count": 141,
          "metadata": {},
          "output_type": "execute_result"
        }
      ],
      "source": [
        "netflix_titles_combinata.head()\n",
        "\n",
        "\n",
        "# creiamo una tabella \"persone\" dove andiamo a mettere i valori univoci di ogni persona della tabella netflix_titles_combinata\n",
        "persone = netflix_titles_combinata[[\"person_id\", \"name\"]].drop_duplicates()\n",
        "\n",
        "# Ci salviamo solo le righe che contengono un direttore\n",
        "direttori_per_titolo = netflix_titles_combinata[netflix_titles_combinata[\"role\"] == \"DIRECTOR\"][[\"title\", \"person_id\"]]\n",
        "\n",
        "# Uniamo le tabelle create prima in modo tale da associare il direttore al titolo\n",
        "titoli_con_direttore = pd.merge(direttori_per_titolo, persone, on=\"person_id\", how=\"left\")\n",
        "\n",
        "# facciamo una funzione \"nome_direttore\" che prende in input il titolo \n",
        "# di un film/serie tv e ritorna il nome del direttore di quel film/serie tv\n",
        "def nome_direttore(title):\n",
        "    row = titoli_con_direttore[titoli_con_direttore[\"title\"] == title]\n",
        "    if len(row) == 0:\n",
        "        return None\n",
        "    return row.iloc[0][\"name\"]\n",
        "\n",
        "# creiamo la colonna director ed applichiamo la funzione\n",
        "netflix_titles_combinata[\"director\"] = netflix_titles_combinata[\"title\"].apply(nome_direttore)\n",
        "\n",
        "\n",
        "#Andiamo quindi ad eliminare le colonne contenenti le informazioni dei membri del cast e a raggruppare le righe\n",
        "netflix_titles_combinata = netflix_titles_combinata.drop(columns=['person_id', 'name', 'character', 'role'])\n",
        "netflix_titles_combinata= netflix_titles_combinata.drop_duplicates(subset=['title', 'release_year'])\n",
        "\n",
        "netflix_titles_combinata.head()"
      ]
    },
    {
      "cell_type": "markdown",
      "metadata": {
        "id": "wCZmifi9ljrS"
      },
      "source": [
        "### Facciamo la stessa cosa per amazon"
      ]
    },
    {
      "cell_type": "code",
      "execution_count": 142,
      "metadata": {
        "colab": {
          "base_uri": "https://localhost:8080/",
          "height": 531
        },
        "id": "eb_2hW2-ljrT",
        "outputId": "cbad8834-a642-40d1-c471-0736641f39ab"
      },
      "outputs": [
        {
          "data": {
            "text/html": [
              "<div>\n",
              "<style scoped>\n",
              "    .dataframe tbody tr th:only-of-type {\n",
              "        vertical-align: middle;\n",
              "    }\n",
              "\n",
              "    .dataframe tbody tr th {\n",
              "        vertical-align: top;\n",
              "    }\n",
              "\n",
              "    .dataframe thead th {\n",
              "        text-align: right;\n",
              "    }\n",
              "</style>\n",
              "<table border=\"1\" class=\"dataframe\">\n",
              "  <thead>\n",
              "    <tr style=\"text-align: right;\">\n",
              "      <th></th>\n",
              "      <th>id</th>\n",
              "      <th>title</th>\n",
              "      <th>type_x</th>\n",
              "      <th>description_x</th>\n",
              "      <th>release_year</th>\n",
              "      <th>age_certification</th>\n",
              "      <th>runtime</th>\n",
              "      <th>genres</th>\n",
              "      <th>seasons</th>\n",
              "      <th>imdb_id</th>\n",
              "      <th>imdb_score</th>\n",
              "      <th>imdb_votes</th>\n",
              "      <th>tmdb_popularity</th>\n",
              "      <th>tmdb_score</th>\n",
              "      <th>country</th>\n",
              "      <th>date_added</th>\n",
              "      <th>person_id</th>\n",
              "      <th>name</th>\n",
              "      <th>character</th>\n",
              "      <th>role</th>\n",
              "    </tr>\n",
              "  </thead>\n",
              "  <tbody>\n",
              "    <tr>\n",
              "      <th>0</th>\n",
              "      <td>tm83884</td>\n",
              "      <td>His Girl Friday</td>\n",
              "      <td>MOVIE</td>\n",
              "      <td>Hildy, the journalist former wife of newspaper...</td>\n",
              "      <td>1940</td>\n",
              "      <td>NaN</td>\n",
              "      <td>92</td>\n",
              "      <td>['drama', 'romance', 'comedy']</td>\n",
              "      <td>NaN</td>\n",
              "      <td>tt0032599</td>\n",
              "      <td>7.8</td>\n",
              "      <td>60459.0</td>\n",
              "      <td>12.582</td>\n",
              "      <td>7.4</td>\n",
              "      <td>['US']</td>\n",
              "      <td>NaN</td>\n",
              "      <td>25018</td>\n",
              "      <td>Cary Grant</td>\n",
              "      <td>Walter Burns</td>\n",
              "      <td>ACTOR</td>\n",
              "    </tr>\n",
              "    <tr>\n",
              "      <th>1</th>\n",
              "      <td>tm83884</td>\n",
              "      <td>His Girl Friday</td>\n",
              "      <td>MOVIE</td>\n",
              "      <td>Hildy, the journalist former wife of newspaper...</td>\n",
              "      <td>1940</td>\n",
              "      <td>NaN</td>\n",
              "      <td>92</td>\n",
              "      <td>['drama', 'romance', 'comedy']</td>\n",
              "      <td>NaN</td>\n",
              "      <td>tt0032599</td>\n",
              "      <td>7.8</td>\n",
              "      <td>60459.0</td>\n",
              "      <td>12.582</td>\n",
              "      <td>7.4</td>\n",
              "      <td>['US']</td>\n",
              "      <td>NaN</td>\n",
              "      <td>28500</td>\n",
              "      <td>Rosalind Russell</td>\n",
              "      <td>Hildy Johnson</td>\n",
              "      <td>ACTOR</td>\n",
              "    </tr>\n",
              "    <tr>\n",
              "      <th>2</th>\n",
              "      <td>tm83884</td>\n",
              "      <td>His Girl Friday</td>\n",
              "      <td>MOVIE</td>\n",
              "      <td>Hildy, the journalist former wife of newspaper...</td>\n",
              "      <td>1940</td>\n",
              "      <td>NaN</td>\n",
              "      <td>92</td>\n",
              "      <td>['drama', 'romance', 'comedy']</td>\n",
              "      <td>NaN</td>\n",
              "      <td>tt0032599</td>\n",
              "      <td>7.8</td>\n",
              "      <td>60459.0</td>\n",
              "      <td>12.582</td>\n",
              "      <td>7.4</td>\n",
              "      <td>['US']</td>\n",
              "      <td>NaN</td>\n",
              "      <td>12463</td>\n",
              "      <td>Ralph Bellamy</td>\n",
              "      <td>Bruce Baldwin</td>\n",
              "      <td>ACTOR</td>\n",
              "    </tr>\n",
              "    <tr>\n",
              "      <th>3</th>\n",
              "      <td>tm83884</td>\n",
              "      <td>His Girl Friday</td>\n",
              "      <td>MOVIE</td>\n",
              "      <td>Hildy, the journalist former wife of newspaper...</td>\n",
              "      <td>1940</td>\n",
              "      <td>NaN</td>\n",
              "      <td>92</td>\n",
              "      <td>['drama', 'romance', 'comedy']</td>\n",
              "      <td>NaN</td>\n",
              "      <td>tt0032599</td>\n",
              "      <td>7.8</td>\n",
              "      <td>60459.0</td>\n",
              "      <td>12.582</td>\n",
              "      <td>7.4</td>\n",
              "      <td>['US']</td>\n",
              "      <td>NaN</td>\n",
              "      <td>28501</td>\n",
              "      <td>Gene Lockhart</td>\n",
              "      <td>Sheriff Hartwell</td>\n",
              "      <td>ACTOR</td>\n",
              "    </tr>\n",
              "    <tr>\n",
              "      <th>4</th>\n",
              "      <td>tm83884</td>\n",
              "      <td>His Girl Friday</td>\n",
              "      <td>MOVIE</td>\n",
              "      <td>Hildy, the journalist former wife of newspaper...</td>\n",
              "      <td>1940</td>\n",
              "      <td>NaN</td>\n",
              "      <td>92</td>\n",
              "      <td>['drama', 'romance', 'comedy']</td>\n",
              "      <td>NaN</td>\n",
              "      <td>tt0032599</td>\n",
              "      <td>7.8</td>\n",
              "      <td>60459.0</td>\n",
              "      <td>12.582</td>\n",
              "      <td>7.4</td>\n",
              "      <td>['US']</td>\n",
              "      <td>NaN</td>\n",
              "      <td>28506</td>\n",
              "      <td>Helen Mack</td>\n",
              "      <td>Mollie Malloy</td>\n",
              "      <td>ACTOR</td>\n",
              "    </tr>\n",
              "  </tbody>\n",
              "</table>\n",
              "</div>"
            ],
            "text/plain": [
              "        id            title type_x  \\\n",
              "0  tm83884  His Girl Friday  MOVIE   \n",
              "1  tm83884  His Girl Friday  MOVIE   \n",
              "2  tm83884  His Girl Friday  MOVIE   \n",
              "3  tm83884  His Girl Friday  MOVIE   \n",
              "4  tm83884  His Girl Friday  MOVIE   \n",
              "\n",
              "                                       description_x  release_year  \\\n",
              "0  Hildy, the journalist former wife of newspaper...          1940   \n",
              "1  Hildy, the journalist former wife of newspaper...          1940   \n",
              "2  Hildy, the journalist former wife of newspaper...          1940   \n",
              "3  Hildy, the journalist former wife of newspaper...          1940   \n",
              "4  Hildy, the journalist former wife of newspaper...          1940   \n",
              "\n",
              "  age_certification  runtime                          genres  seasons  \\\n",
              "0               NaN       92  ['drama', 'romance', 'comedy']      NaN   \n",
              "1               NaN       92  ['drama', 'romance', 'comedy']      NaN   \n",
              "2               NaN       92  ['drama', 'romance', 'comedy']      NaN   \n",
              "3               NaN       92  ['drama', 'romance', 'comedy']      NaN   \n",
              "4               NaN       92  ['drama', 'romance', 'comedy']      NaN   \n",
              "\n",
              "     imdb_id  imdb_score  imdb_votes  tmdb_popularity  tmdb_score country  \\\n",
              "0  tt0032599         7.8     60459.0           12.582         7.4  ['US']   \n",
              "1  tt0032599         7.8     60459.0           12.582         7.4  ['US']   \n",
              "2  tt0032599         7.8     60459.0           12.582         7.4  ['US']   \n",
              "3  tt0032599         7.8     60459.0           12.582         7.4  ['US']   \n",
              "4  tt0032599         7.8     60459.0           12.582         7.4  ['US']   \n",
              "\n",
              "  date_added  person_id              name         character   role  \n",
              "0        NaN      25018        Cary Grant      Walter Burns  ACTOR  \n",
              "1        NaN      28500  Rosalind Russell     Hildy Johnson  ACTOR  \n",
              "2        NaN      12463     Ralph Bellamy     Bruce Baldwin  ACTOR  \n",
              "3        NaN      28501     Gene Lockhart  Sheriff Hartwell  ACTOR  \n",
              "4        NaN      28506        Helen Mack     Mollie Malloy  ACTOR  "
            ]
          },
          "execution_count": 142,
          "metadata": {},
          "output_type": "execute_result"
        }
      ],
      "source": [
        "amazon_titles_combinata.head()"
      ]
    },
    {
      "cell_type": "code",
      "execution_count": 143,
      "metadata": {
        "colab": {
          "base_uri": "https://localhost:8080/"
        },
        "id": "RJ6V87TPljrT",
        "outputId": "59512735-2bfb-4097-b5c3-1b7f1736ebfb"
      },
      "outputs": [
        {
          "name": "stdout",
          "output_type": "stream",
          "text": [
            "0       NaT\n",
            "1       NaT\n",
            "2       NaT\n",
            "3       NaT\n",
            "4       NaT\n",
            "         ..\n",
            "35820   NaT\n",
            "35821   NaT\n",
            "35822   NaT\n",
            "35823   NaT\n",
            "35824   NaT\n",
            "Name: date_added, Length: 35825, dtype: datetime64[ns]\n"
          ]
        }
      ],
      "source": [
        "#Dobbiamo trasformare questa colonna in formato 'datetime' utilizzando la funzione di pandas 'to_datetime'\n",
        "amazon_titles_combinata['date_added'] = pd.to_datetime(amazon_titles_combinata['date_added'])\n",
        "\n",
        "\n",
        "print(amazon_titles_combinata['date_added'])"
      ]
    },
    {
      "cell_type": "code",
      "execution_count": 144,
      "metadata": {
        "id": "sA8mhdHXljrU"
      },
      "outputs": [],
      "source": [
        "\n",
        "\n",
        "amazon_titles_combinata['year_added']= amazon_titles_combinata['date_added'].dt.year\n",
        "amazon_titles_combinata['month_added']= amazon_titles_combinata['date_added'].dt.month\n",
        "#debug\n",
        "#amazon_titles_combinata.info()"
      ]
    },
    {
      "cell_type": "markdown",
      "metadata": {
        "id": "uyoPzeyDNgve"
      },
      "source": [
        "Sostituisci la colonna genres con una colonna genres_number che contiene il numero di generi associati a quel dato. \n",
        "Abbiamo deciso di farlo creando una funzione che conta i generi per riga applicandolo poi a tutta la colonna andiamo poi a droppare la colonna che non serve più"
      ]
    },
    {
      "cell_type": "code",
      "execution_count": 145,
      "metadata": {
        "colab": {
          "base_uri": "https://localhost:8080/"
        },
        "id": "AharitCtljrU",
        "outputId": "f452202d-976e-4249-87ce-68f0ceda4b16"
      },
      "outputs": [
        {
          "name": "stdout",
          "output_type": "stream",
          "text": [
            "0        3\n",
            "1        3\n",
            "2        3\n",
            "3        3\n",
            "4        3\n",
            "        ..\n",
            "35820    0\n",
            "35821    0\n",
            "35822    0\n",
            "35823    1\n",
            "35824    1\n",
            "Name: genres_number, Length: 35825, dtype: int64\n"
          ]
        }
      ],
      "source": [
        "def cont_generi(genres):\n",
        "    return len(eval(genres))\n",
        "\n",
        "amazon_titles_combinata['genres_number'] = amazon_titles_combinata['genres'].apply(cont_generi)\n",
        "\n",
        "amazon_titles_combinata.drop('genres', axis=1, inplace=True)\n",
        "\n",
        "print(amazon_titles_combinata['genres_number'])"
      ]
    },
    {
      "cell_type": "markdown",
      "metadata": {
        "id": "KqpbKKh4Ngve"
      },
      "source": [
        "Raggruppiamo le righe e contiamo i membri del cast per ogni serie/film, andiamo infatti a raggruppare le righe per titolo e release year, usiamo poi transform per contare i valori nulli della colonna person_id per ogni gruppo.\n"
      ]
    },
    {
      "cell_type": "code",
      "execution_count": 146,
      "metadata": {
        "id": "karv8abyljrU"
      },
      "outputs": [],
      "source": [
        "amazon_titles_combinata['cast_number'] = amazon_titles_combinata.groupby(['title', 'release_year'])['person_id'].transform('count')"
      ]
    },
    {
      "cell_type": "code",
      "execution_count": 147,
      "metadata": {
        "id": "iI2QOIkKljrU"
      },
      "outputs": [],
      "source": [
        "#debug\n",
        "#amazon_titles_combinata.head()\n",
        "\n",
        "\n",
        "# creiamo una tabella \"persone\" dove andiamo a mettere i valori univoci di ogni persona della tabella netflix_titles_combinata\n",
        "persone = amazon_titles_combinata[[\"person_id\", \"name\"]].drop_duplicates()\n",
        "\n",
        "# Ci salviamo solo le righe che contengono un direttore\n",
        "direttori_per_titolo = amazon_titles_combinata[amazon_titles_combinata[\"role\"] == \"DIRECTOR\"][[\"title\", \"person_id\"]]\n",
        "\n",
        "\n",
        "# Uniamo le tabelle create prima in modo tale da associare il direttore al titolo\n",
        "titoli_con_direttore = pd.merge(direttori_per_titolo, persone, on=\"person_id\", how=\"left\")\n",
        "\n",
        "\n",
        "# facciamo una funzione \"nome_direttore\" che prende in input il titolo \n",
        "# di un film/serie tv e ritorna il nome del direttore di quel film/serie tv\n",
        "def nome_direttore(title):\n",
        "    row = titoli_con_direttore[titoli_con_direttore[\"title\"] == title]\n",
        "    if len(row) == 0:\n",
        "        return None\n",
        "    return row.iloc[0][\"name\"]\n",
        "\n",
        "# creiamo la colonna director ed applichiamo la funzione\n",
        "amazon_titles_combinata[\"director\"] = amazon_titles_combinata[\"title\"].apply(nome_direttore)\n",
        "\n",
        "#Andiamo quindi ad eliminare le colonne contenenti le informazioni dei membri del cast e a raggruppare le righe\n",
        "amazon_titles_combinata = amazon_titles_combinata.drop(columns=['person_id', 'name', 'character', 'role'])\n",
        "amazon_titles_combinata= amazon_titles_combinata.drop_duplicates(subset=['title', 'release_year'])\n",
        "\n",
        "\n",
        "#debug\n",
        "#amazon_titles_combinata.head()\n",
        "#amazon_titles_combinata.info()"
      ]
    },
    {
      "cell_type": "markdown",
      "metadata": {
        "id": "QgddxaG2ljrV"
      },
      "source": [
        "### 3. Esplorazione\n",
        "Visualizzare con boxplot la distribuzione del numero di attori nelle due categorie FILM e TV\n",
        "SHOW separando i campioni delle due piattaforme streaming\n",
        "Rappresentare la distribuzione della durata di FILM e TV SHOW."
      ]
    },
    {
      "cell_type": "code",
      "execution_count": 148,
      "metadata": {
        "colab": {
          "base_uri": "https://localhost:8080/"
        },
        "id": "hN1fn2LWljrV",
        "outputId": "9b6d2059-d43a-4aec-e55a-caf0cafadbef"
      },
      "outputs": [
        {
          "name": "stdout",
          "output_type": "stream",
          "text": [
            "<class 'pandas.core.frame.DataFrame'>\n",
            "Int64Index: 2655 entries, 0 to 38649\n",
            "Data columns (total 20 columns):\n",
            " #   Column             Non-Null Count  Dtype         \n",
            "---  ------             --------------  -----         \n",
            " 0   id                 2655 non-null   object        \n",
            " 1   title              2655 non-null   object        \n",
            " 2   type_x             2655 non-null   object        \n",
            " 3   description_x      2652 non-null   object        \n",
            " 4   release_year       2655 non-null   int64         \n",
            " 5   age_certification  1319 non-null   object        \n",
            " 6   runtime            2655 non-null   int64         \n",
            " 7   seasons            801 non-null    float64       \n",
            " 8   imdb_id            2468 non-null   object        \n",
            " 9   imdb_score         2442 non-null   float64       \n",
            " 10  imdb_votes         2438 non-null   float64       \n",
            " 11  tmdb_popularity    2655 non-null   float64       \n",
            " 12  tmdb_score         2611 non-null   float64       \n",
            " 13  country            2655 non-null   object        \n",
            " 14  date_added         2655 non-null   datetime64[ns]\n",
            " 15  year_added         2655 non-null   int64         \n",
            " 16  month_added        2655 non-null   int64         \n",
            " 17  genres_number      2655 non-null   int64         \n",
            " 18  cast_number        2655 non-null   int64         \n",
            " 19  director           2068 non-null   object        \n",
            "dtypes: datetime64[ns](1), float64(5), int64(6), object(8)\n",
            "memory usage: 435.6+ KB\n"
          ]
        }
      ],
      "source": [
        "netflix_titles_combinata.info()"
      ]
    },
    {
      "cell_type": "code",
      "execution_count": 149,
      "metadata": {
        "colab": {
          "base_uri": "https://localhost:8080/",
          "height": 631
        },
        "id": "NrqxGkdKNgvg",
        "outputId": "563e9658-7ccb-4db3-cc21-ce6f4c24adda"
      },
      "outputs": [
        {
          "name": "stdout",
          "output_type": "stream",
          "text": [
            "Statistiche dei dati:\n",
            "       num_actors_film  num_actors_show\n",
            "count      1854.000000       801.000000\n",
            "mean         17.201726         8.440699\n",
            "std          16.429190         7.004948\n",
            "min           1.000000         1.000000\n",
            "25%           6.000000         3.000000\n",
            "50%          13.000000         7.000000\n",
            "75%          22.000000        12.000000\n",
            "max         209.000000        61.000000\n"
          ]
        },
        {
          "data": {
            "image/png": "[encoded data removed]",
            "text/plain": [
              "<Figure size 640x480 with 1 Axes>"
            ]
          },
          "metadata": {},
          "output_type": "display_data"
        }
      ],
      "source": [
        "# Andiamo a creare una tabella contentente gli attori sia delle serie che dei film, lo facciamo salvandoci in una tabella i soli film e in un'altra le serie.\n",
        "# andiamo poi a rinominare la colonna \"cast_number\" perché altrimenti hanno lo stesso nome e non va bene.\n",
        "netflix_movies = netflix_titles_combinata[netflix_titles_combinata['type_x'] == 'MOVIE']\n",
        "netflix_movies = netflix_movies.rename(columns={'cast_number': 'num_actors_film'})\n",
        "netflix_actors = netflix_movies[['num_actors_film']]\n",
        "\n",
        "netflix_serie = netflix_titles_combinata[netflix_titles_combinata['type_x'] == 'SHOW']\n",
        "netflix_serie = netflix_serie.rename(columns={'cast_number': 'num_actors_show'})\n",
        "\n",
        "# Reimpostiamo l'indice dei DataFrame, così lo risistemiamo \n",
        "netflix_actors = netflix_actors.reset_index(drop=True)\n",
        "netflix_serie = netflix_serie.reset_index(drop=True)\n",
        "\n",
        "\n",
        "netflix_actors['num_actors_show'] = netflix_serie['num_actors_show']\n",
        "\n",
        "# Creiamo un boxplot per la distribuzione del numero di attori\n",
        "grafico = netflix_actors.boxplot(column=['num_actors_film', 'num_actors_show'])\n",
        "grafico.set_xticklabels(['Film', 'Serie'])\n",
        "grafico.set_title('Attori delle serie e film di Netflix')\n",
        "\n",
        "# Statistiche dei dati\n",
        "print(\"Statistiche dei dati:\")\n",
        "print(netflix_actors.describe())\n"
      ]
    },
    {
      "attachments": {},
      "cell_type": "markdown",
      "metadata": {
        "id": "CrFPK18BNgvg"
      },
      "source": [
        "Il boxplot qui sopra rapprsenta la distribuzione del numero degli attori nei film e nelle serie tv per la piattaforma Netflix. Dai dati che abbiamo ottenuto qui sopra possiamo capire che abbiamoun totale di 18554 film e 801 serie tv. \n",
        "\n",
        "Dal grafico e dai dati forniti possiamo capire che:\n",
        "- In ogni film partecipano mediamente 17 attori meentre per le serie Tv circa 8,5 questo sta a significare che per quanto riguarda Netflix solitamente partecipano più attori hai film rispetto che alle serie Tv\n",
        "\n",
        "- La deviazioen standard e di circa 16,4 per i film mentre per le serie tv corrsponde a 7, da questo possiamo capire che la dstribuzione del numero di attori nei film è più lontana dalla media rispetto e quindi più spapagliato rispetto alle serie tv che invece sono più vicine alla media. Questo lo si può vedere anche dall'immagine\n",
        "- La mediano per i film è di 13 attori mentre per le seire è di 7.\n",
        "- Il 75% dei film ha meno di 22 attore, mentre le serie Tv ne hanno meno di 12\n",
        "- il numero massimo di attori per un film è di 209 mentre per la serie tv è di 61.\n",
        "\n",
        "Inconclusione possiamo capire che il numero medio di attori che patcipa ad una serie tv e ad un film è diverso. tuttavia possiamo dire che in entrampbi i casi c'è una notevole variazone del numero degli attori, e anche il minimo e massimo sono differenti."
      ]
    },
    {
      "cell_type": "code",
      "execution_count": 150,
      "metadata": {
        "colab": {
          "base_uri": "https://localhost:8080/",
          "height": 631
        },
        "id": "XqxWM8j_ljrV",
        "outputId": "daacbc95-016d-4d99-bc8a-e0d347d3dee4"
      },
      "outputs": [
        {
          "name": "stdout",
          "output_type": "stream",
          "text": [
            "Statistiche dei dati:\n",
            "       num_actors_film  num_actors_show\n",
            "count      2408.000000       250.000000\n",
            "mean         14.001246         8.440000\n",
            "std          12.399274         6.275982\n",
            "min           1.000000         1.000000\n",
            "25%           6.000000         4.000000\n",
            "50%          11.000000         7.000000\n",
            "75%          18.000000        12.000000\n",
            "max         137.000000        32.000000\n"
          ]
        },
        {
          "data": {
            "image/png": "[encoded data removed]",
            "text/plain": [
              "<Figure size 640x480 with 1 Axes>"
            ]
          },
          "metadata": {},
          "output_type": "display_data"
        }
      ],
      "source": [
        "# Andiamo a creare una tabella contentente gli attori sia delle serie che dei film, lo facciamo salvandoci in una tabella i soli film e in un'altra le serie.\n",
        "# andiamo poi a rinominare la colonna \"cast_number\" perché altrimenti hanno lo stesso nome e non va bene.\n",
        "amazon_movies = amazon_titles_combinata[amazon_titles_combinata['type_x'] == 'MOVIE']\n",
        "amazon_movies = amazon_movies.rename(columns={'cast_number': 'num_actors_film'})\n",
        "amazon_actors = amazon_movies[['num_actors_film']]\n",
        "\n",
        "# Creiamo una tabella con le sole serie\n",
        "amazon_serie = amazon_titles_combinata[amazon_titles_combinata['type_x'] == 'SHOW']\n",
        "amazon_serie = amazon_serie.rename(columns={'cast_number': 'num_actors_show'})\n",
        "\n",
        "# Reimpostiamo l'indice dei DataFrame, così facendo l'indice parte da zero\n",
        "amazon_actors = amazon_actors.reset_index(drop=True)\n",
        "amazon_serie = amazon_serie.reset_index(drop=True)\n",
        "\n",
        "# Assegniamo i valori alla colonna 'num_actors_show' di 'amazon_actors'\n",
        "amazon_actors['num_actors_show'] = amazon_serie['num_actors_show']\n",
        "\n",
        "# Creiamo un boxplot per la distribuzione del numero di attori\n",
        "grafico = amazon_actors.boxplot(column=['num_actors_film', 'num_actors_show'])\n",
        "grafico.set_xticklabels(['Film', 'Serie'])\n",
        "grafico.set_title('Attori delle serie e film di amazon')\n",
        "\n",
        "# Statistiche dei dati\n",
        "print(\"Statistiche dei dati:\")\n",
        "print(amazon_actors.describe())\n"
      ]
    },
    {
      "attachments": {},
      "cell_type": "markdown",
      "metadata": {
        "id": "tzYTgSlJNgvg"
      },
      "source": [
        "Il boxplot qui sopra rapprsenta la distribuzione del numero degli attori nei film e nelle serie tv per la piattaforma Amazon. Dai dati che abbiamo ottenuto qui sopra possiamo capire che abbiamoun totale di 2408 film e 250 serie tv. \n",
        "\n",
        "Dal grafico e dai dati forniti possiamo capire che:\n",
        "- In ogni film partecipano mediamente 14 attori meentre per le serie Tv circa 8,4 questo sta a significare che per quanto riguarda Amazon solitamente partecipano più attori ai film rispetto che alle serie Tv\n",
        "\n",
        "- La deviazioen standard e di circa 12,3 per i film mentre per le serie tv corrsponde a 6,2 , da questo possiamo capire che la dstribuzione del numero di attori nei film è più lontana dalla media rispetto e quindi più spapagliato rispetto alle serie tv che invece sono più vicine alla media. Questo lo si può vedere anche dall'immagine\n",
        "- La mediana per i film è di 11 attori mentre per le seire è di 7.\n",
        "- Il 75% dei film ha meno di 18 attori, mentre le serie Tv ne hanno meno di 12\n",
        "- il numero massimo di attori per un film è di 137 mentre per la serie tv è di 32.\n",
        "\n",
        "In conclusione possiamo capire che il numero medio di attori che patcipa ad una serie tv e ad un film è diverso. Tuttavia possiamo dire che in entrambi i casi c'è una notevole variazone del numero degli attori, e anche il minimo e massimo sono differenti."
      ]
    },
    {
      "cell_type": "code",
      "execution_count": 151,
      "metadata": {
        "colab": {
          "base_uri": "https://localhost:8080/",
          "height": 827
        },
        "id": "YEVoFKeFljrW",
        "outputId": "01c62b12-4abf-4d54-b0dc-89fa0b749ba4"
      },
      "outputs": [
        {
          "data": {
            "image/png": "[encoded data removed]",
            "text/plain": [
              "<Figure size 640x480 with 1 Axes>"
            ]
          },
          "metadata": {},
          "output_type": "display_data"
        },
        {
          "name": "stdout",
          "output_type": "stream",
          "text": [
            "Statistiche dei dati per i FILM:\n",
            "count    4262.000000\n",
            "mean       99.439934\n",
            "std        29.871335\n",
            "min         3.000000\n",
            "25%        84.000000\n",
            "50%        96.000000\n",
            "75%       116.000000\n",
            "max       225.000000\n",
            "Name: runtime, dtype: float64\n",
            "\n",
            "Statistiche dei dati per le Serie TV:\n",
            "count    1051.000000\n",
            "mean       42.252141\n",
            "std        16.836304\n",
            "min         0.000000\n",
            "25%        27.000000\n",
            "50%        44.000000\n",
            "75%        52.000000\n",
            "max       178.000000\n",
            "Name: runtime, dtype: float64\n"
          ]
        }
      ],
      "source": [
        "# Selezionamo solo i record di tipo \"Movie\"\n",
        "netflix_film = netflix_titles_combinata[netflix_titles_combinata['type_x'] == 'MOVIE']\n",
        "amazon_movie = amazon_titles_combinata[amazon_titles_combinata['type_x'] == 'MOVIE']\n",
        "#andiamo ad unire i movie\n",
        "movie= pd.concat([netflix_film,amazon_movie])\n",
        "# Selezionamo solo i record di tipo \"TV Show\"\n",
        "netflix_show = netflix_titles_combinata[netflix_titles_combinata['type_x'] == 'SHOW']\n",
        "amazon_show = amazon_titles_combinata[amazon_titles_combinata['type_x'] == 'SHOW']\n",
        "show= pd.concat([netflix_show,amazon_show])\n",
        "\n",
        "# Creiamo il boxplot per la durata dei film\n",
        "boxplot = plt.boxplot([movie['runtime'], show['runtime']])\n",
        "plt.title(\"Distribuzione della durata dei FILM e dei TV SHOW\")\n",
        "plt.ylabel(\"Durata (minuti)\")\n",
        "plt.xticks([1, 2], ['Film', 'Serie TV'])\n",
        "\n",
        "plt.show()\n",
        "\n",
        "# Calcoliamo le statistiche dei dati\n",
        "print(\"Statistiche dei dati per i FILM:\")\n",
        "print(movie['runtime'].describe())\n",
        "print()\n",
        "print(\"Statistiche dei dati per le Serie TV:\")\n",
        "print(show['runtime'].describe())\n",
        "\n"
      ]
    },
    {
      "attachments": {},
      "cell_type": "markdown",
      "metadata": {
        "id": "2mYAcoONNgvh"
      },
      "source": [
        "questo boxplot va a rappresentare la distrubizione del numero di aattori per filme serie tv, andando però ad unire le 2 piattaforme. Abbiamo un totale di 4262 film e 1051 serie tv.\n",
        "Dal grafico e dai dati che otteniamo possiamo capire che: \n",
        "\n",
        "- La media degli attori che parttecipano hai film è di circa 99 mentre per le serie yv è di circa 42,2. Ciò significa che haifilm partecipano mediamnete più attori rispetto alle serie tv.\n",
        "- La deviazione standard per i film è di circa 2,8 mentre per le serie è di circa 16,8, da uesto possiamo dedurre che la distribuzione del numeor degli attori è più ispersa rispetto alle serie tv.\n",
        "- il 25% dei fil, hanno meno di 84 attori, mentre le seire tv ne hanno meno di 27.\n",
        "- La mediana dei film corrisponde a 96 attori menre per le serie corrispnde a 44 attori.\n",
        "- il 75% dei film ha meno di 116 atori, mentre le serie tv ne hanno meno di 52.\n",
        "- Il numeromssimo di attori per un film è di 225, mentre per le serie è di 178  in entrambi i casi possiamo notare che ci sono produzioni con un grande numero di attori.\n",
        "\n",
        "Sia dai dati che otteniamo che  dai grafici possiamo capire che i film tendono ad avere un numero maggiore di attori rispetto alle seire tv  "
      ]
    },
    {
      "cell_type": "markdown",
      "metadata": {
        "id": "c73ubCt0ljrW"
      },
      "source": [
        "### 4.Test statistici\n",
        "\n",
        "Verificare con un test statistico se la distribuzione del numero di attori in TV SHOW e FILM è diversa tenendo separate le piattaforme, e poi riunendo tutto per un unico test statistico\n",
        "\n",
        "Verificare con un test statistico se la distribuzione della durata dei FILM e TV SHOW sulla prima piattaforma che stai analizzando è diversa da quella della seconda, tenendo prima separati i dati dalle due piattaforme e poi riunendo tutto per un unico test statistico"
      ]
    },
    {
      "cell_type": "markdown",
      "metadata": {
        "id": "GHZpuxQRNgvk"
      },
      "source": [
        "NB Abbiamo deciso di fare un t-test in quanto riteniamo siamo il miglior test statistico da svolgere in base alla tesi a verificare e i dati che abbiamo a disposizione. \n",
        "Questo perché il t-test va confrontare le medie delle due distribuzioni, cosa che invece con altri test (come il chi-quadrato) non viene fatta."
      ]
    },
    {
      "cell_type": "code",
      "execution_count": 152,
      "metadata": {
        "colab": {
          "base_uri": "https://localhost:8080/"
        },
        "id": "Mal63pNuljrW",
        "outputId": "6cac860f-8fc9-4518-9f04-0549e2f3b1df"
      },
      "outputs": [
        {
          "name": "stdout",
          "output_type": "stream",
          "text": [
            "Totale attori Film: 31892\n",
            "Totale attori Serie: 6761\n"
          ]
        }
      ],
      "source": [
        "import scipy.stats as stats\n",
        "# Calcoliamo la somma di tutti gli elementi della classe \"Film\"\n",
        "sum_movies = netflix_movies['num_actors_film'].sum()\n",
        "\n",
        "# Calcoliamo la somma di tutti gli elementi della classe \"Serie\"\n",
        "sum_series = netflix_serie['num_actors_show'].sum()\n",
        "\n",
        "# stampiamo gli elementi delle due classi\n",
        "print(\"Totale attori Film:\", sum_movies)\n",
        "print(\"Totale attori Serie:\", sum_series)\n",
        "\n"
      ]
    },
    {
      "cell_type": "markdown",
      "metadata": {
        "id": "vmtbdiwsljrW"
      },
      "source": [
        "Abbiamo verificato che le condizioni necessarie per effettuare il t-test.\n",
        "Infatti le condizioni per effettuare il t-test sono:\n",
        "1. Campione con numero di elementi n > 30;\n",
        "2. Popolazione N almeno dieci volte superiore al campione N > 10*n.\n",
        "\n",
        "Scegliamo un livello di significatività di 0.05 (intervallo di confidenza di 0.95). \n",
        "\n",
        "\n",
        "Ipotesi nulla:\n",
        "\n",
        "H0 = le medie di attori di SHOW e MOVIE non sono statisticamente diverse;\n",
        "\n",
        "\n",
        "\n",
        "Ipotesi alternativa:\n",
        "\n",
        "HA = le medie sono diverse.\n",
        "\n",
        "\n",
        "significatività = 0.05"
      ]
    },
    {
      "cell_type": "code",
      "execution_count": 153,
      "metadata": {
        "colab": {
          "base_uri": "https://localhost:8080/"
        },
        "id": "0AnpeXndljrX",
        "outputId": "687bcebf-89a9-4f18-b289-9c882bc2c41c"
      },
      "outputs": [
        {
          "name": "stdout",
          "output_type": "stream",
          "text": [
            "t: 14.531197168513776\n",
            "p_value: 4.3215462765106505e-46\n"
          ]
        }
      ],
      "source": [
        "t, p_value = stats.ttest_ind(netflix_movies['num_actors_film'], netflix_serie['num_actors_show'])\n",
        "\n",
        "print('t:', t)\n",
        "print('p_value:', p_value)\n"
      ]
    },
    {
      "cell_type": "markdown",
      "metadata": {
        "id": "WPbMgp8eljrX"
      },
      "source": [
        "siccome il p-value << significatività; deduciamo che possiamo rigettare l'ipotesi nulla in favore di quella alternativa."
      ]
    },
    {
      "cell_type": "markdown",
      "metadata": {
        "id": "q-kRojDwljrX"
      },
      "source": [
        "Verifichiamo ora che la media degli attori delle serie tv sia più bassa rispetto a quella dei film. Dobbiamo usare il t-test ad una coda. \n",
        "\n",
        "Scegliamo un livello di significatività di 0.05 (intervallo di confidenza di 0.95).\n",
        "\n",
        "Ipotesi nulla:\n",
        "\n",
        "H0 = La media degli attori delle serie tv è maggiore o uguale rispetto a quella dei film.\n",
        "\n",
        "Ipotesi alternativa:\n",
        "\n",
        "HA = La media degli attori delle serie tv è minore rispetto a quella dei film.\n",
        "\n",
        "significatività = 0.05"
      ]
    },
    {
      "cell_type": "code",
      "execution_count": 154,
      "metadata": {
        "colab": {
          "base_uri": "https://localhost:8080/"
        },
        "id": "6sGlkOe8ljrX",
        "outputId": "d38152c0-bc9d-4e4c-a6ab-7f5366e7b578"
      },
      "outputs": [
        {
          "name": "stdout",
          "output_type": "stream",
          "text": [
            "t: 14.531197168513776\n",
            "p_value: 2.1607731382553252e-46\n"
          ]
        }
      ],
      "source": [
        "t, p_value = stats.ttest_ind(netflix_movies['num_actors_film'], netflix_serie['num_actors_show'], alternative='greater')\n",
        "\n",
        "print('t:', t)\n",
        "print('p_value:', p_value)\n"
      ]
    },
    {
      "cell_type": "markdown",
      "metadata": {
        "id": "Ilv6W4fhljrX"
      },
      "source": [
        "Dato che il p-value è molto basso, possiamo rifiutare l'ipotesi nulla ed affermare che la media degli attori delle serie tv è nettamente inferiore a quella dei film.\n",
        "\n",
        "Andiamo comunque a fare un'ulteriore verifica:\n",
        " "
      ]
    },
    {
      "cell_type": "code",
      "execution_count": 155,
      "metadata": {
        "colab": {
          "base_uri": "https://localhost:8080/"
        },
        "id": "f6Smv9SnljrX",
        "outputId": "ab23abb2-ade0-409c-db9b-20090f0b6f4b"
      },
      "outputs": [
        {
          "name": "stdout",
          "output_type": "stream",
          "text": [
            "t: 14.531197168513776\n",
            "p_value: 1.0\n"
          ]
        }
      ],
      "source": [
        "t, p_value = stats.ttest_ind(netflix_movies['num_actors_film'], netflix_serie['num_actors_show'], alternative='less')\n",
        "\n",
        "print('t:', t)\n",
        "print('p_value:', p_value)\n"
      ]
    },
    {
      "cell_type": "markdown",
      "metadata": {
        "id": "SqzXXwt6ljrY"
      },
      "source": [
        "-------------------------------------------------"
      ]
    },
    {
      "cell_type": "code",
      "execution_count": 156,
      "metadata": {
        "colab": {
          "base_uri": "https://localhost:8080/"
        },
        "id": "pPwTYDfCljrY",
        "outputId": "7fd7ebe2-63c5-413b-bf61-ecc2c7aaac35"
      },
      "outputs": [
        {
          "name": "stdout",
          "output_type": "stream",
          "text": [
            "Totale attori Film: 33715\n",
            "Totale attori Serie: 2110\n"
          ]
        }
      ],
      "source": [
        "# per lo stesso motivo di Neflix, applichiamo quanto già fatto ad Amazon\n",
        "\n",
        "\n",
        "# Calcoliamo la somma di tutti gli elementi della classe \"Film\"\n",
        "sum_movies = amazon_movies['num_actors_film'].sum()\n",
        "\n",
        "# Calcoliamo la somma di tutti gli elementi della classe \"Serie\"\n",
        "sum_series = amazon_serie['num_actors_show'].sum()\n",
        "\n",
        "# stampiamo gli elementi delle due classi\n",
        "print(\"Totale attori Film:\", sum_movies)\n",
        "print(\"Totale attori Serie:\", sum_series)"
      ]
    },
    {
      "cell_type": "markdown",
      "metadata": {
        "id": "_SDl1H6ZljrY"
      },
      "source": [
        "Abbiamo verificato che le condizioni necessarie per effettuare il t-test.\n",
        "Infatti le condizioni per effettuare il t-test sono:\n",
        "1. Campione con numero di elementi n > 30;\n",
        "2. Popolazione N almeno dieci volte superiore al campione N > 10*n.\n",
        "\n",
        "Scegliamo un livello di significatività di 0.05 (intervallo di confidenza di 0.95). \n",
        "\n",
        "\n",
        "Ipotesi nulla:\n",
        "\n",
        "H0 = le medie di attori di SHOW e MOVIE sono non statisticamente diverse;\n",
        "\n",
        "\n",
        "\n",
        "Ipotesi alternativa:\n",
        "\n",
        "HA = le medie sono diverse.\n",
        "\n",
        "\n",
        "significatività = 0.05"
      ]
    },
    {
      "cell_type": "code",
      "execution_count": 157,
      "metadata": {
        "colab": {
          "base_uri": "https://localhost:8080/"
        },
        "id": "GGbKMyZGljrY",
        "outputId": "6981f3f9-ab41-45ac-8ce5-d5edf699f6cb"
      },
      "outputs": [
        {
          "name": "stdout",
          "output_type": "stream",
          "text": [
            "t: 6.998298743769593\n",
            "p_value: 3.267736863415369e-12\n"
          ]
        }
      ],
      "source": [
        "# andiamo a fare il t-test sul numero di attori dei film e delle serie tv di Amazon\n",
        "t, p_value = stats.ttest_ind(amazon_movies['num_actors_film'], amazon_serie['num_actors_show'])\n",
        "\n",
        "print('t:', t)\n",
        "print('p_value:', p_value)\n"
      ]
    },
    {
      "cell_type": "markdown",
      "metadata": {
        "id": "L6_OMq5CljrZ"
      },
      "source": [
        "siccome il p-value << significatività; deduciamo che possiamo rigettare l'ipotesi nulla in favore di quella alternativa.\n",
        "Verifichiamo ora che la media degli attori delle serie tv sia più bassa rispetto a quella dei film. Dobbiamo usare il t-test ad una coda. \n",
        "\n",
        "Scegliamo un livello di significatività di 0.05 (intervallo di confidenza di 0.95).\n",
        "\n",
        "Ipotesi nulla:\n",
        "\n",
        "H0 = La media degli attori delle serie tv è maggiore o uguale rispetto a quella dei film.\n",
        "\n",
        "Ipotesi alternativa:\n",
        "\n",
        "HA = La media degli attori delle serie tv è minore rispetto a quella dei film.\n",
        "\n",
        "significatività = 0.05"
      ]
    },
    {
      "cell_type": "code",
      "execution_count": 158,
      "metadata": {
        "colab": {
          "base_uri": "https://localhost:8080/"
        },
        "id": "Y3HF-enMljrZ",
        "outputId": "8274282e-acf1-44f1-de2b-16185688dfa2"
      },
      "outputs": [
        {
          "name": "stdout",
          "output_type": "stream",
          "text": [
            "1.6338684317076844e-12\n"
          ]
        }
      ],
      "source": [
        "t,p_value = stats.ttest_ind(amazon_movies['num_actors_film'], amazon_serie['num_actors_show'], alternative= \"greater\")\n",
        "print(p_value)"
      ]
    },
    {
      "cell_type": "markdown",
      "metadata": {
        "id": "fuVVQwPfljrZ"
      },
      "source": [
        "Dato che il p-value è molto basso, possiamo rifiutare l'ipotesi nulla ed affermare che la media degli attori delle serie tv è nettamente inferiore a quella dei film.\n",
        "\n",
        "Andiamo comunque a fare un'ulteriore verifica:\n"
      ]
    },
    {
      "cell_type": "code",
      "execution_count": 159,
      "metadata": {
        "colab": {
          "base_uri": "https://localhost:8080/"
        },
        "id": "NgejTJXZljrZ",
        "outputId": "55fd1348-fbac-4709-f363-5631cc63cf5c"
      },
      "outputs": [
        {
          "name": "stdout",
          "output_type": "stream",
          "text": [
            "0.9999999999983662\n"
          ]
        }
      ],
      "source": [
        "t,p_value = stats.ttest_ind(amazon_movies['num_actors_film'], amazon_serie['num_actors_show'], alternative= \"less\")\n",
        "print(p_value)"
      ]
    },
    {
      "cell_type": "markdown",
      "metadata": {
        "id": "ydA75nkhljrZ"
      },
      "source": [
        "Adesso applichiamo il test statistico indipendentemente dalla piattaforma, andiamo quindi ad unire i dati delle due piattaforme.\n"
      ]
    },
    {
      "cell_type": "code",
      "execution_count": 160,
      "metadata": {
        "colab": {
          "base_uri": "https://localhost:8080/"
        },
        "id": "gqOKO3UHljrZ",
        "outputId": "598cc991-0515-48fc-8053-6a7fa9929059"
      },
      "outputs": [
        {
          "name": "stdout",
          "output_type": "stream",
          "text": [
            "<class 'pandas.core.frame.DataFrame'>\n",
            "Int64Index: 1051 entries, 0 to 249\n",
            "Data columns (total 20 columns):\n",
            " #   Column             Non-Null Count  Dtype         \n",
            "---  ------             --------------  -----         \n",
            " 0   id                 1051 non-null   object        \n",
            " 1   title              1051 non-null   object        \n",
            " 2   type_x             1051 non-null   object        \n",
            " 3   description_x      1045 non-null   object        \n",
            " 4   release_year       1051 non-null   int64         \n",
            " 5   age_certification  823 non-null    object        \n",
            " 6   runtime            1051 non-null   int64         \n",
            " 7   seasons            1051 non-null   float64       \n",
            " 8   imdb_id            954 non-null    object        \n",
            " 9   imdb_score         944 non-null    float64       \n",
            " 10  imdb_votes         944 non-null    float64       \n",
            " 11  tmdb_popularity    1051 non-null   float64       \n",
            " 12  tmdb_score         1015 non-null   float64       \n",
            " 13  country            1051 non-null   object        \n",
            " 14  date_added         805 non-null    datetime64[ns]\n",
            " 15  year_added         805 non-null    float64       \n",
            " 16  month_added        805 non-null    float64       \n",
            " 17  genres_number      1051 non-null   int64         \n",
            " 18  num_actors_show    1051 non-null   int64         \n",
            " 19  director           373 non-null    object        \n",
            "dtypes: datetime64[ns](1), float64(7), int64(4), object(8)\n",
            "memory usage: 172.4+ KB\n",
            "<class 'pandas.core.frame.DataFrame'>\n",
            "Int64Index: 4262 entries, 0 to 35824\n",
            "Data columns (total 20 columns):\n",
            " #   Column             Non-Null Count  Dtype         \n",
            "---  ------             --------------  -----         \n",
            " 0   id                 4262 non-null   object        \n",
            " 1   title              4262 non-null   object        \n",
            " 2   type_x             4262 non-null   object        \n",
            " 3   description_x      4259 non-null   object        \n",
            " 4   release_year       4262 non-null   int64         \n",
            " 5   age_certification  1371 non-null   object        \n",
            " 6   runtime            4262 non-null   int64         \n",
            " 7   seasons            0 non-null      float64       \n",
            " 8   imdb_id            3976 non-null   object        \n",
            " 9   imdb_score         3915 non-null   float64       \n",
            " 10  imdb_votes         3908 non-null   float64       \n",
            " 11  tmdb_popularity    4260 non-null   float64       \n",
            " 12  tmdb_score         3861 non-null   float64       \n",
            " 13  country            4262 non-null   object        \n",
            " 14  date_added         1858 non-null   datetime64[ns]\n",
            " 15  year_added         1858 non-null   float64       \n",
            " 16  month_added        1858 non-null   float64       \n",
            " 17  genres_number      4262 non-null   int64         \n",
            " 18  num_actors_film    4262 non-null   int64         \n",
            " 19  director           4078 non-null   object        \n",
            "dtypes: datetime64[ns](1), float64(7), int64(4), object(8)\n",
            "memory usage: 699.2+ KB\n"
          ]
        }
      ],
      "source": [
        "serie_tv= pd.concat([netflix_serie,amazon_serie])\n",
        "film = pd.concat([netflix_movies,amazon_movies])\n",
        "\n",
        "serie_tv.info()\n",
        "film.info()"
      ]
    },
    {
      "cell_type": "code",
      "execution_count": 161,
      "metadata": {
        "colab": {
          "base_uri": "https://localhost:8080/"
        },
        "id": "AAcUa8s1ljra",
        "outputId": "0f8bc4a8-a959-46d1-ecdf-90d8dac91068"
      },
      "outputs": [
        {
          "name": "stdout",
          "output_type": "stream",
          "text": [
            "Totale attori Film: 65607\n",
            "Totale attori Serie: 8871\n"
          ]
        }
      ],
      "source": [
        "# per lo stesso motivo usato per le piattaforme separate, applichiamo quanto già fatto alle piattaforme unite\n",
        "\n",
        "# Calcoliamo la somma di tutti gli elementi della classe \"Film\"\n",
        "sum_movies = film['num_actors_film'].sum()\n",
        "\n",
        "# Calcoliamo la somma di tutti gli elementi della classe \"Serie\"\n",
        "sum_series = serie_tv['num_actors_show'].sum()\n",
        "\n",
        "# stampiamo gli elementi delle due classi\n",
        "print(\"Totale attori Film:\", sum_movies)\n",
        "print(\"Totale attori Serie:\", sum_series)\n"
      ]
    },
    {
      "cell_type": "markdown",
      "metadata": {
        "id": "ULcSpAc9ljra"
      },
      "source": [
        "Abbiamo verificato che le condizioni necessarie per effettuare il t-test.\n",
        "Infatti le condizioni per effettuare il t-test sono:\n",
        "1. Campione con numero di elementi n > 30;\n",
        "2. Popolazione N almeno dieci volte superiore al campione N > 10*n.\n",
        "\n",
        "Scegliamo un livello di significatività di 0.05 (intervallo di confidenza di 0.95). \n",
        "\n",
        "\n",
        "Ipotesi nulla:\n",
        "\n",
        "H0 = le medie di attori di SHOW e MOVIE non sono statisticamente diverse;\n",
        "\n",
        "\n",
        "\n",
        "Ipotesi alternativa:\n",
        "\n",
        "HA = le medie sono diverse.\n",
        "\n",
        "\n",
        "significatività = 0.05"
      ]
    },
    {
      "cell_type": "code",
      "execution_count": 162,
      "metadata": {
        "colab": {
          "base_uri": "https://localhost:8080/"
        },
        "id": "mEJOEcwUljra",
        "outputId": "6fc30866-a218-4ebb-c552-6bd1ba6006db"
      },
      "outputs": [
        {
          "name": "stdout",
          "output_type": "stream",
          "text": [
            "15.256387065664144\n",
            "1.817682226864352e-51\n"
          ]
        }
      ],
      "source": [
        "t,p_value = stats.ttest_ind(film['num_actors_film'],serie_tv['num_actors_show'])\n",
        "\n",
        "print(t)\n",
        "print(p_value)"
      ]
    },
    {
      "cell_type": "markdown",
      "metadata": {
        "id": "zmkyWFp1ljra"
      },
      "source": [
        "siccome il p-value << significatività; deduciamo che possiamo rigettare l'ipotesi nulla in favore di quella alternativa.\n",
        "\n",
        "Verifichiamo ora che la media degli attori delle serie tv sia più bassa rispetto a quella dei film. Dobbiamo usare il t-test ad una coda. \n",
        "\n",
        "Scegliamo un livello di significatività di 0.05 (intervallo di confidenza di 0.95).\n",
        "\n",
        "Ipotesi nulla:\n",
        "\n",
        "H0 = La media degli attori delle serie tv è maggiore o uguale rispetto a quella dei film.\n",
        "\n",
        "Ipotesi alternativa:\n",
        "\n",
        "HA = La media degli attori delle serie tv è minore rispetto a quella dei film.\n",
        "\n",
        "significatività = 0.05"
      ]
    },
    {
      "cell_type": "code",
      "execution_count": 163,
      "metadata": {
        "colab": {
          "base_uri": "https://localhost:8080/"
        },
        "id": "P8X1S58tljra",
        "outputId": "e5b58147-1f2e-489a-d4d1-9c07cf9dca8a"
      },
      "outputs": [
        {
          "name": "stdout",
          "output_type": "stream",
          "text": [
            "t: 15.256387065664144\n",
            "p_value: 9.08841113432176e-52\n"
          ]
        }
      ],
      "source": [
        "t, p_value = stats.ttest_ind(film['num_actors_film'], serie_tv['num_actors_show'], alternative='greater')\n",
        "\n",
        "print('t:', t)\n",
        "print('p_value:', p_value)"
      ]
    },
    {
      "cell_type": "markdown",
      "metadata": {
        "id": "NytYKfbMljrb"
      },
      "source": [
        "Dato che il p-value è molto basso, possiamo rifiutare l'ipotesi nulla ed affermare che la media degli attori delle serie tv è nettamente inferiore a quella dei film.\n",
        "\n",
        "Andiamo comunque a fare un'ulteriore verifica:\n"
      ]
    },
    {
      "cell_type": "code",
      "execution_count": 164,
      "metadata": {
        "colab": {
          "base_uri": "https://localhost:8080/"
        },
        "id": "8ngsCgjlljrb",
        "outputId": "f66fb6a1-f6c9-4369-a163-e0f9a0cf243e"
      },
      "outputs": [
        {
          "name": "stdout",
          "output_type": "stream",
          "text": [
            "1.0\n"
          ]
        }
      ],
      "source": [
        "t, p_value = stats.ttest_ind(film['num_actors_film'], serie_tv['num_actors_show'], alternative= \"less\")\n",
        "print(p_value)"
      ]
    },
    {
      "cell_type": "markdown",
      "metadata": {
        "id": "G3sIizOUljrb"
      },
      "source": [
        "Anche per il secondo punto utilizziamo un t-test.\n",
        "\n",
        "In quanto le serie tv hanno un minutaggio a puntata ma non abbiamo il numero di episodi andremo a fare il test statistico in base al minutaggio di una singola puntata per serie tv."
      ]
    },
    {
      "cell_type": "code",
      "execution_count": 165,
      "metadata": {
        "colab": {
          "base_uri": "https://localhost:8080/"
        },
        "id": "rZIs1nCpljrb",
        "outputId": "5fb10401-b3be-4367-dd8d-50fbd5f11a01"
      },
      "outputs": [
        {
          "name": "stdout",
          "output_type": "stream",
          "text": [
            "<class 'pandas.core.series.Series'>\n",
            "Int64Index: 1854 entries, 0 to 38649\n",
            "Series name: runtime\n",
            "Non-Null Count  Dtype\n",
            "--------------  -----\n",
            "1854 non-null   int64\n",
            "dtypes: int64(1)\n",
            "memory usage: 29.0 KB\n"
          ]
        }
      ],
      "source": [
        "#prima di tutto stampiamo gli elementi delle due classi\n",
        "netflix_film['runtime'].info()\n",
        "\n"
      ]
    },
    {
      "cell_type": "code",
      "execution_count": 166,
      "metadata": {
        "colab": {
          "base_uri": "https://localhost:8080/"
        },
        "id": "okm5sG7eljrb",
        "outputId": "dbfd33e2-ce99-4ec6-e9b7-d562778fdda1"
      },
      "outputs": [
        {
          "name": "stdout",
          "output_type": "stream",
          "text": [
            "<class 'pandas.core.series.Series'>\n",
            "Int64Index: 801 entries, 252 to 38648\n",
            "Series name: runtime\n",
            "Non-Null Count  Dtype\n",
            "--------------  -----\n",
            "801 non-null    int64\n",
            "dtypes: int64(1)\n",
            "memory usage: 12.5 KB\n"
          ]
        }
      ],
      "source": [
        "netflix_show['runtime'].info()"
      ]
    },
    {
      "cell_type": "markdown",
      "metadata": {
        "id": "vWwPkTfMljrc"
      },
      "source": [
        "In entrambe le tabelle il runtime in entrambe le tabelle é espresso in minuti, quindi confronteremo il runtime"
      ]
    },
    {
      "cell_type": "markdown",
      "metadata": {
        "id": "UmsH820Iljrc"
      },
      "source": [
        "Abbiamo verificato che le condizioni necessarie per effettuare il t-test.\n",
        "Infatti le condizioni per effettuare il t-test sono:\n",
        "1. Campione con numero di elementi n > 30;\n",
        "2. Popolazione N almeno dieci volte superiore al campione N > 10*n.\n",
        "\n",
        "Scegliamo un livello di significatività di 0.05 (intervallo di confidenza di 0.95). \n",
        "\n",
        "\n",
        "Ipotesi nulla:\n",
        "\n",
        "H0 = Le medie della durata di SHOW e MOVIE non sono statisticamente diverse;\n",
        "\n",
        "Ipotesi alternativa:\n",
        "\n",
        "HA = le medie sono diverse.\n",
        "\n",
        "\n",
        "significatività = 0.05"
      ]
    },
    {
      "cell_type": "code",
      "execution_count": 167,
      "metadata": {
        "colab": {
          "base_uri": "https://localhost:8080/"
        },
        "id": "LbiwKyBMljrc",
        "outputId": "fae4176b-1401-419b-8325-faeb60bb7b88"
      },
      "outputs": [
        {
          "name": "stdout",
          "output_type": "stream",
          "text": [
            "t: 48.797850624466626\n",
            "p_value: 0.0\n"
          ]
        }
      ],
      "source": [
        "t, p_value = stats.ttest_ind(netflix_film['runtime'], netflix_show['runtime'])\n",
        "\n",
        "print('t:', t)\n",
        "print('p_value:', p_value)\n",
        "\n"
      ]
    },
    {
      "cell_type": "markdown",
      "metadata": {
        "id": "UYeDiVqvljrc"
      },
      "source": [
        "siccome il p-value << significatività; deduciamo che possiamo rigettare l'ipotesi nulla in favore di quella alternativa.\n",
        "\n",
        "Verifichiamo ora che la media della durata delle serie tv sia più bassa rispetto a quella dei film. Dobbiamo usare il t-test ad una coda. \n",
        "\n",
        "Scegliamo un livello di significatività di 0.05 (intervallo di confidenza di 0.95).\n",
        "\n",
        "Ipotesi nulla:\n",
        "\n",
        "H0 = La media della durata delle serie tv è maggiore o uguale rispetto a quella dei film.\n",
        "\n",
        "Ipotesi alternativa:\n",
        "\n",
        "HA = La media della delle serie tv è minore rispetto a quella dei film.\n",
        "\n",
        "significatività = 0.05\n"
      ]
    },
    {
      "cell_type": "code",
      "execution_count": 168,
      "metadata": {
        "colab": {
          "base_uri": "https://localhost:8080/"
        },
        "id": "oT9gDGNxNgvp",
        "outputId": "bd6b758a-e6ca-46a8-aae8-d9fff242bc4b"
      },
      "outputs": [
        {
          "name": "stdout",
          "output_type": "stream",
          "text": [
            "p_value:  0.0\n"
          ]
        }
      ],
      "source": [
        "\n",
        "t, p_value = stats.ttest_ind(netflix_film['runtime'], netflix_show['runtime'], alternative= \"greater\")\n",
        "\n",
        "print('p_value: ', p_value)\n"
      ]
    },
    {
      "cell_type": "markdown",
      "metadata": {
        "id": "DUTZ9Ze9Ngvp"
      },
      "source": [
        "Dato che il p-value è molto basso, possiamo rifiutare l'ipotesi nulla ed affermare che la media della durata delle serie tv è nettamente inferiore a quella dei film.\n",
        "\n",
        "Andiamo comunque a fare un'ulteriore verifica:"
      ]
    },
    {
      "cell_type": "code",
      "execution_count": 169,
      "metadata": {
        "colab": {
          "base_uri": "https://localhost:8080/"
        },
        "id": "Jsjg0DF0Ngvq",
        "outputId": "e6e2e0a1-202c-4c37-bbf9-6336b5cdf196"
      },
      "outputs": [
        {
          "name": "stdout",
          "output_type": "stream",
          "text": [
            "p_value:  1.0\n"
          ]
        }
      ],
      "source": [
        "t, p_value = stats.ttest_ind(netflix_film['runtime'], netflix_show['runtime'], alternative= \"less\")\n",
        "print('p_value: ',p_value)"
      ]
    },
    {
      "cell_type": "markdown",
      "metadata": {
        "id": "OVIVa9FnNgvq"
      },
      "source": [
        "\n",
        "\n",
        "Adesso facciamo lo stesso con Amazon."
      ]
    },
    {
      "cell_type": "markdown",
      "metadata": {
        "id": "zOEDnWrYNgvt"
      },
      "source": [
        "Abbiamo verificato che le condizioni necessarie per effettuare il t-test.\n",
        "Infatti le condizioni per effettuare il t-test sono:\n",
        "1. Campione con numero di elementi n > 30;\n",
        "2. Popolazione N almeno dieci volte superiore al campione N > 10*n.\n",
        "\n",
        "Scegliamo un livello di significatività di 0.05 (intervallo di confidenza di 0.95). \n",
        "\n",
        "\n",
        "Ipotesi nulla:\n",
        "\n",
        "H0 = Le medie della durata di SHOW e MOVIE non sono statisticamente diverse;\n",
        "\n",
        "Ipotesi alternativa:\n",
        "\n",
        "HA = le medie sono diverse.\n",
        "\n",
        "\n",
        "significatività = 0.05"
      ]
    },
    {
      "cell_type": "code",
      "execution_count": 170,
      "metadata": {
        "colab": {
          "base_uri": "https://localhost:8080/"
        },
        "id": "kPrJ5vOPljrd",
        "outputId": "32a16db7-c316-41ea-d20d-ff7c6609722a"
      },
      "outputs": [
        {
          "name": "stdout",
          "output_type": "stream",
          "text": [
            "t:  31.58295454565974\n",
            "p_value:  3.724863386791622e-186\n"
          ]
        }
      ],
      "source": [
        "\n",
        "t, p_value = stats.ttest_ind(amazon_movie['runtime'], amazon_show['runtime'])\n",
        "\n",
        "print('t: ', t)\n",
        "\n",
        "print('p_value: ', p_value)\n"
      ]
    },
    {
      "cell_type": "markdown",
      "metadata": {
        "id": "nOYKbWvVljrd"
      },
      "source": [
        "siccome il p-value << significatività; deduciamo che possiamo rigettare l'ipotesi nulla in favore di quella alternativa.\n",
        "\n",
        "Verifichiamo ora che la media della durata delle serie tv sia più bassa rispetto a quella dei film. Dobbiamo usare il t-test ad una coda. \n",
        "\n",
        "Scegliamo un livello di significatività di 0.05 (intervallo di confidenza di 0.95).\n",
        "\n",
        "Ipotesi nulla:\n",
        "\n",
        "H0 = La media della durata delle serie tv è maggiore o uguale rispetto a quella dei film.\n",
        "\n",
        "Ipotesi alternativa:\n",
        "\n",
        "HA = La media della delle serie tv è minore rispetto a quella dei film.\n",
        "\n",
        "significatività = 0.05\n"
      ]
    },
    {
      "cell_type": "code",
      "execution_count": 171,
      "metadata": {
        "colab": {
          "base_uri": "https://localhost:8080/"
        },
        "id": "wHN5fHikNgwH",
        "outputId": "fe2b1f14-36cf-4f40-fdb9-874b20e4e52d"
      },
      "outputs": [
        {
          "name": "stdout",
          "output_type": "stream",
          "text": [
            "p_value:  1.862431693395811e-186\n"
          ]
        }
      ],
      "source": [
        "t, p_value = stats.ttest_ind(amazon_movie['runtime'], amazon_show['runtime'], alternative= \"greater\")\n",
        "\n",
        "print('p_value: ', p_value)\n"
      ]
    },
    {
      "cell_type": "markdown",
      "metadata": {
        "id": "KvZJyGYJNgwH"
      },
      "source": [
        "Dato che il p-value è molto basso, possiamo rifiutare l'ipotesi nulla ed affermare che la media della durata delle serie tv è nettamente inferiore a quella dei film.\n",
        "\n",
        "Andiamo comunque a fare un'ulteriore verifica:"
      ]
    },
    {
      "cell_type": "code",
      "execution_count": 172,
      "metadata": {
        "colab": {
          "base_uri": "https://localhost:8080/"
        },
        "id": "4cEEb-p4NgwI",
        "outputId": "69937d1f-df43-4719-815d-5f858d7b2a9a"
      },
      "outputs": [
        {
          "name": "stdout",
          "output_type": "stream",
          "text": [
            "p_value:  1.0\n"
          ]
        }
      ],
      "source": [
        "t, p_value = stats.ttest_ind(amazon_movie['runtime'], amazon_show['runtime'], alternative= \"less\")\n",
        "print('p_value: ',p_value)"
      ]
    },
    {
      "cell_type": "markdown",
      "metadata": {
        "id": "HTXDw_eiljrd"
      },
      "source": [
        "Applichiamo come richiesto il ttest anche alle serie tv ed ai film indipendentemente dalla piattaforma.\n",
        "\n",
        "Abbiamo verificato che le condizioni necessarie per effettuare il t-test.\n",
        "Infatti le condizioni per effettuare il t-test sono:\n",
        "1. Campione con numero di elementi n > 30;\n",
        "2. Popolazione N almeno dieci volte superiore al campione N > 10*n.\n",
        "\n",
        "Scegliamo un livello di significatività di 0.05 (intervallo di confidenza di 0.95). \n",
        "\n",
        "\n",
        "Ipotesi nulla:\n",
        "\n",
        "H0 = Le medie della durata di SHOW e MOVIE non sono statisticamente diverse;\n",
        "\n",
        "Ipotesi alternativa:\n",
        "\n",
        "HA = le medie sono diverse.\n",
        "\n",
        "\n",
        "significatività = 0.05"
      ]
    },
    {
      "cell_type": "code",
      "execution_count": 173,
      "metadata": {
        "colab": {
          "base_uri": "https://localhost:8080/"
        },
        "id": "aJHS3IQDljrd",
        "outputId": "b2870437-bc70-4a3f-a4e9-b84491ec80cc"
      },
      "outputs": [
        {
          "name": "stdout",
          "output_type": "stream",
          "text": [
            "t:  59.76584701865479\n",
            "p_value:  0.0\n"
          ]
        }
      ],
      "source": [
        "t,p_value =stats.ttest_ind(movie['runtime'], show['runtime'])\n",
        "\n",
        "print('t: ', t)\n",
        "print('p_value: ', p_value)\n"
      ]
    },
    {
      "cell_type": "markdown",
      "metadata": {
        "id": "N9l_Z-Akljre"
      },
      "source": [
        "siccome il p-value << significatività; deduciamo che possiamo rigettare l'ipotesi nulla in favore di quella alternativa.\n",
        "\n",
        "Verifichiamo ora che la media della durata delle serie tv sia più bassa rispetto a quella dei film. Dobbiamo usare il t-test ad una coda. \n",
        "\n",
        "Scegliamo un livello di significatività di 0.05 (intervallo di confidenza di 0.95).\n",
        "\n",
        "Ipotesi nulla:\n",
        "\n",
        "H0 = La media della durata delle serie tv è maggiore o uguale rispetto a quella dei film.\n",
        "\n",
        "Ipotesi alternativa:\n",
        "\n",
        "HA = La media della delle serie tv è minore rispetto a quella dei film.\n",
        "\n",
        "significatività = 0.05"
      ]
    },
    {
      "cell_type": "code",
      "execution_count": 174,
      "metadata": {
        "colab": {
          "base_uri": "https://localhost:8080/"
        },
        "id": "oIyn_VYoNgwI",
        "outputId": "07dc1cf4-0fd9-48e6-c274-ed80d943bad9"
      },
      "outputs": [
        {
          "name": "stdout",
          "output_type": "stream",
          "text": [
            "p_value:  0.0\n"
          ]
        }
      ],
      "source": [
        "t,p_value =stats.ttest_ind(movie['runtime'], show['runtime'], alternative= \"greater\")\n",
        "print('p_value: ', p_value)\n"
      ]
    },
    {
      "cell_type": "markdown",
      "metadata": {
        "id": "vV8h6hlFNgwI"
      },
      "source": [
        "Dato che il p-value è molto basso, possiamo rifiutare l'ipotesi nulla ed affermare che la media della durata delle serie tv è nettamente inferiore a quella dei film.\n",
        "\n",
        "Andiamo comunque a fare un'ulteriore verifica:"
      ]
    },
    {
      "cell_type": "code",
      "execution_count": 175,
      "metadata": {
        "colab": {
          "base_uri": "https://localhost:8080/"
        },
        "id": "Wyw1UJqoNgwI",
        "outputId": "f4c5edde-26f0-41ed-9b85-4dbb4ceaf02b"
      },
      "outputs": [
        {
          "name": "stdout",
          "output_type": "stream",
          "text": [
            "p_value:  1.0\n"
          ]
        }
      ],
      "source": [
        "t,p_value =stats.ttest_ind(movie['runtime'], show['runtime'], alternative= \"less\")\n",
        "print('p_value: ',p_value)"
      ]
    },
    {
      "cell_type": "markdown",
      "metadata": {
        "id": "ijCSKIRVljre"
      },
      "source": [
        "Per verificare anche graficamente questo risultato andiamo a creare un grafico.\n"
      ]
    },
    {
      "cell_type": "code",
      "execution_count": 176,
      "metadata": {
        "colab": {
          "base_uri": "https://localhost:8080/",
          "height": 506
        },
        "id": "u870I1e8ljre",
        "outputId": "838b2bc3-a2cc-4990-9564-4b6c2e0a7599"
      },
      "outputs": [
        {
          "data": {
            "text/plain": [
              "([<matplotlib.axis.XTick at 0x1661a2af0>,\n",
              "  <matplotlib.axis.XTick at 0x1661a2430>],\n",
              " [Text(1, 0, 'Film'), Text(2, 0, 'Serie TV')])"
            ]
          },
          "execution_count": 176,
          "metadata": {},
          "output_type": "execute_result"
        },
        {
          "data": {
            "image/png": "[encoded data removed]",
            "text/plain": [
              "<Figure size 640x480 with 1 Axes>"
            ]
          },
          "metadata": {},
          "output_type": "display_data"
        }
      ],
      "source": [
        "plt.figure()\n",
        "plt.boxplot([movie['runtime'] , show['runtime']])\n",
        "plt.title('Durata dei film e delle serie tv')\n",
        "plt.ylabel('Durata')\n",
        "plt.xticks([1, 2], ['Film', 'Serie TV'])"
      ]
    },
    {
      "cell_type": "markdown",
      "metadata": {
        "id": "Zgx2OmpCljre"
      },
      "source": [
        "### 5. OLAP\n",
        "\n",
        "Costruire una rappresentazione OLAP che conteggi i dati nelle due piattaforme raggruppando per\n",
        "- Anno di caricamento sulla piattaforma\n",
        "- Tipologia (TV SHOW o FILM)\n",
        "- Paese di produzione\n",
        "\n",
        "Proporre e discutere 2 visualizzazioni\n",
        "\n",
        "#### Abbiamo riscontrato un'elevata presenza di valori nulli per amazon_titles_combinata nella colonna \"date_added\", andiamo quindi ad eseguire questo punto del progetto utilizzando la colonna \"release_year\" perché così i risultati ottenuti saranno il più possibile precisi."
      ]
    },
    {
      "cell_type": "code",
      "execution_count": 177,
      "metadata": {
        "colab": {
          "base_uri": "https://localhost:8080/"
        },
        "id": "8LCHskZDljre",
        "outputId": "51c682f3-38fc-40ff-d4d1-a84e90c051c9"
      },
      "outputs": [
        {
          "name": "stdout",
          "output_type": "stream",
          "text": [
            "<class 'pandas.core.frame.DataFrame'>\n",
            "RangeIndex: 5313 entries, 0 to 5312\n",
            "Data columns (total 20 columns):\n",
            " #   Column             Non-Null Count  Dtype         \n",
            "---  ------             --------------  -----         \n",
            " 0   id                 5313 non-null   object        \n",
            " 1   title              5313 non-null   object        \n",
            " 2   type_x             5313 non-null   object        \n",
            " 3   description_x      5304 non-null   object        \n",
            " 4   release_year       5313 non-null   int64         \n",
            " 5   age_certification  2194 non-null   object        \n",
            " 6   runtime            5313 non-null   int64         \n",
            " 7   seasons            1051 non-null   float64       \n",
            " 8   imdb_id            4930 non-null   object        \n",
            " 9   imdb_score         4859 non-null   float64       \n",
            " 10  imdb_votes         4852 non-null   float64       \n",
            " 11  tmdb_popularity    5311 non-null   float64       \n",
            " 12  tmdb_score         4876 non-null   float64       \n",
            " 13  country            5313 non-null   object        \n",
            " 14  date_added         2663 non-null   datetime64[ns]\n",
            " 15  year_added         2663 non-null   float64       \n",
            " 16  month_added        2663 non-null   float64       \n",
            " 17  genres_number      5313 non-null   int64         \n",
            " 18  cast_number        5313 non-null   int64         \n",
            " 19  director           4451 non-null   object        \n",
            "dtypes: datetime64[ns](1), float64(7), int64(4), object(8)\n",
            "memory usage: 830.3+ KB\n"
          ]
        }
      ],
      "source": [
        "titles_combinata = pd.concat([amazon_titles_combinata, netflix_titles_combinata]).reset_index(drop=True)\n",
        "titles_combinata.info()"
      ]
    },
    {
      "attachments": {},
      "cell_type": "markdown",
      "metadata": {
        "id": "nsB_uha2ljrf"
      },
      "source": [
        "Dopo il merge facendo una info vediamo che i date added sono poco piú di 38k, che corrispondono soltanto a netflix(questo lo avevamo visto anche prima), quindi per avere dei risultati piú attendibili, abbimao deciso di usare release year che che contiene piú di 74k date, che sono la somma totale dell'unione dei 2. Questo ci permetterá di fare una analisi piú accurata e con dei dati piú significativi.\n",
        "\n",
        "Come visto nei laboratori, andiamo a quantizzare i film in base all'anno di rilascio.\n"
      ]
    },
    {
      "cell_type": "code",
      "execution_count": 178,
      "metadata": {
        "id": "O4kpZsMiljrf"
      },
      "outputs": [],
      "source": [
        "titles_combinata.loc[titles_combinata['release_year'].between(1900,1980,'both'),'release_year_quant']='VERY OLD'\n",
        "titles_combinata.loc[titles_combinata['release_year'].between(1981,2000,'both'),'release_year_quant']='OLD'\n",
        "titles_combinata.loc[titles_combinata['release_year'].between(2001,2015,'both'),'release_year_quant']='RECENT'\n",
        "titles_combinata.loc[titles_combinata['release_year'].between(2016,2023,'both'),'release_year_quant']='VERY RECENT'"
      ]
    },
    {
      "cell_type": "code",
      "execution_count": 179,
      "metadata": {
        "colab": {
          "base_uri": "https://localhost:8080/"
        },
        "id": "fI5u9QxHljrf",
        "outputId": "4b810a51-3431-4074-94e3-f345a50e7a8d"
      },
      "outputs": [
        {
          "data": {
            "text/plain": [
              "0          VERY OLD\n",
              "1          VERY OLD\n",
              "2          VERY OLD\n",
              "3          VERY OLD\n",
              "4          VERY OLD\n",
              "           ...     \n",
              "5308    VERY RECENT\n",
              "5309    VERY RECENT\n",
              "5310    VERY RECENT\n",
              "5311    VERY RECENT\n",
              "5312    VERY RECENT\n",
              "Name: release_year_quant, Length: 5313, dtype: object"
            ]
          },
          "execution_count": 179,
          "metadata": {},
          "output_type": "execute_result"
        }
      ],
      "source": [
        "titles_combinata['release_year_quant']"
      ]
    },
    {
      "attachments": {},
      "cell_type": "markdown",
      "metadata": {
        "id": "hxb5EMcxljrf"
      },
      "source": [
        "con questo verifichiamo che type non abbia valori nulli, all'interno di type_x abbiamo solo due tipi di valori possibili (MOVIE e SHOW) ed è già quindi quantizzato."
      ]
    },
    {
      "cell_type": "code",
      "execution_count": 180,
      "metadata": {
        "colab": {
          "base_uri": "https://localhost:8080/"
        },
        "id": "DApCUZYJljrf",
        "outputId": "86129af4-dfa3-48a1-bda5-becb6015a184"
      },
      "outputs": [
        {
          "data": {
            "text/plain": [
              "0"
            ]
          },
          "execution_count": 180,
          "metadata": {},
          "output_type": "execute_result"
        }
      ],
      "source": [
        "titles_combinata['type_x'].isnull().sum()"
      ]
    },
    {
      "attachments": {},
      "cell_type": "markdown",
      "metadata": {
        "id": "yfyZe4sYljrg"
      },
      "source": [
        "facciamo la stessa cosa per country, che però deve essere ancora quantizzato"
      ]
    },
    {
      "cell_type": "code",
      "execution_count": 181,
      "metadata": {
        "colab": {
          "base_uri": "https://localhost:8080/"
        },
        "id": "ddPeOMfgljrg",
        "outputId": "9fabd17a-a8ab-489a-c50e-46cbd1b87f45"
      },
      "outputs": [
        {
          "data": {
            "text/plain": [
              "0"
            ]
          },
          "execution_count": 181,
          "metadata": {},
          "output_type": "execute_result"
        }
      ],
      "source": [
        "titles_combinata['country'].isnull().sum()"
      ]
    },
    {
      "attachments": {},
      "cell_type": "markdown",
      "metadata": {},
      "source": [
        "Confrontandoci con altri studenti e parlando con i professori siamo arrivati alla conclusione che per poter mettere in atto l'OLAP dovevamo \n",
        "in qualche modo suddividere gli stati per ogni film/serie tv, abbiamo deciso quindi di creare dei macro gruppi (simil continenti ma separando Nord America dal Sud) in modo tale da ridurre gli elementi da molti a 6.\n",
        "\n",
        "Questo lo facciamo andando a contare quanti stati appartengono ad un determinato continente per ogni film/serie, associamo poi al film/serie il continente con più stati."
      ]
    },
    {
      "cell_type": "code",
      "execution_count": 182,
      "metadata": {
        "colab": {
          "base_uri": "https://localhost:8080/",
          "height": 560
        },
        "id": "BjxF4n0cljrg",
        "outputId": "1d4b7aa8-5c7e-497b-9bf7-96bbcb6fea33"
      },
      "outputs": [
        {
          "data": {
            "text/html": [
              "<div>\n",
              "<style scoped>\n",
              "    .dataframe tbody tr th:only-of-type {\n",
              "        vertical-align: middle;\n",
              "    }\n",
              "\n",
              "    .dataframe tbody tr th {\n",
              "        vertical-align: top;\n",
              "    }\n",
              "\n",
              "    .dataframe thead th {\n",
              "        text-align: right;\n",
              "    }\n",
              "</style>\n",
              "<table border=\"1\" class=\"dataframe\">\n",
              "  <thead>\n",
              "    <tr style=\"text-align: right;\">\n",
              "      <th></th>\n",
              "      <th>id</th>\n",
              "      <th>title</th>\n",
              "      <th>type_x</th>\n",
              "      <th>description_x</th>\n",
              "      <th>release_year</th>\n",
              "      <th>age_certification</th>\n",
              "      <th>runtime</th>\n",
              "      <th>seasons</th>\n",
              "      <th>imdb_id</th>\n",
              "      <th>imdb_score</th>\n",
              "      <th>...</th>\n",
              "      <th>tmdb_score</th>\n",
              "      <th>country</th>\n",
              "      <th>date_added</th>\n",
              "      <th>year_added</th>\n",
              "      <th>month_added</th>\n",
              "      <th>genres_number</th>\n",
              "      <th>cast_number</th>\n",
              "      <th>director</th>\n",
              "      <th>release_year_quant</th>\n",
              "      <th>continente</th>\n",
              "    </tr>\n",
              "  </thead>\n",
              "  <tbody>\n",
              "    <tr>\n",
              "      <th>0</th>\n",
              "      <td>tm83884</td>\n",
              "      <td>His Girl Friday</td>\n",
              "      <td>MOVIE</td>\n",
              "      <td>Hildy, the journalist former wife of newspaper...</td>\n",
              "      <td>1940</td>\n",
              "      <td>NaN</td>\n",
              "      <td>92</td>\n",
              "      <td>NaN</td>\n",
              "      <td>tt0032599</td>\n",
              "      <td>7.8</td>\n",
              "      <td>...</td>\n",
              "      <td>7.400</td>\n",
              "      <td>['US']</td>\n",
              "      <td>NaT</td>\n",
              "      <td>NaN</td>\n",
              "      <td>NaN</td>\n",
              "      <td>3</td>\n",
              "      <td>36</td>\n",
              "      <td>Howard Hawks</td>\n",
              "      <td>VERY OLD</td>\n",
              "      <td>[North America]</td>\n",
              "    </tr>\n",
              "    <tr>\n",
              "      <th>1</th>\n",
              "      <td>tm88469</td>\n",
              "      <td>The Bishop's Wife</td>\n",
              "      <td>MOVIE</td>\n",
              "      <td>An Episcopal Bishop, Henry Brougham, has been ...</td>\n",
              "      <td>1948</td>\n",
              "      <td>NaN</td>\n",
              "      <td>105</td>\n",
              "      <td>NaN</td>\n",
              "      <td>tt0039190</td>\n",
              "      <td>7.6</td>\n",
              "      <td>...</td>\n",
              "      <td>7.100</td>\n",
              "      <td>['US']</td>\n",
              "      <td>NaT</td>\n",
              "      <td>NaN</td>\n",
              "      <td>NaN</td>\n",
              "      <td>4</td>\n",
              "      <td>30</td>\n",
              "      <td>Henry Koster</td>\n",
              "      <td>VERY OLD</td>\n",
              "      <td>[North America]</td>\n",
              "    </tr>\n",
              "    <tr>\n",
              "      <th>2</th>\n",
              "      <td>tm82560</td>\n",
              "      <td>The Little Foxes</td>\n",
              "      <td>MOVIE</td>\n",
              "      <td>The ruthless, moneyed Hubbard clan lives in, a...</td>\n",
              "      <td>1941</td>\n",
              "      <td>NaN</td>\n",
              "      <td>115</td>\n",
              "      <td>NaN</td>\n",
              "      <td>tt0033836</td>\n",
              "      <td>7.9</td>\n",
              "      <td>...</td>\n",
              "      <td>7.559</td>\n",
              "      <td>['US']</td>\n",
              "      <td>NaT</td>\n",
              "      <td>NaN</td>\n",
              "      <td>NaN</td>\n",
              "      <td>3</td>\n",
              "      <td>24</td>\n",
              "      <td>William Wyler</td>\n",
              "      <td>VERY OLD</td>\n",
              "      <td>[North America]</td>\n",
              "    </tr>\n",
              "    <tr>\n",
              "      <th>3</th>\n",
              "      <td>tm116781</td>\n",
              "      <td>My Man Godfrey</td>\n",
              "      <td>MOVIE</td>\n",
              "      <td>Fifth Avenue socialite Irene Bullock needs a \"...</td>\n",
              "      <td>1936</td>\n",
              "      <td>NaN</td>\n",
              "      <td>95</td>\n",
              "      <td>NaN</td>\n",
              "      <td>tt0028010</td>\n",
              "      <td>8.0</td>\n",
              "      <td>...</td>\n",
              "      <td>7.560</td>\n",
              "      <td>['US']</td>\n",
              "      <td>NaT</td>\n",
              "      <td>NaN</td>\n",
              "      <td>NaN</td>\n",
              "      <td>3</td>\n",
              "      <td>44</td>\n",
              "      <td>Gregory La Cava</td>\n",
              "      <td>VERY OLD</td>\n",
              "      <td>[North America]</td>\n",
              "    </tr>\n",
              "    <tr>\n",
              "      <th>4</th>\n",
              "      <td>tm120863</td>\n",
              "      <td>Dodsworth</td>\n",
              "      <td>MOVIE</td>\n",
              "      <td>A retired auto manufacturer and his wife take ...</td>\n",
              "      <td>1936</td>\n",
              "      <td>NaN</td>\n",
              "      <td>101</td>\n",
              "      <td>NaN</td>\n",
              "      <td>tt0027532</td>\n",
              "      <td>7.8</td>\n",
              "      <td>...</td>\n",
              "      <td>7.200</td>\n",
              "      <td>['US']</td>\n",
              "      <td>NaT</td>\n",
              "      <td>NaN</td>\n",
              "      <td>NaN</td>\n",
              "      <td>2</td>\n",
              "      <td>41</td>\n",
              "      <td>William Wyler</td>\n",
              "      <td>VERY OLD</td>\n",
              "      <td>[North America]</td>\n",
              "    </tr>\n",
              "  </tbody>\n",
              "</table>\n",
              "<p>5 rows × 22 columns</p>\n",
              "</div>"
            ],
            "text/plain": [
              "         id              title type_x  \\\n",
              "0   tm83884    His Girl Friday  MOVIE   \n",
              "1   tm88469  The Bishop's Wife  MOVIE   \n",
              "2   tm82560   The Little Foxes  MOVIE   \n",
              "3  tm116781     My Man Godfrey  MOVIE   \n",
              "4  tm120863          Dodsworth  MOVIE   \n",
              "\n",
              "                                       description_x  release_year  \\\n",
              "0  Hildy, the journalist former wife of newspaper...          1940   \n",
              "1  An Episcopal Bishop, Henry Brougham, has been ...          1948   \n",
              "2  The ruthless, moneyed Hubbard clan lives in, a...          1941   \n",
              "3  Fifth Avenue socialite Irene Bullock needs a \"...          1936   \n",
              "4  A retired auto manufacturer and his wife take ...          1936   \n",
              "\n",
              "  age_certification  runtime  seasons    imdb_id  imdb_score  ...  tmdb_score  \\\n",
              "0               NaN       92      NaN  tt0032599         7.8  ...       7.400   \n",
              "1               NaN      105      NaN  tt0039190         7.6  ...       7.100   \n",
              "2               NaN      115      NaN  tt0033836         7.9  ...       7.559   \n",
              "3               NaN       95      NaN  tt0028010         8.0  ...       7.560   \n",
              "4               NaN      101      NaN  tt0027532         7.8  ...       7.200   \n",
              "\n",
              "   country  date_added year_added month_added  genres_number  cast_number  \\\n",
              "0   ['US']         NaT        NaN         NaN              3           36   \n",
              "1   ['US']         NaT        NaN         NaN              4           30   \n",
              "2   ['US']         NaT        NaN         NaN              3           24   \n",
              "3   ['US']         NaT        NaN         NaN              3           44   \n",
              "4   ['US']         NaT        NaN         NaN              2           41   \n",
              "\n",
              "          director  release_year_quant       continente  \n",
              "0     Howard Hawks            VERY OLD  [North America]  \n",
              "1     Henry Koster            VERY OLD  [North America]  \n",
              "2    William Wyler            VERY OLD  [North America]  \n",
              "3  Gregory La Cava            VERY OLD  [North America]  \n",
              "4    William Wyler            VERY OLD  [North America]  \n",
              "\n",
              "[5 rows x 22 columns]"
            ]
          },
          "execution_count": 182,
          "metadata": {},
          "output_type": "execute_result"
        }
      ],
      "source": [
        "\n",
        "# ci andiamo a creare un dizionario che associa ad ogni \"continente\" gli stati da lui contenuti\n",
        "continenti = {\n",
        "    'Asia': ['AF', 'AM', 'AZ', 'BH', 'BD', 'BT', 'BN', 'KH', 'CN', 'CY', 'GE', 'IN', 'ID', 'IR', 'IQ', 'IL', 'JP', 'JO', 'KZ', 'KW', 'KG', 'LA', 'LB', 'MY', 'MV', 'MN', 'MM', 'NP', 'KP', 'OM', 'PK', 'PH', 'QA', 'RU', 'SA', 'SG', 'KR', 'LK', 'SY', 'TW', 'TJ', 'TH', 'TR', 'TM', 'AE', 'UZ', 'VN', 'YE'],  \n",
        "    'Africa': ['DZ', 'AO', 'BJ', 'BW', 'BF', 'BI', 'CV', 'CM', 'CF', 'TD', 'KM', 'CD', 'CG', 'DJ', 'EG', 'GQ', 'ER', 'SZ', 'ET', 'GA', 'GM', 'GH', 'GN', 'GW', 'KE', 'LS', 'LR', 'LY', 'MG', 'MW', 'ML', 'MR', 'MU', 'MA', 'MZ', 'NA', 'NE', 'NG', 'RW', 'ST', 'SN', 'SC', 'SL', 'SO', 'ZA', 'SS', 'SD', 'SZ', 'TZ', 'TG', 'TN', 'UG', 'EH', 'ZM', 'ZW'],  \n",
        "    'North America': ['AG', 'BS', 'BB', 'BZ', 'CA', 'CR', 'CU', 'DM', 'DO', 'SV', 'GD', 'GT', 'HT', 'HN', 'JM', 'MX', 'NI', 'PA', 'KN', 'LC', 'VC', 'TT', 'US'],  \n",
        "    'South America': ['AR', 'BO', 'BR', 'CL', 'CO', 'EC', 'GY', 'PY', 'PE', 'SR', 'UY', 'VE'],  \n",
        "    'Europe': ['AL', 'AD', 'AM', 'AT', 'BY', 'BE', 'BA', 'BG', 'HR', 'CY', 'CZ', 'DK', 'EE', 'FI', 'FR', 'GE', 'DE', 'GR', 'HU', 'IS', 'IE', 'IT', 'KZ', 'XK', 'LV', 'LI', 'LT', 'LU', 'MT', 'MD', 'MC', 'ME', 'NL', 'MK', 'NO', 'PL', 'PT', 'RO', 'RU', 'SM', 'RS', 'SK', 'SI', 'ES', 'SE', 'CH', 'TR', 'UA', 'GB', 'VA'],  \n",
        "    'Oceania': ['AU', 'FJ', 'KI', 'MH', 'FM', 'NR', 'NZ', 'PW', 'PG', 'WS', 'SB', 'TO', 'TV', 'VU']\n",
        "}\n",
        "\n",
        "def da_stato_a_continente(country):\n",
        "    stati = eval(country)\n",
        "    conto_continenti = {continente: 0 for continente in continenti.keys()} # questo è il dizionario che setta ogni continente a zero\n",
        "    \n",
        "    for c in stati:\n",
        "        c = c.strip(\"'[]\")\n",
        "        for continente, countries in continenti.items():\n",
        "            if c in countries:\n",
        "                conto_continenti[continente] += 1\n",
        "    \n",
        "    max_cont = max(conto_continenti.values())  # troviamo il massimo\n",
        "    max_continente = [continente for continente, count in conto_continenti.items() if count == max_cont]  # mi trovo i continenti con valore massimo\n",
        "    \n",
        "    return max_continente if max_continente else ['Unknown']  # se ho un massimo restituisco altrimenti restituisco Unknown\n",
        "\n",
        "titles_combinata['continente'] = titles_combinata['country'].apply(da_stato_a_continente)\n",
        "\n",
        "\n",
        "titles_combinata.head()"
      ]
    },
    {
      "cell_type": "code",
      "execution_count": 183,
      "metadata": {
        "id": "0ZNe0fdMljrg"
      },
      "outputs": [],
      "source": [
        "quantize_type = ['MOVIE', 'SHOW']\n",
        "quantize_country = ['Asia', 'Africa', 'North America', 'South America', 'Europe', 'Oceania']\n",
        "quantize_release_year = ['VERY OLD', 'OLD', 'RECENT', 'VERY RECENT']\n",
        "\n",
        "# ci creiamo l'OLAP con tutti zeri\n",
        "OLAP = np.zeros((len(quantize_country), len(quantize_release_year), len(quantize_type)))\n",
        "\n",
        "#ci andiamo a calcolare l'OLAP come richiesto \n",
        "for z in range(len(quantize_type)):\n",
        "    tipi = titles_combinata[titles_combinata['type_x'] == quantize_type[z]]\n",
        "    for j in range(len(quantize_release_year)):\n",
        "        for i in range(len(quantize_country)):\n",
        "            continent = quantize_country[i]\n",
        "            release_year = quantize_release_year[j]\n",
        "             # con \"lambda\" andiamo a controllare se la riga continente appartiene ad uno dei continenti e se l'anno di rilascio appartiene alle possibili che abbiamo creato\n",
        "            OLAP[i, j, z] = np.sum(tipi.apply(lambda row: continent in row['continente'] and row['release_year_quant'] == release_year,axis=1))"
      ]
    },
    {
      "attachments": {},
      "cell_type": "markdown",
      "metadata": {
        "id": "rT6HANz6ObjC"
      },
      "source": [
        "Come visto nei laboratori e consigliato dal prof andiamo a fare le due visualizzazioni richieste attraverso uno slicing ed un dicing.\n",
        "\n",
        "Andiamo a fare uno slicing dell'olap ottenuto concentrandoci sul Nord America"
      ]
    },
    {
      "cell_type": "code",
      "execution_count": 184,
      "metadata": {
        "colab": {
          "base_uri": "https://localhost:8080/",
          "height": 564
        },
        "id": "09TdqpO_OlQ5",
        "outputId": "85c43f21-68c8-4349-9ef3-fe45bf035ce2"
      },
      "outputs": [
        {
          "data": {
            "image/png": "[encoded data removed]",
            "text/plain": [
              "<Figure size 1000x600 with 1 Axes>"
            ]
          },
          "metadata": {},
          "output_type": "display_data"
        }
      ],
      "source": [
        "\n",
        "slicing = OLAP[2, :, :]\n",
        "\n",
        "x_labels = quantize_release_year\n",
        "y_labels = quantize_type\n",
        "\n",
        "#Andiamo a vedere lo slicing in modo grafico\n",
        "plt.figure(figsize=(10, 6))\n",
        "bar_width = 0.4\n",
        "\n",
        "for i in range(len(y_labels)):\n",
        "    plt.bar(\n",
        "        range(len(x_labels)),\n",
        "        slicing[:, i],\n",
        "        width=bar_width,\n",
        "        label=y_labels[i],\n",
        "        align='center',\n",
        "        alpha=0.8\n",
        "    )\n",
        "\n",
        "plt.xticks(range(len(x_labels)), x_labels)\n",
        "plt.xlabel('Anno di rilascio')\n",
        "plt.ylabel('Numero di programmi')\n",
        "plt.title('Slicing dell\\'OLAP per il continente: Nord America')\n",
        "plt.legend()\n",
        "\n",
        "plt.show()\n"
      ]
    },
    {
      "attachments": {},
      "cell_type": "markdown",
      "metadata": {},
      "source": [
        "Andiamo a visualizzare un dicing concentrandoci sui film"
      ]
    },
    {
      "cell_type": "code",
      "execution_count": 185,
      "metadata": {
        "colab": {
          "base_uri": "https://localhost:8080/",
          "height": 628
        },
        "id": "z6_y0SqTPIEu",
        "outputId": "fc01223d-6a09-431f-8ebb-1db4401efd54"
      },
      "outputs": [
        {
          "data": {
            "image/png": "[encoded data removed]",
            "text/plain": [
              "<Figure size 1000x600 with 1 Axes>"
            ]
          },
          "metadata": {},
          "output_type": "display_data"
        }
      ],
      "source": [
        "dicing = OLAP[:, :, 0]\n",
        "\n",
        "x_labels = quantize_release_year\n",
        "y_labels = quantize_country\n",
        "\n",
        "#Andiamo a vedere lo dicing in modo grafico\n",
        "plt.figure(figsize=(10, 6))\n",
        "bar_width = 0.8 / len(y_labels)\n",
        "index = np.arange(len(x_labels))\n",
        "\n",
        "for i in range(len(y_labels)):\n",
        "    plt.bar(\n",
        "        index + i * bar_width,\n",
        "        dicing[i, :],\n",
        "        bar_width,\n",
        "        label=y_labels[i],\n",
        "        align='center',\n",
        "        alpha=0.8\n",
        "    )\n",
        "\n",
        "plt.xlabel('Anno di rilascio')\n",
        "plt.ylabel('Numero di programmi')\n",
        "plt.title('Dicing dell\\'OLAP per il tipo di programma: ' + quantize_type[0])\n",
        "plt.xticks(index + (bar_width * len(y_labels)) / 2, x_labels, rotation=45)\n",
        "plt.legend()\n",
        "\n",
        "plt.show()\n"
      ]
    },
    {
      "cell_type": "code",
      "execution_count": 186,
      "metadata": {
        "colab": {
          "base_uri": "https://localhost:8080/"
        },
        "id": "GT1LuMmANgwL",
        "outputId": "231ed9e5-163a-4590-bed8-9c0b19e0fc54"
      },
      "outputs": [
        {
          "name": "stdout",
          "output_type": "stream",
          "text": [
            "<class 'pandas.core.frame.DataFrame'>\n",
            "RangeIndex: 5313 entries, 0 to 5312\n",
            "Data columns (total 22 columns):\n",
            " #   Column              Non-Null Count  Dtype         \n",
            "---  ------              --------------  -----         \n",
            " 0   id                  5313 non-null   object        \n",
            " 1   title               5313 non-null   object        \n",
            " 2   type_x              5313 non-null   object        \n",
            " 3   description_x       5304 non-null   object        \n",
            " 4   release_year        5313 non-null   int64         \n",
            " 5   age_certification   2194 non-null   object        \n",
            " 6   runtime             5313 non-null   int64         \n",
            " 7   seasons             1051 non-null   float64       \n",
            " 8   imdb_id             4930 non-null   object        \n",
            " 9   imdb_score          4859 non-null   float64       \n",
            " 10  imdb_votes          4852 non-null   float64       \n",
            " 11  tmdb_popularity     5311 non-null   float64       \n",
            " 12  tmdb_score          4876 non-null   float64       \n",
            " 13  country             5313 non-null   object        \n",
            " 14  date_added          2663 non-null   datetime64[ns]\n",
            " 15  year_added          2663 non-null   float64       \n",
            " 16  month_added         2663 non-null   float64       \n",
            " 17  genres_number       5313 non-null   int64         \n",
            " 18  cast_number         5313 non-null   int64         \n",
            " 19  director            4451 non-null   object        \n",
            " 20  release_year_quant  5313 non-null   object        \n",
            " 21  continente          5313 non-null   object        \n",
            "dtypes: datetime64[ns](1), float64(7), int64(4), object(10)\n",
            "memory usage: 913.3+ KB\n"
          ]
        }
      ],
      "source": [
        "titles_combinata.info()"
      ]
    },
    {
      "cell_type": "markdown",
      "metadata": {
        "id": "jUkuEMRUNgwL"
      },
      "source": [
        "## 6. Metodi predittivi\n",
        "\n",
        "Costruire un descrittore composto da\n",
        "\n",
        "- type\n",
        "- imdb_score\n",
        "- tmdbs_score\n",
        "-  tmdbs_popularity\n",
        "-  runtime\n",
        "\n",
        "\n",
        "Applicare K-Means per individuare eventuali gruppi coerenti tra i dati. \n",
        "\n",
        "Calcolare l'indice di Silhouette per individuare il numero migliore di cluster.\n",
        "\n",
        "Applicare PCA per poter visualizzare i dati, colorando ogni campione secondo l'appartenenza ad uno dei cluster.\n",
        "Verificare cosa succede tenendo i dati separati per piattaforma."
      ]
    },
    {
      "cell_type": "code",
      "execution_count": 187,
      "metadata": {
        "colab": {
          "base_uri": "https://localhost:8080/"
        },
        "id": "Zvt0_uVIWGwj",
        "outputId": "d06188c4-0e9c-4760-b5f1-bcdc76159e11"
      },
      "outputs": [
        {
          "name": "stdout",
          "output_type": "stream",
          "text": [
            "0        92\n",
            "1       105\n",
            "2       115\n",
            "3        95\n",
            "4       101\n",
            "       ... \n",
            "5308     30\n",
            "5309     89\n",
            "5310     32\n",
            "5311     23\n",
            "5312     81\n",
            "Name: runtime, Length: 5313, dtype: int64\n"
          ]
        }
      ],
      "source": [
        "print(titles_combinata['runtime'])"
      ]
    },
    {
      "cell_type": "code",
      "execution_count": 188,
      "metadata": {
        "colab": {
          "base_uri": "https://localhost:8080/",
          "height": 508
        },
        "id": "JgN-dSOqNgwL",
        "outputId": "c9ce2dce-273c-41a9-bc2e-88f371f81110"
      },
      "outputs": [
        {
          "name": "stdout",
          "output_type": "stream",
          "text": [
            "Il numero ottimale di cluster è: 2\n",
            "Il valore di Silhouette è:: 0.4650070224411148\n"
          ]
        },
        {
          "data": {
            "image/png": "[encoded data removed]",
            "text/plain": [
              "<Figure size 640x480 with 1 Axes>"
            ]
          },
          "metadata": {},
          "output_type": "display_data"
        }
      ],
      "source": [
        "# prima di tutto importiamo le librerie necessarie\n",
        "from sklearn.cluster import KMeans\n",
        "from sklearn.metrics import silhouette_score\n",
        "from sklearn.decomposition import PCA\n",
        "from sklearn.preprocessing import StandardScaler\n",
        "import numpy as np\n",
        "import matplotlib.pyplot as plt\n",
        "\n",
        "# ci creiamo il descrittore con le colonne richieste\n",
        "descrittore = titles_combinata[['type_x', 'imdb_score', 'tmdb_score', 'tmdb_popularity', 'runtime']]\n",
        "\n",
        "# per sicurezza togliamo gli eventuali valori nulli\n",
        "descrittore = descrittore.dropna()\n",
        "\n",
        "# andiamo a sostituire il valore in type_x in modo che MOVIE diventi 0 e SHOW 1 attraverso una funzione, altrimenti non potremmo applicare K-Means\n",
        "def fromType_to_number(dataset):\n",
        "    dataset['type_x'] = dataset['type_x'].apply(lambda x: 0 if x == 'MOVIE' else 1)\n",
        "    return dataset\n",
        "\n",
        "descrittore = fromType_to_number(descrittore)\n",
        "\n",
        "# Andiamo ad applicare la normalizzazione ai dati, così facendo dovrebbe risultare un K-Means più uniforme\n",
        "scaler = StandardScaler()\n",
        "dati_normalizzati = scaler.fit_transform(descrittore)\n",
        "\n",
        "# Andiamo ad applicare K-Means per trovare il numero ottimale di cluster, fatto ciò andiamo poi ad applicarlo\n",
        "k_values = range(2,10)  # Valori di k da testare\n",
        "silhouette_scores = []\n",
        "\n",
        "for k in k_values:\n",
        "    kmeans = KMeans(n_clusters=k, n_init=10, random_state=42)\n",
        "    cluster_labels = kmeans.fit_predict(dati_normalizzati)\n",
        "    silhouette_scores.append(silhouette_score(dati_normalizzati, cluster_labels))\n",
        "\n",
        "# Trova il numero di cluster con il valore massimo di Silhouette score\n",
        "k_migliore = k_values[np.argmax(silhouette_scores)]\n",
        "silhuette_migliore = max(silhouette_scores)\n",
        "\n",
        "print(\"Il numero ottimale di cluster è:\", k_migliore)\n",
        "print(\"Il valore di Silhouette è::\", silhuette_migliore)\n",
        "\n",
        "kmeans = KMeans(n_clusters=k_migliore, n_init=10, random_state=42)\n",
        "cluster_labels = kmeans.fit_predict(dati_normalizzati)\n",
        "\n",
        "# Andiamo poi ad applicare il PCA\n",
        "pca = PCA(n_components=2)\n",
        "dati_ridotti = pca.fit_transform(dati_normalizzati)\n",
        "\n",
        "# Crea un grafico con i dati ridotti dalla PCA e colorali in base all'appartenenza ai cluster\n",
        "plt.scatter(dati_ridotti[:, 0], dati_ridotti[:, 1], c=cluster_labels)\n",
        "plt.xlabel(\"Componente principale 1\")\n",
        "plt.ylabel(\"Componente principale 2\")\n",
        "plt.title(\"Visualizzazione PCA dei dati delle due piattaforme\")\n",
        "plt.show()\n"
      ]
    },
    {
      "cell_type": "markdown",
      "metadata": {
        "id": "fF2oMug5aDt4"
      },
      "source": [
        "Abbiamo trovato che il numero di cluster ottimale è 2, il set di dati sembra essere suddivisibile in due gruppi coerenti.\n",
        "\n",
        "L'indice di Silhouette è una metrica utilizzata per valutare la coerenza dei cluster. Varia tra -1 e 1, più i valori sono vicini a 1 più significa che i campioni all'interno di un cluster sono molto simili tra loro, mentre invece più i valori sono vicini a -1 più significa che i campioni potrebbero essere stati assegnati erroneamente a un cluster. Un valore di Silhouette score di 0 indica che i campioni si sovrappongono tra i cluster.\n",
        "\n",
        "Il nostro valore si Silhouette è 0.46500702244109404. \n",
        "Questo ci suggerisce che i campioni sono raggruppati in modo coerente all'interno dei due cluster identificati. \n",
        "\n",
        "Tuttavia, poiché il valore di Silhouette è meno di 1, potrebbe esserci una sovrapposizione o ambiguità nella suddivisione dei campioni in cluster."
      ]
    },
    {
      "cell_type": "markdown",
      "metadata": {
        "id": "RSmDCNVEXubZ"
      },
      "source": [
        "###Rifacciamo quanto visto sopra ma con le piattaforme separate"
      ]
    },
    {
      "cell_type": "code",
      "execution_count": 189,
      "metadata": {
        "colab": {
          "base_uri": "https://localhost:8080/",
          "height": 508
        },
        "id": "k0m0U72ZXypN",
        "outputId": "4715aa40-a98e-4505-8a13-c946dd8ba02e"
      },
      "outputs": [
        {
          "name": "stdout",
          "output_type": "stream",
          "text": [
            "Il numero ottimale di cluster è: 2\n",
            "Il valore di Silhouette è: 0.42803780495987365\n"
          ]
        },
        {
          "data": {
            "image/png": "[encoded data removed]",
            "text/plain": [
              "<Figure size 640x480 with 1 Axes>"
            ]
          },
          "metadata": {},
          "output_type": "display_data"
        }
      ],
      "source": [
        "# ci creiamo il descrittore con le colonne richieste\n",
        "descrittore = netflix_titles_combinata[['type_x', 'imdb_score', 'tmdb_score', 'tmdb_popularity', 'runtime']]\n",
        "\n",
        "# per sicurezza togliamo gli eventuali valori nulli\n",
        "descrittore = descrittore.dropna()\n",
        "\n",
        "# andiamo a sostituire il valore in type_x in modo che MOVIE diventi 0 e SHOW 1 attraverso una funzione, altrimenti non potremmo applicare K-Means\n",
        "def fromType_to_number(dataset):\n",
        "    dataset['type_x'] = dataset['type_x'].apply(lambda x: 0 if x == 'MOVIE' else 1)\n",
        "    return dataset\n",
        "\n",
        "descrittore = fromType_to_number(descrittore)\n",
        "\n",
        "# Andiamo ad applicare la normalizzazione ai dati, così facendo dovrebbe risultare un K-Means più uniforme\n",
        "scaler = StandardScaler()\n",
        "dati_normalizzati = scaler.fit_transform(descrittore)\n",
        "\n",
        "# Andiamo ad applicare K-Means per trovare il numero ottimale di cluster, fatto ciò andiamo poi ad applicarlo\n",
        "k_values = range(2,10)  # Valori di k da testare\n",
        "silhouette_scores = []\n",
        "\n",
        "for k in k_values:\n",
        "    kmeans = KMeans(n_clusters=k, n_init=10, random_state=42)\n",
        "    cluster_labels = kmeans.fit_predict(dati_normalizzati)\n",
        "    silhouette_scores.append(silhouette_score(dati_normalizzati, cluster_labels))\n",
        "\n",
        "# Trova il numero di cluster con il valore massimo di Silhouette score\n",
        "k_migliore = k_values[np.argmax(silhouette_scores)]\n",
        "silhuette_migliore = max(silhouette_scores)\n",
        "\n",
        "print(\"Il numero ottimale di cluster è:\", k_migliore)\n",
        "print(\"Il valore di Silhouette è:\", silhuette_migliore)\n",
        "\n",
        "kmeans = KMeans(n_clusters=k_migliore, n_init=10, random_state=42)\n",
        "cluster_labels = kmeans.fit_predict(dati_normalizzati)\n",
        "\n",
        "# Andiamo poi ad applicare il PCA\n",
        "pca = PCA(n_components=2)\n",
        "dati_ridotti = pca.fit_transform(dati_normalizzati)\n",
        "\n",
        "# Crea un grafico con i dati ridotti dalla PCA e colorali in base all'appartenenza ai cluster\n",
        "plt.scatter(dati_ridotti[:, 0], dati_ridotti[:, 1], c=cluster_labels)\n",
        "plt.xlabel(\"Componente principale 1\")\n",
        "plt.ylabel(\"Componente principale 2\")\n",
        "plt.title(\"Visualizzazione PCA dei dati per Netflix\")\n",
        "plt.show()\n"
      ]
    },
    {
      "cell_type": "markdown",
      "metadata": {
        "id": "uWrsVXtMd-pu"
      },
      "source": [
        "Abbiamo trovato che il numero di cluster ottimale è 2, il set di dati sembra essere suddivisibile in due gruppi coerenti.\n",
        "\n",
        "L'indice di Silhouette è una metrica utilizzata per valutare la coerenza dei cluster. Varia tra -1 e 1, più i valori sono vicini a 1 più significa che i campioni all'interno di un cluster sono molto simili tra loro, mentre invece più i valori sono vicini a -1 più significa che i campioni potrebbero essere stati assegnati erroneamente a un cluster. Un valore di Silhouette score di 0 indica che i campioni si sovrappongono tra i cluster.\n",
        "\n",
        "Il nostro valore si Silhouette è 0.42803780495987365. \n",
        "Questo ci suggerisce che i campioni sono raggruppati in modo coerente all'interno dei due cluster identificati. \n",
        "\n",
        "Tuttavia, poiché il valore di Silhouette è meno di 1, potrebbe esserci una sovrapposizione o ambiguità nella suddivisione dei campioni in cluster."
      ]
    },
    {
      "cell_type": "code",
      "execution_count": 190,
      "metadata": {
        "colab": {
          "base_uri": "https://localhost:8080/",
          "height": 508
        },
        "id": "vNQhLnOpYR5q",
        "outputId": "dc881371-0579-4796-ce37-829b5faac13a"
      },
      "outputs": [
        {
          "name": "stdout",
          "output_type": "stream",
          "text": [
            "Il numero ottimale di cluster è: 2\n",
            "Il valore di Silhouette è: 0.5523818455931788\n"
          ]
        },
        {
          "data": {
            "image/png": "[encoded data removed]",
            "text/plain": [
              "<Figure size 640x480 with 1 Axes>"
            ]
          },
          "metadata": {},
          "output_type": "display_data"
        }
      ],
      "source": [
        "# ci creiamo il descrittore con le colonne richieste\n",
        "descrittore = amazon_titles_combinata[['type_x', 'imdb_score', 'tmdb_score', 'tmdb_popularity', 'runtime']]\n",
        "\n",
        "# per sicurezza togliamo gli eventuali valori nulli\n",
        "descrittore = descrittore.dropna()\n",
        "\n",
        "# andiamo a sostituire il valore in type_x in modo che MOVIE diventi 0 e SHOW 1 attraverso una funzione, altrimenti non potremmo applicare K-Means\n",
        "def fromType_to_number(dataset):\n",
        "    dataset['type_x'] = dataset['type_x'].apply(lambda x: 0 if x == 'MOVIE' else 1)\n",
        "    return dataset\n",
        "\n",
        "descrittore = fromType_to_number(descrittore)\n",
        "\n",
        "# Andiamo ad applicare la normalizzazione ai dati, così facendo dovrebbe risultare un K-Means più uniforme\n",
        "scaler = StandardScaler()\n",
        "dati_normalizzati = scaler.fit_transform(descrittore)\n",
        "\n",
        "# Andiamo ad applicare K-Means per trovare il numero ottimale di cluster, fatto ciò andiamo poi ad applicarlo\n",
        "k_values = range(2,10)  # Valori di k da testare\n",
        "silhouette_scores = []\n",
        "\n",
        "for k in k_values:\n",
        "    kmeans = KMeans(n_clusters=k, n_init=10, random_state=42)\n",
        "    cluster_labels = kmeans.fit_predict(dati_normalizzati)\n",
        "    silhouette_scores.append(silhouette_score(dati_normalizzati, cluster_labels))\n",
        "\n",
        "# Trova il numero di cluster con il valore massimo di Silhouette score\n",
        "k_migliore = k_values[np.argmax(silhouette_scores)]\n",
        "silhuette_migliore = max(silhouette_scores)\n",
        "\n",
        "print(\"Il numero ottimale di cluster è:\", k_migliore)\n",
        "print(\"Il valore di Silhouette è:\", silhuette_migliore)\n",
        "\n",
        "kmeans = KMeans(n_clusters=k_migliore, n_init=10, random_state=42)\n",
        "cluster_labels = kmeans.fit_predict(dati_normalizzati)\n",
        "\n",
        "# Andiamo poi ad applicare il PCA\n",
        "pca = PCA(n_components=2)\n",
        "dati_ridotti = pca.fit_transform(dati_normalizzati)\n",
        "\n",
        "# Crea un grafico con i dati ridotti dalla PCA e colorali in base all'appartenenza ai cluster\n",
        "plt.scatter(dati_ridotti[:, 0], dati_ridotti[:, 1], c=cluster_labels)\n",
        "plt.xlabel(\"Componente principale 1\")\n",
        "plt.ylabel(\"Componente principale 2\")\n",
        "plt.title(\"Visualizzazione PCA dei dati per Amazon\")\n",
        "plt.show()\n"
      ]
    },
    {
      "cell_type": "markdown",
      "metadata": {
        "id": "OS5czCLceaIU"
      },
      "source": [
        "Abbiamo calcolato l'indice di Silhouette per valutare la coerenza dei cluster ottenuti. L'indice di Silhouette varia tra -1 e 1, dove valori più vicini a 1 indicano una maggiore coerenza all'interno dei cluster. Un valore di Silhouette pari a 0 indica una sovrapposizione tra i cluster.\n",
        "\n",
        "Nel nostro caso, l'indice di Silhouette è 0.5523818455931788. Questo valore suggerisce che i campioni all'interno dei cluster sono raggruppati in modo coerente, ma potrebbe ancora esserci una leggera sovrapposizione o ambiguità nella suddivisione dei campioni.\n",
        "\n",
        "In conclusione, i risultati indicano che i due cluster identificati hanno una certa coerenza, ma potrebbe essere necessario ulteriormente esaminare e affinare l'algoritmo di clustering per ottenere una suddivisione più definita dei campioni."
      ]
    }
  ],
  "metadata": {
    "colab": {
      "provenance": []
    },
    "kernelspec": {
      "display_name": "Python 3",
      "language": "python",
      "name": "python3"
    },
    "language_info": {
      "codemirror_mode": {
        "name": "ipython",
        "version": 3
      },
      "file_extension": ".py",
      "mimetype": "text/x-python",
      "name": "python",
      "nbconvert_exporter": "python",
      "pygments_lexer": "ipython3",
      "version": "3.9.1"
    },
    "orig_nbformat": 4
  },
  "nbformat": 4,
  "nbformat_minor": 0
}
